{
 "cells": [
  {
   "cell_type": "code",
   "execution_count": 1,
   "metadata": {},
   "outputs": [
    {
     "name": "stderr",
     "output_type": "stream",
     "text": [
      "/home/david/anaconda3/lib/python3.9/site-packages/scipy/__init__.py:146: UserWarning: A NumPy version >=1.16.5 and <1.23.0 is required for this version of SciPy (detected version 1.26.2\n",
      "  warnings.warn(f\"A NumPy version >={np_minversion} and <{np_maxversion}\"\n"
     ]
    }
   ],
   "source": [
    "import os\n",
    "import re\n",
    "import yaml\n",
    "\n",
    "# import trainer\n",
    "os.chdir('/home/david/Desktop/projects/thesis/downstream_classification')\n",
    "from executors.train_on_local_machine_v2 import trainer"
   ]
  },
  {
   "cell_type": "code",
   "execution_count": 2,
   "metadata": {},
   "outputs": [
    {
     "name": "stdout",
     "output_type": "stream",
     "text": [
      "Starting Experiment\n"
     ]
    },
    {
     "name": "stderr",
     "output_type": "stream",
     "text": [
      "Within epoch loss (training) 0.61409: 100%|██████████| 3982/3982 [10:25<00:00,  6.37it/s]\n",
      "Within epoch loss (validation) 0.54298: 100%|██████████| 416/416 [01:00<00:00,  6.83it/s]\n",
      "Within epoch loss (training) 0.52703: 100%|██████████| 3982/3982 [10:34<00:00,  6.27it/s]  \n",
      "Within epoch loss (validation) 0.54797: 100%|██████████| 416/416 [01:13<00:00,  5.64it/s]\n"
     ]
    },
    {
     "name": "stdout",
     "output_type": "stream",
     "text": [
      "model on GPU: True\n"
     ]
    },
    {
     "name": "stderr",
     "output_type": "stream",
     "text": [
      "Collecting scores: 100%|██████████| 53258/53258 [09:26<00:00, 94.09it/s]\n"
     ]
    },
    {
     "data": {
      "text/plain": [
       "(0.38548569832064694, 0)"
      ]
     },
     "execution_count": 2,
     "metadata": {},
     "output_type": "execute_result"
    },
    {
     "data": {
      "image/png": "[encoded data removed]",
      "text/plain": [
       "<Figure size 720x216 with 2 Axes>"
      ]
     },
     "metadata": {
      "needs_background": "light"
     },
     "output_type": "display_data"
    },
    {
     "data": {
      "text/plain": [
       "<Figure size 720x216 with 0 Axes>"
      ]
     },
     "metadata": {},
     "output_type": "display_data"
    }
   ],
   "source": [
    "config = {\n",
    "    \n",
    "    # general\n",
    "    'seed': 123,\n",
    "    'metadata_file_path': './data/combined_data/metadata_balanced_by_death.csv',\n",
    "    'data_folder_path': './data/individual-signals/',\n",
    "    \n",
    "    # training\n",
    "    'batch_size': 128,\n",
    "    'n_epochs': 2,\n",
    "    'weight_decay': 0.7,\n",
    "    'lr': 0.0005,\n",
    "    'eval_metric':'recall_for_precision',\n",
    "\n",
    "    # architecture\n",
    "    'targets': ['AF'],\n",
    "    'dropout': 0.1,\n",
    "    'clip': 1,\n",
    "    'scale':1,\n",
    "    'depth': 3,\n",
    "    \n",
    "    # misc\n",
    "    'model_saving_path': './models/inception-v0-death-d3-validate-that-the-code-works',\n",
    "    'verbosity':True\n",
    "}\n",
    "\n",
    "# run\n",
    "print('Starting Experiment')\n",
    "trainer(**config)"
   ]
  },
  {
   "cell_type": "code",
   "execution_count": null,
   "metadata": {},
   "outputs": [],
   "source": [
    "import sys\n",
    "sys.exit(0)"
   ]
  }
 ],
 "metadata": {
  "kernelspec": {
   "display_name": "Python 3 (ipykernel)",
   "language": "python",
   "name": "python3"
  },
  "language_info": {
   "codemirror_mode": {
    "name": "ipython",
    "version": 3
   },
   "file_extension": ".py",
   "mimetype": "text/x-python",
   "name": "python",
   "nbconvert_exporter": "python",
   "pygments_lexer": "ipython3",
   "version": "3.9.12"
  }
 },
 "nbformat": 4,
 "nbformat_minor": 2
}
