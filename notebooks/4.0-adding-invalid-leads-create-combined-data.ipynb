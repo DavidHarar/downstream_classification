{
 "cells": [
  {
   "cell_type": "code",
   "execution_count": 12,
   "metadata": {},
   "outputs": [],
   "source": [
    "import os\n",
    "import numpy as np\n",
    "import pandas as pd\n",
    "\n",
    "root = '/home/david/Desktop/projects/thesis/downstream_classification/'\n",
    "origin = root + 'data/combined_data_all_readings_with_invalid/'\n",
    "destination = root + 'data/individual-signals-with-invalid/'\n",
    "\n",
    "if not os.path.exists(destination):\n",
    "    os.makedirs(destination)\n",
    "\n",
    "os.chdir(root)\n",
    "\n"
   ]
  },
  {
   "cell_type": "code",
   "execution_count": 11,
   "metadata": {},
   "outputs": [
    {
     "data": {
      "text/plain": [
       "['LI_all_readings_2909.csv',\n",
       " 'V5_all_readings_2909.csv',\n",
       " 'LII_all_readings_2909.csv',\n",
       " 'V6_all_readings_2909.csv',\n",
       " 'LIII_all_readings_2909.csv',\n",
       " 'V3_all_readings_2909.csv',\n",
       " 'V4_all_readings_2909.csv',\n",
       " 'aVR_all_readings_2909.csv',\n",
       " 'aVL_all_readings_2909.csv',\n",
       " 'V1_all_readings_2909.csv',\n",
       " 'V2_all_readings_2909.csv',\n",
       " 'aVF_all_readings_2909.csv']"
      ]
     },
     "execution_count": 11,
     "metadata": {},
     "output_type": "execute_result"
    }
   ],
   "source": [
    "os.listdir(origin)"
   ]
  },
  {
   "attachments": {},
   "cell_type": "markdown",
   "metadata": {},
   "source": [
    "# Merge"
   ]
  },
  {
   "cell_type": "code",
   "execution_count": 24,
   "metadata": {},
   "outputs": [
    {
     "data": {
      "text/plain": [
       "['index']"
      ]
     },
     "execution_count": 24,
     "metadata": {},
     "output_type": "execute_result"
    }
   ],
   "source": [
    "leads = ['LI', 'LII', 'LIII', 'aVF', 'aVL', 'aVR','V1','V2','V3','V4','V5','V6']\n",
    "def preprocessing(df, lead):\n",
    "    df['index'] = df['index'].str.replace(f'{lead}_','')\n",
    "    df.columns = ['index']+[f'{lead}_{j}' for j in range(450)]\n",
    "    return df\n",
    "\n",
    "\n",
    "\n",
    "# init by load LI:\n",
    "combined = pd.read_csv(origin+'LI_all_readings_2909.csv', index_col = 0)\n",
    "combined  = preprocessing(df = combined, lead='LI')\n",
    "\n",
    "# merge with more leads\n",
    "for lead in leads[1:]:\n",
    "    temp_lead_df = pd.read_csv(origin+f'{lead}_all_readings_2909.csv', index_col = 0)\n",
    "    temp_lead_df = preprocessing(df = temp_lead_df, lead=lead)\n",
    "\n",
    "    assert len(temp_lead_df['index']) == len(temp_lead_df), \"There are duplicated indices\"\n",
    "\n",
    "    combined = combined.merge(temp_lead_df,\n",
    "                 on ='index',\n",
    "                 how = 'outer')\n",
    "    \n",
    "print('Total Number of Obs:', len(combined))\n",
    "combined = combined.dropna()\n",
    "print('Number of Obs w/out empties:', len(combined))\n",
    "\n",
    "combined.iloc[:5]"
   ]
  },
  {
   "cell_type": "code",
   "execution_count": 25,
   "metadata": {},
   "outputs": [
    {
     "data": {
      "text/plain": [
       "['LII', 'LIII', 'aVF', 'aVL', 'aVR', 'V1', 'V2', 'V3', 'V4', 'V5', 'V6']"
      ]
     },
     "execution_count": 25,
     "metadata": {},
     "output_type": "execute_result"
    }
   ],
   "source": [
    "leads[1:]"
   ]
  }
 ],
 "metadata": {
  "kernelspec": {
   "display_name": "base",
   "language": "python",
   "name": "python3"
  },
  "language_info": {
   "codemirror_mode": {
    "name": "ipython",
    "version": 3
   },
   "file_extension": ".py",
   "mimetype": "text/x-python",
   "name": "python",
   "nbconvert_exporter": "python",
   "pygments_lexer": "ipython3",
   "version": "3.9.12"
  },
  "orig_nbformat": 4
 },
 "nbformat": 4,
 "nbformat_minor": 2
}
