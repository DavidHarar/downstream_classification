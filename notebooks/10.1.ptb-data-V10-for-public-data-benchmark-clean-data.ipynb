{
 "cells": [
  {
   "attachments": {},
   "cell_type": "markdown",
   "metadata": {},
   "source": [
    "# 1. Run a benchmark with all clean signals"
   ]
  },
  {
   "cell_type": "code",
   "execution_count": null,
   "metadata": {},
   "outputs": [],
   "source": [
    "import os\n",
    "import sys\n",
    "\n",
    "import numpy as np\n",
    "import pickle \n",
    "\n",
    "# import trainer\n",
    "sys.path.append('/home/david/Desktop/projects/thesis/downstream_classification')\n",
    "os.chdir('/home/david/Desktop/projects/thesis/downstream_classification')\n",
    "from executors.train_on_local_machine_v2 import trainer\n",
    "\n",
    "best_rocauc_and_pr_auc = {\n",
    "    'seed':[],\n",
    "    'validation-roc-auc':[],\n",
    "    'validation-pr-auc':[],\n",
    "    'test-roc-auc':[],\n",
    "    'test-pr-auc':[],\n",
    "}\n",
    "\n",
    "seed = 123\n",
    "np.random.seed(123)\n",
    "seeds = np.random.randint(0,1000, 1)\n",
    "\n",
    "\n",
    "for seed_ in seeds:\n",
    "    print(seed_)\n",
    "    \n",
    "    # V9\n",
    "    # -----------------\n",
    "    config = {\n",
    "        \n",
    "        # general\n",
    "        'seed': 123,\n",
    "        # 'metadata_file_path': './data/combined_data/metadata_only_existant_readings_09042023.csv',\n",
    "        # 'data_folder_path': './data/individual-signals-registered/',\n",
    "        'metadata_file_path': './data/combined_data/ptb_signal_level_metadata_with_label.csv',\n",
    "        'data_folder_path': './data/ptb-ecg-processed-divided-into-450/',\n",
    "\n",
    "\n",
    "        # training\n",
    "        'batch_size': 128,\n",
    "        'n_epochs': 10,\n",
    "        'weight_decay': 0.3,\n",
    "        'lr': 0.0005,\n",
    "        'eval_metric':'rocauc',\n",
    "        'patience':3,\n",
    "\n",
    "        # architecture\n",
    "        'targets': ['AF'],\n",
    "        'dropout': 0.5,\n",
    "        'clip': 1,\n",
    "        'scale':1,\n",
    "        'depth': 1,\n",
    "        \n",
    "        # misc\n",
    "        'model_saving_path': f'./models/AF-V10-different-seeds-ptb-clean',\n",
    "        'verbosity':True,\n",
    "\n",
    "        # test\n",
    "        'check_on_test':True,\n",
    "        \n",
    "        # external data\n",
    "        'internal_data':False\n",
    "    }\n",
    "\n",
    "    # run\n",
    "    best_rocauc_and_pr_auc_seed = trainer(**config)\n",
    "    \n",
    "\n",
    "    best_rocauc_and_pr_auc['seed'].append(seed_)\n",
    "    best_rocauc_and_pr_auc['validation-roc-auc'].append(best_rocauc_and_pr_auc_seed['validation-roc-auc'])\n",
    "    best_rocauc_and_pr_auc['validation-pr-auc'].append(best_rocauc_and_pr_auc_seed['validation-auc-pr'])\n",
    "    best_rocauc_and_pr_auc['test-roc-auc'].append(best_rocauc_and_pr_auc_seed['test-roc-auc'])\n",
    "    best_rocauc_and_pr_auc['test-pr-auc'].append(best_rocauc_and_pr_auc_seed['test-auc-pr'])\n",
    "    \n",
    "    with open(config['model_saving_path']+'/best_rocauc_and_pr_auc.pkl', 'wb') as f:\n",
    "        pickle.dump(best_rocauc_and_pr_auc, f)\n",
    "\n"
   ]
  },
  {
   "attachments": {},
   "cell_type": "markdown",
   "metadata": {},
   "source": [
    "# Distort Data"
   ]
  },
  {
   "cell_type": "markdown",
   "metadata": {},
   "source": []
  }
 ],
 "metadata": {
  "kernelspec": {
   "display_name": "base",
   "language": "python",
   "name": "python3"
  },
  "language_info": {
   "codemirror_mode": {
    "name": "ipython",
    "version": 3
   },
   "file_extension": ".py",
   "mimetype": "text/x-python",
   "name": "python",
   "nbconvert_exporter": "python",
   "pygments_lexer": "ipython3",
   "version": "3.9.12"
  },
  "orig_nbformat": 4
 },
 "nbformat": 4,
 "nbformat_minor": 2
}
