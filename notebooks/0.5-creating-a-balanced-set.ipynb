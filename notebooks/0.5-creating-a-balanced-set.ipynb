{
 "cells": [
  {
   "cell_type": "code",
   "execution_count": 1,
   "metadata": {},
   "outputs": [
    {
     "name": "stdout",
     "output_type": "stream",
     "text": [
      "oversampled DM distribution\n"
     ]
    },
    {
     "data": {
      "text/plain": [
       "one_year_until_death\n",
       "0    254855\n",
       "1    254855\n",
       "Name: count, dtype: int64"
      ]
     },
     "metadata": {},
     "output_type": "display_data"
    },
    {
     "data": {
      "text/html": [
       "<div>\n",
       "<style scoped>\n",
       "    .dataframe tbody tr th:only-of-type {\n",
       "        vertical-align: middle;\n",
       "    }\n",
       "\n",
       "    .dataframe tbody tr th {\n",
       "        vertical-align: top;\n",
       "    }\n",
       "\n",
       "    .dataframe thead th {\n",
       "        text-align: right;\n",
       "    }\n",
       "</style>\n",
       "<table border=\"1\" class=\"dataframe\">\n",
       "  <thead>\n",
       "    <tr style=\"text-align: right;\">\n",
       "      <th>one_year_until_death</th>\n",
       "      <th>0</th>\n",
       "      <th>1</th>\n",
       "    </tr>\n",
       "    <tr>\n",
       "      <th>sample</th>\n",
       "      <th></th>\n",
       "      <th></th>\n",
       "    </tr>\n",
       "  </thead>\n",
       "  <tbody>\n",
       "    <tr>\n",
       "      <th>test</th>\n",
       "      <td>53850</td>\n",
       "      <td>1601</td>\n",
       "    </tr>\n",
       "    <tr>\n",
       "      <th>train</th>\n",
       "      <td>254855</td>\n",
       "      <td>254855</td>\n",
       "    </tr>\n",
       "    <tr>\n",
       "      <th>validation</th>\n",
       "      <td>51863</td>\n",
       "      <td>1395</td>\n",
       "    </tr>\n",
       "  </tbody>\n",
       "</table>\n",
       "</div>"
      ],
      "text/plain": [
       "one_year_until_death       0       1\n",
       "sample                              \n",
       "test                   53850    1601\n",
       "train                 254855  254855\n",
       "validation             51863    1395"
      ]
     },
     "metadata": {},
     "output_type": "display_data"
    }
   ],
   "source": [
    "import pandas as pd\n",
    "import os\n",
    "\n",
    "# set root\n",
    "os.chdir('/Users/davidharar/Documents/School/thesis/downstream_classification')\n",
    "\n",
    "\n",
    "# load data\n",
    "\n",
    "metadata = pd.read_csv('./data/combined_data/metadata_only_existant_readings_09042023.csv',index_col=0)\n",
    "metadata_train = metadata[metadata['sample'] == 'train']\n",
    "metadata_not_train = metadata[metadata['sample'] != 'train']\n",
    "\n",
    "metadata_train_0 = metadata_train[metadata_train['one_year_until_death'] == 0].reset_index(drop=True)\n",
    "metadata_train_1 = metadata_train[metadata_train['one_year_until_death'] == 1].reset_index(drop=True)\n",
    "\n",
    "N0 = len(metadata_train_0)\n",
    "N1 = len(metadata_train_1)\n",
    "\n",
    "N = max(N0,N1)\n",
    "\n",
    "metadata_train_1_oversampled = metadata_train_1.sample(n = N, replace=True)\n",
    "metadata_train_1.shape, '-->', metadata_train_1_oversampled.shape\n",
    "\n",
    "metadata_train_balanced = pd.concat([metadata_train_0, metadata_train_1_oversampled], axis=0, ignore_index=True)\n",
    "print(\"oversampled DM distribution\")\n",
    "display(metadata_train_balanced['one_year_until_death'].value_counts())\n",
    "\n",
    "metadata_for_testing_balanced_by_DM = pd.concat([metadata_train_balanced, metadata_not_train], axis=0, ignore_index=True)\n",
    "\n",
    "display(\n",
    "    pd.crosstab(\n",
    "        metadata_for_testing_balanced_by_DM['sample'],\n",
    "        metadata_for_testing_balanced_by_DM['one_year_until_death']\n",
    "    )\n",
    ")\n",
    "\n",
    "metadata_for_testing_balanced_by_DM.sample(frac=1).reset_index(drop=True).to_csv('./data/combined_data/metadata_balanced_by_death.csv')\n"
   ]
  }
 ],
 "metadata": {
  "kernelspec": {
   "display_name": "torch-gpu",
   "language": "python",
   "name": "python3"
  },
  "language_info": {
   "codemirror_mode": {
    "name": "ipython",
    "version": 3
   },
   "file_extension": ".py",
   "mimetype": "text/x-python",
   "name": "python",
   "nbconvert_exporter": "python",
   "pygments_lexer": "ipython3",
   "version": "3.8.13"
  },
  "orig_nbformat": 4
 },
 "nbformat": 4,
 "nbformat_minor": 2
}
