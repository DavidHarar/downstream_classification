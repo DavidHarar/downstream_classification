{
 "cells": [
  {
   "attachments": {},
   "cell_type": "markdown",
   "metadata": {},
   "source": [
    "# Summary\n",
    "In this notebook we prepare the data for a fit, using a dataloader.\n",
    "The sampled batch shoule have the shape `((batch_size, 12, 450), (batch_size,K))`, where the first element is the 12-leads data and the second is the targets, comprised of `K` different outcomes of each person.\n"
   ]
  },
  {
   "cell_type": "code",
   "execution_count": 1,
   "metadata": {},
   "outputs": [],
   "source": [
    "import random\n",
    "import torch\n",
    "import os\n",
    "import pickle\n",
    "import pandas as pd\n",
    "import numpy as np\n",
    "from tqdm import tqdm\n",
    "import matplotlib.pyplot as plt\n",
    "\n",
    "# device = torch.device(\"mps\")\n",
    "device = torch.device(\"cuda\")\n"
   ]
  },
  {
   "cell_type": "code",
   "execution_count": 4,
   "metadata": {},
   "outputs": [
    {
     "data": {
      "text/html": [
       "<div>\n",
       "<style scoped>\n",
       "    .dataframe tbody tr th:only-of-type {\n",
       "        vertical-align: middle;\n",
       "    }\n",
       "\n",
       "    .dataframe tbody tr th {\n",
       "        vertical-align: top;\n",
       "    }\n",
       "\n",
       "    .dataframe thead th {\n",
       "        text-align: right;\n",
       "    }\n",
       "</style>\n",
       "<table border=\"1\" class=\"dataframe\">\n",
       "  <thead>\n",
       "    <tr style=\"text-align: right;\">\n",
       "      <th></th>\n",
       "      <th>reading</th>\n",
       "      <th>outcome</th>\n",
       "      <th>V1_0</th>\n",
       "      <th>V1_1</th>\n",
       "      <th>V1_2</th>\n",
       "      <th>V1_3</th>\n",
       "      <th>V1_4</th>\n",
       "      <th>V1_5</th>\n",
       "      <th>V1_6</th>\n",
       "      <th>V1_7</th>\n",
       "      <th>...</th>\n",
       "      <th>aVF_440</th>\n",
       "      <th>aVF_441</th>\n",
       "      <th>aVF_442</th>\n",
       "      <th>aVF_443</th>\n",
       "      <th>aVF_444</th>\n",
       "      <th>aVF_445</th>\n",
       "      <th>aVF_446</th>\n",
       "      <th>aVF_447</th>\n",
       "      <th>aVF_448</th>\n",
       "      <th>aVF_449</th>\n",
       "    </tr>\n",
       "  </thead>\n",
       "  <tbody>\n",
       "  </tbody>\n",
       "</table>\n",
       "<p>0 rows × 5402 columns</p>\n",
       "</div>"
      ],
      "text/plain": [
       "Empty DataFrame\n",
       "Columns: [reading, outcome, V1_0, V1_1, V1_2, V1_3, V1_4, V1_5, V1_6, V1_7, V1_8, V1_9, V1_10, V1_11, V1_12, V1_13, V1_14, V1_15, V1_16, V1_17, V1_18, V1_19, V1_20, V1_21, V1_22, V1_23, V1_24, V1_25, V1_26, V1_27, V1_28, V1_29, V1_30, V1_31, V1_32, V1_33, V1_34, V1_35, V1_36, V1_37, V1_38, V1_39, V1_40, V1_41, V1_42, V1_43, V1_44, V1_45, V1_46, V1_47, V1_48, V1_49, V1_50, V1_51, V1_52, V1_53, V1_54, V1_55, V1_56, V1_57, V1_58, V1_59, V1_60, V1_61, V1_62, V1_63, V1_64, V1_65, V1_66, V1_67, V1_68, V1_69, V1_70, V1_71, V1_72, V1_73, V1_74, V1_75, V1_76, V1_77, V1_78, V1_79, V1_80, V1_81, V1_82, V1_83, V1_84, V1_85, V1_86, V1_87, V1_88, V1_89, V1_90, V1_91, V1_92, V1_93, V1_94, V1_95, V1_96, V1_97, ...]\n",
       "Index: []\n",
       "\n",
       "[0 rows x 5402 columns]"
      ]
     },
     "execution_count": 4,
     "metadata": {},
     "output_type": "execute_result"
    }
   ],
   "source": [
    "df = pd.read_csv('../data/combined_data/sample-of-10k.csv')\n",
    "\n",
    "# 1st phase\n",
    "train_metadata = pd.read_csv('../data/combined_data/train-metadata.csv', index_col=0)\n",
    "validation_metadata = pd.read_csv('../data/combined_data/validation-metadata.csv', index_col=0)\n",
    "test_metadata = pd.read_csv('../data/combined_data/test-metadata.csv', index_col=0)\n",
    "\n",
    "# 2nd phase\n",
    "additional_targets = pd.read_csv('../data/combined_data/additional-targets.csv', index_col=0)\n",
    "\n",
    "# show\n",
    "train_metadata.iloc[:5]\n",
    "\n",
    "# train\n",
    "df_train = train_metadata[['reading','outcome']].merge(df,\n",
    "                                                       on='reading')\n",
    "\n",
    "df_train.iloc[:5]"
   ]
  },
  {
   "cell_type": "code",
   "execution_count": 43,
   "metadata": {},
   "outputs": [
    {
     "data": {
      "text/html": [
       "<div>\n",
       "<style scoped>\n",
       "    .dataframe tbody tr th:only-of-type {\n",
       "        vertical-align: middle;\n",
       "    }\n",
       "\n",
       "    .dataframe tbody tr th {\n",
       "        vertical-align: top;\n",
       "    }\n",
       "\n",
       "    .dataframe thead th {\n",
       "        text-align: right;\n",
       "    }\n",
       "</style>\n",
       "<table border=\"1\" class=\"dataframe\">\n",
       "  <thead>\n",
       "    <tr style=\"text-align: right;\">\n",
       "      <th></th>\n",
       "      <th>reading</th>\n",
       "      <th>reading_date</th>\n",
       "      <th>Original_Index</th>\n",
       "      <th>Index</th>\n",
       "      <th>moh_death</th>\n",
       "      <th>reading_date_datetime</th>\n",
       "      <th>moh_death_datetime</th>\n",
       "      <th>delta_time</th>\n",
       "      <th>outcome</th>\n",
       "    </tr>\n",
       "  </thead>\n",
       "  <tbody>\n",
       "    <tr>\n",
       "      <th>324163</th>\n",
       "      <td>427805</td>\n",
       "      <td>20/01/2008</td>\n",
       "      <td>2208</td>\n",
       "      <td>427805</td>\n",
       "      <td>NaN</td>\n",
       "      <td>2008-01-20</td>\n",
       "      <td>NaN</td>\n",
       "      <td>NaN</td>\n",
       "      <td>0</td>\n",
       "    </tr>\n",
       "    <tr>\n",
       "      <th>254526</th>\n",
       "      <td>356921</td>\n",
       "      <td>23/02/2010</td>\n",
       "      <td>39020</td>\n",
       "      <td>356921</td>\n",
       "      <td>4/1/19</td>\n",
       "      <td>2010-02-23</td>\n",
       "      <td>2019-04-01</td>\n",
       "      <td>3324.0</td>\n",
       "      <td>0</td>\n",
       "    </tr>\n",
       "    <tr>\n",
       "      <th>339871</th>\n",
       "      <td>428248</td>\n",
       "      <td>19/12/2015</td>\n",
       "      <td>39084</td>\n",
       "      <td>428248</td>\n",
       "      <td>NaN</td>\n",
       "      <td>2015-12-19</td>\n",
       "      <td>NaN</td>\n",
       "      <td>NaN</td>\n",
       "      <td>0</td>\n",
       "    </tr>\n",
       "    <tr>\n",
       "      <th>334067</th>\n",
       "      <td>440621</td>\n",
       "      <td>18/08/2017</td>\n",
       "      <td>35155</td>\n",
       "      <td>440621</td>\n",
       "      <td>NaN</td>\n",
       "      <td>2017-08-18</td>\n",
       "      <td>NaN</td>\n",
       "      <td>NaN</td>\n",
       "      <td>0</td>\n",
       "    </tr>\n",
       "    <tr>\n",
       "      <th>27651</th>\n",
       "      <td>32229</td>\n",
       "      <td>10/07/2019</td>\n",
       "      <td>22415</td>\n",
       "      <td>32229</td>\n",
       "      <td>NaN</td>\n",
       "      <td>2019-07-10</td>\n",
       "      <td>NaN</td>\n",
       "      <td>NaN</td>\n",
       "      <td>0</td>\n",
       "    </tr>\n",
       "  </tbody>\n",
       "</table>\n",
       "</div>"
      ],
      "text/plain": [
       "        reading reading_date  Original_Index   Index moh_death  \\\n",
       "324163   427805   20/01/2008            2208  427805       NaN   \n",
       "254526   356921   23/02/2010           39020  356921    4/1/19   \n",
       "339871   428248   19/12/2015           39084  428248       NaN   \n",
       "334067   440621   18/08/2017           35155  440621       NaN   \n",
       "27651     32229   10/07/2019           22415   32229       NaN   \n",
       "\n",
       "       reading_date_datetime moh_death_datetime  delta_time  outcome  \n",
       "324163            2008-01-20                NaN         NaN        0  \n",
       "254526            2010-02-23         2019-04-01      3324.0        0  \n",
       "339871            2015-12-19                NaN         NaN        0  \n",
       "334067            2017-08-18                NaN         NaN        0  \n",
       "27651             2019-07-10                NaN         NaN        0  "
      ]
     },
     "metadata": {},
     "output_type": "display_data"
    },
    {
     "data": {
      "text/html": [
       "<div>\n",
       "<style scoped>\n",
       "    .dataframe tbody tr th:only-of-type {\n",
       "        vertical-align: middle;\n",
       "    }\n",
       "\n",
       "    .dataframe tbody tr th {\n",
       "        vertical-align: top;\n",
       "    }\n",
       "\n",
       "    .dataframe thead th {\n",
       "        text-align: right;\n",
       "    }\n",
       "</style>\n",
       "<table border=\"1\" class=\"dataframe\">\n",
       "  <thead>\n",
       "    <tr style=\"text-align: right;\">\n",
       "      <th></th>\n",
       "      <th>Customer_CustID</th>\n",
       "      <th>Adjusted_ID</th>\n",
       "      <th>last_known_date</th>\n",
       "      <th>assumed_dead</th>\n",
       "      <th>approximate_death</th>\n",
       "      <th>test_group</th>\n",
       "      <th>DM</th>\n",
       "      <th>CVA</th>\n",
       "      <th>first_AF_in_home_ECG</th>\n",
       "      <th>first_AF_in_Dispatch</th>\n",
       "      <th>AF</th>\n",
       "      <th>IHD</th>\n",
       "      <th>s/p MI all</th>\n",
       "      <th>s/p CABG</th>\n",
       "      <th>CHF</th>\n",
       "      <th>s/p CPR</th>\n",
       "      <th>cpr_shl</th>\n",
       "      <th>key</th>\n",
       "      <th>Patient ID</th>\n",
       "      <th>merge_additional_targets_keys</th>\n",
       "      <th>reading</th>\n",
       "      <th>dates</th>\n",
       "      <th>Customer_BirthDate</th>\n",
       "      <th>Age_at_start</th>\n",
       "      <th>CVA_already</th>\n",
       "      <th>first_AF_in_home_ECG_already</th>\n",
       "      <th>first_AF_in_Dispatch_already</th>\n",
       "      <th>AF_already</th>\n",
       "      <th>IHD_already</th>\n",
       "      <th>s/p MI all_already</th>\n",
       "      <th>s/p CABG_already</th>\n",
       "      <th>CHF_already</th>\n",
       "      <th>s/p CPR_already</th>\n",
       "      <th>cpr_shl_already</th>\n",
       "    </tr>\n",
       "  </thead>\n",
       "  <tbody>\n",
       "    <tr>\n",
       "      <th>0</th>\n",
       "      <td>11553.0</td>\n",
       "      <td>115535.0</td>\n",
       "      <td>3/7/2005</td>\n",
       "      <td>1.0</td>\n",
       "      <td>3/7/2005</td>\n",
       "      <td>dead</td>\n",
       "      <td>8/8/2001</td>\n",
       "      <td>NaN</td>\n",
       "      <td>12/6/1999</td>\n",
       "      <td>1/14/1994</td>\n",
       "      <td>8/8/2001</td>\n",
       "      <td>NaN</td>\n",
       "      <td>NaN</td>\n",
       "      <td>NaN</td>\n",
       "      <td>NaN</td>\n",
       "      <td>NaN</td>\n",
       "      <td>NaN</td>\n",
       "      <td>140739.0</td>\n",
       "      <td>11553.0</td>\n",
       "      <td>has additional targets and was found in index</td>\n",
       "      <td>140739</td>\n",
       "      <td>07/10/2003</td>\n",
       "      <td>1/1/25</td>\n",
       "      <td>65.0</td>\n",
       "      <td>NaN</td>\n",
       "      <td>1.0</td>\n",
       "      <td>NaN</td>\n",
       "      <td>1.0</td>\n",
       "      <td>NaN</td>\n",
       "      <td>NaN</td>\n",
       "      <td>NaN</td>\n",
       "      <td>NaN</td>\n",
       "      <td>NaN</td>\n",
       "      <td>NaN</td>\n",
       "    </tr>\n",
       "    <tr>\n",
       "      <th>1</th>\n",
       "      <td>11553.0</td>\n",
       "      <td>115535.0</td>\n",
       "      <td>3/7/2005</td>\n",
       "      <td>1.0</td>\n",
       "      <td>3/7/2005</td>\n",
       "      <td>dead</td>\n",
       "      <td>8/8/2001</td>\n",
       "      <td>NaN</td>\n",
       "      <td>12/6/1999</td>\n",
       "      <td>1/14/1994</td>\n",
       "      <td>8/8/2001</td>\n",
       "      <td>NaN</td>\n",
       "      <td>NaN</td>\n",
       "      <td>NaN</td>\n",
       "      <td>NaN</td>\n",
       "      <td>NaN</td>\n",
       "      <td>NaN</td>\n",
       "      <td>275647.0</td>\n",
       "      <td>11553.0</td>\n",
       "      <td>has additional targets and was found in index</td>\n",
       "      <td>275647</td>\n",
       "      <td>07/10/2003</td>\n",
       "      <td>1/1/25</td>\n",
       "      <td>65.0</td>\n",
       "      <td>NaN</td>\n",
       "      <td>1.0</td>\n",
       "      <td>NaN</td>\n",
       "      <td>1.0</td>\n",
       "      <td>NaN</td>\n",
       "      <td>NaN</td>\n",
       "      <td>NaN</td>\n",
       "      <td>NaN</td>\n",
       "      <td>NaN</td>\n",
       "      <td>NaN</td>\n",
       "    </tr>\n",
       "    <tr>\n",
       "      <th>2</th>\n",
       "      <td>11553.0</td>\n",
       "      <td>115535.0</td>\n",
       "      <td>3/7/2005</td>\n",
       "      <td>1.0</td>\n",
       "      <td>3/7/2005</td>\n",
       "      <td>dead</td>\n",
       "      <td>8/8/2001</td>\n",
       "      <td>NaN</td>\n",
       "      <td>12/6/1999</td>\n",
       "      <td>1/14/1994</td>\n",
       "      <td>8/8/2001</td>\n",
       "      <td>NaN</td>\n",
       "      <td>NaN</td>\n",
       "      <td>NaN</td>\n",
       "      <td>NaN</td>\n",
       "      <td>NaN</td>\n",
       "      <td>NaN</td>\n",
       "      <td>342840.0</td>\n",
       "      <td>11553.0</td>\n",
       "      <td>has additional targets and was found in index</td>\n",
       "      <td>342840</td>\n",
       "      <td>05/11/2002</td>\n",
       "      <td>1/1/25</td>\n",
       "      <td>65.0</td>\n",
       "      <td>NaN</td>\n",
       "      <td>1.0</td>\n",
       "      <td>NaN</td>\n",
       "      <td>1.0</td>\n",
       "      <td>NaN</td>\n",
       "      <td>NaN</td>\n",
       "      <td>NaN</td>\n",
       "      <td>NaN</td>\n",
       "      <td>NaN</td>\n",
       "      <td>NaN</td>\n",
       "    </tr>\n",
       "    <tr>\n",
       "      <th>3</th>\n",
       "      <td>11553.0</td>\n",
       "      <td>115535.0</td>\n",
       "      <td>3/7/2005</td>\n",
       "      <td>1.0</td>\n",
       "      <td>3/7/2005</td>\n",
       "      <td>dead</td>\n",
       "      <td>8/8/2001</td>\n",
       "      <td>NaN</td>\n",
       "      <td>12/6/1999</td>\n",
       "      <td>1/14/1994</td>\n",
       "      <td>8/8/2001</td>\n",
       "      <td>NaN</td>\n",
       "      <td>NaN</td>\n",
       "      <td>NaN</td>\n",
       "      <td>NaN</td>\n",
       "      <td>NaN</td>\n",
       "      <td>NaN</td>\n",
       "      <td>397704.0</td>\n",
       "      <td>11553.0</td>\n",
       "      <td>has additional targets and was found in index</td>\n",
       "      <td>397704</td>\n",
       "      <td>24/07/2001</td>\n",
       "      <td>1/1/25</td>\n",
       "      <td>65.0</td>\n",
       "      <td>NaN</td>\n",
       "      <td>1.0</td>\n",
       "      <td>NaN</td>\n",
       "      <td>0.0</td>\n",
       "      <td>NaN</td>\n",
       "      <td>NaN</td>\n",
       "      <td>NaN</td>\n",
       "      <td>NaN</td>\n",
       "      <td>NaN</td>\n",
       "      <td>NaN</td>\n",
       "    </tr>\n",
       "    <tr>\n",
       "      <th>4</th>\n",
       "      <td>11553.0</td>\n",
       "      <td>115535.0</td>\n",
       "      <td>3/7/2005</td>\n",
       "      <td>1.0</td>\n",
       "      <td>3/7/2005</td>\n",
       "      <td>dead</td>\n",
       "      <td>8/8/2001</td>\n",
       "      <td>NaN</td>\n",
       "      <td>12/6/1999</td>\n",
       "      <td>1/14/1994</td>\n",
       "      <td>8/8/2001</td>\n",
       "      <td>NaN</td>\n",
       "      <td>NaN</td>\n",
       "      <td>NaN</td>\n",
       "      <td>NaN</td>\n",
       "      <td>NaN</td>\n",
       "      <td>NaN</td>\n",
       "      <td>397705.0</td>\n",
       "      <td>11553.0</td>\n",
       "      <td>has additional targets and was found in index</td>\n",
       "      <td>397705</td>\n",
       "      <td>31/10/2001</td>\n",
       "      <td>1/1/25</td>\n",
       "      <td>65.0</td>\n",
       "      <td>NaN</td>\n",
       "      <td>1.0</td>\n",
       "      <td>NaN</td>\n",
       "      <td>1.0</td>\n",
       "      <td>NaN</td>\n",
       "      <td>NaN</td>\n",
       "      <td>NaN</td>\n",
       "      <td>NaN</td>\n",
       "      <td>NaN</td>\n",
       "      <td>NaN</td>\n",
       "    </tr>\n",
       "  </tbody>\n",
       "</table>\n",
       "</div>"
      ],
      "text/plain": [
       "   Customer_CustID  Adjusted_ID last_known_date  assumed_dead  \\\n",
       "0          11553.0     115535.0        3/7/2005           1.0   \n",
       "1          11553.0     115535.0        3/7/2005           1.0   \n",
       "2          11553.0     115535.0        3/7/2005           1.0   \n",
       "3          11553.0     115535.0        3/7/2005           1.0   \n",
       "4          11553.0     115535.0        3/7/2005           1.0   \n",
       "\n",
       "  approximate_death test_group        DM  CVA first_AF_in_home_ECG  \\\n",
       "0          3/7/2005       dead  8/8/2001  NaN            12/6/1999   \n",
       "1          3/7/2005       dead  8/8/2001  NaN            12/6/1999   \n",
       "2          3/7/2005       dead  8/8/2001  NaN            12/6/1999   \n",
       "3          3/7/2005       dead  8/8/2001  NaN            12/6/1999   \n",
       "4          3/7/2005       dead  8/8/2001  NaN            12/6/1999   \n",
       "\n",
       "  first_AF_in_Dispatch        AF  IHD s/p MI all s/p CABG  CHF s/p CPR  \\\n",
       "0            1/14/1994  8/8/2001  NaN        NaN      NaN  NaN     NaN   \n",
       "1            1/14/1994  8/8/2001  NaN        NaN      NaN  NaN     NaN   \n",
       "2            1/14/1994  8/8/2001  NaN        NaN      NaN  NaN     NaN   \n",
       "3            1/14/1994  8/8/2001  NaN        NaN      NaN  NaN     NaN   \n",
       "4            1/14/1994  8/8/2001  NaN        NaN      NaN  NaN     NaN   \n",
       "\n",
       "  cpr_shl       key  Patient ID  \\\n",
       "0     NaN  140739.0     11553.0   \n",
       "1     NaN  275647.0     11553.0   \n",
       "2     NaN  342840.0     11553.0   \n",
       "3     NaN  397704.0     11553.0   \n",
       "4     NaN  397705.0     11553.0   \n",
       "\n",
       "                   merge_additional_targets_keys  reading       dates  \\\n",
       "0  has additional targets and was found in index   140739  07/10/2003   \n",
       "1  has additional targets and was found in index   275647  07/10/2003   \n",
       "2  has additional targets and was found in index   342840  05/11/2002   \n",
       "3  has additional targets and was found in index   397704  24/07/2001   \n",
       "4  has additional targets and was found in index   397705  31/10/2001   \n",
       "\n",
       "  Customer_BirthDate  Age_at_start  CVA_already  first_AF_in_home_ECG_already  \\\n",
       "0             1/1/25          65.0          NaN                           1.0   \n",
       "1             1/1/25          65.0          NaN                           1.0   \n",
       "2             1/1/25          65.0          NaN                           1.0   \n",
       "3             1/1/25          65.0          NaN                           1.0   \n",
       "4             1/1/25          65.0          NaN                           1.0   \n",
       "\n",
       "   first_AF_in_Dispatch_already  AF_already  IHD_already  s/p MI all_already  \\\n",
       "0                           NaN         1.0          NaN                 NaN   \n",
       "1                           NaN         1.0          NaN                 NaN   \n",
       "2                           NaN         1.0          NaN                 NaN   \n",
       "3                           NaN         0.0          NaN                 NaN   \n",
       "4                           NaN         1.0          NaN                 NaN   \n",
       "\n",
       "   s/p CABG_already  CHF_already  s/p CPR_already  cpr_shl_already  \n",
       "0               NaN          NaN              NaN              NaN  \n",
       "1               NaN          NaN              NaN              NaN  \n",
       "2               NaN          NaN              NaN              NaN  \n",
       "3               NaN          NaN              NaN              NaN  \n",
       "4               NaN          NaN              NaN              NaN  "
      ]
     },
     "metadata": {},
     "output_type": "display_data"
    }
   ],
   "source": [
    "pd.set_option('display.max_columns', 100)\n",
    "\n",
    "display(train_metadata.iloc[:5])\n",
    "display(additional_targets.iloc[:5])\n"
   ]
  },
  {
   "cell_type": "code",
   "execution_count": 45,
   "metadata": {},
   "outputs": [
    {
     "data": {
      "text/plain": [
       "_merge\n",
       "both          278591\n",
       "right_only    184850\n",
       "left_only         58\n",
       "Name: count, dtype: int64"
      ]
     },
     "execution_count": 45,
     "metadata": {},
     "output_type": "execute_result"
    }
   ],
   "source": [
    "train_metadata.merge(additional_targets,\n",
    "                     on='reading',\n",
    "                     indicator=True,\n",
    "                     how='outer'\n",
    "                     )['_merge'].value_counts()"
   ]
  },
  {
   "cell_type": "code",
   "execution_count": 49,
   "metadata": {},
   "outputs": [
    {
     "data": {
      "text/html": [
       "<div>\n",
       "<style scoped>\n",
       "    .dataframe tbody tr th:only-of-type {\n",
       "        vertical-align: middle;\n",
       "    }\n",
       "\n",
       "    .dataframe tbody tr th {\n",
       "        vertical-align: top;\n",
       "    }\n",
       "\n",
       "    .dataframe thead th {\n",
       "        text-align: right;\n",
       "    }\n",
       "</style>\n",
       "<table border=\"1\" class=\"dataframe\">\n",
       "  <thead>\n",
       "    <tr style=\"text-align: right;\">\n",
       "      <th></th>\n",
       "      <th>dates</th>\n",
       "      <th>AF</th>\n",
       "      <th>AF_already</th>\n",
       "    </tr>\n",
       "  </thead>\n",
       "  <tbody>\n",
       "    <tr>\n",
       "      <th>0</th>\n",
       "      <td>07/10/2003</td>\n",
       "      <td>8/8/2001</td>\n",
       "      <td>1.0</td>\n",
       "    </tr>\n",
       "    <tr>\n",
       "      <th>1</th>\n",
       "      <td>07/10/2003</td>\n",
       "      <td>8/8/2001</td>\n",
       "      <td>1.0</td>\n",
       "    </tr>\n",
       "    <tr>\n",
       "      <th>2</th>\n",
       "      <td>05/11/2002</td>\n",
       "      <td>8/8/2001</td>\n",
       "      <td>1.0</td>\n",
       "    </tr>\n",
       "    <tr>\n",
       "      <th>3</th>\n",
       "      <td>24/07/2001</td>\n",
       "      <td>8/8/2001</td>\n",
       "      <td>0.0</td>\n",
       "    </tr>\n",
       "    <tr>\n",
       "      <th>4</th>\n",
       "      <td>31/10/2001</td>\n",
       "      <td>8/8/2001</td>\n",
       "      <td>1.0</td>\n",
       "    </tr>\n",
       "    <tr>\n",
       "      <th>...</th>\n",
       "      <td>...</td>\n",
       "      <td>...</td>\n",
       "      <td>...</td>\n",
       "    </tr>\n",
       "    <tr>\n",
       "      <th>455926</th>\n",
       "      <td>30/10/2001</td>\n",
       "      <td>6/14/2001</td>\n",
       "      <td>NaN</td>\n",
       "    </tr>\n",
       "    <tr>\n",
       "      <th>455927</th>\n",
       "      <td>19/04/2002</td>\n",
       "      <td>6/14/2001</td>\n",
       "      <td>NaN</td>\n",
       "    </tr>\n",
       "    <tr>\n",
       "      <th>455928</th>\n",
       "      <td>30/10/2001</td>\n",
       "      <td>6/14/2001</td>\n",
       "      <td>NaN</td>\n",
       "    </tr>\n",
       "    <tr>\n",
       "      <th>455933</th>\n",
       "      <td>11/04/2005</td>\n",
       "      <td>12/21/2004</td>\n",
       "      <td>NaN</td>\n",
       "    </tr>\n",
       "    <tr>\n",
       "      <th>455934</th>\n",
       "      <td>11/04/2005</td>\n",
       "      <td>12/21/2004</td>\n",
       "      <td>NaN</td>\n",
       "    </tr>\n",
       "  </tbody>\n",
       "</table>\n",
       "<p>175244 rows × 3 columns</p>\n",
       "</div>"
      ],
      "text/plain": [
       "             dates          AF  AF_already\n",
       "0       07/10/2003    8/8/2001         1.0\n",
       "1       07/10/2003    8/8/2001         1.0\n",
       "2       05/11/2002    8/8/2001         1.0\n",
       "3       24/07/2001    8/8/2001         0.0\n",
       "4       31/10/2001    8/8/2001         1.0\n",
       "...            ...         ...         ...\n",
       "455926  30/10/2001   6/14/2001         NaN\n",
       "455927  19/04/2002   6/14/2001         NaN\n",
       "455928  30/10/2001   6/14/2001         NaN\n",
       "455933  11/04/2005  12/21/2004         NaN\n",
       "455934  11/04/2005  12/21/2004         NaN\n",
       "\n",
       "[175244 rows x 3 columns]"
      ]
     },
     "execution_count": 49,
     "metadata": {},
     "output_type": "execute_result"
    }
   ],
   "source": [
    "additional_targets[['dates','AF','AF_already']][pd.notna(additional_targets['AF'])]"
   ]
  },
  {
   "attachments": {},
   "cell_type": "markdown",
   "metadata": {},
   "source": [
    "# Recreate Additional Targets\n",
    "it seems that because `dates` are in `DD-MM-YYYY` format while `AF` is in `M/D/YYYY` format, we have some mislabeling issues. In this part we relabel observations"
   ]
  },
  {
   "cell_type": "code",
   "execution_count": 53,
   "metadata": {},
   "outputs": [
    {
     "name": "stdout",
     "output_type": "stream",
     "text": [
      "AF_already2\n",
      "1.0    114559\n",
      "0.0     60685\n",
      "Name: count, dtype: int64\n"
     ]
    },
    {
     "name": "stderr",
     "output_type": "stream",
     "text": [
      "/var/folders/t5/rmhnhv8d39v2fgyk_bv5fx7h0000gn/T/ipykernel_26322/1671299674.py:23: SettingWithCopyWarning: \n",
      "A value is trying to be set on a copy of a slice from a DataFrame\n",
      "\n",
      "See the caveats in the documentation: https://pandas.pydata.org/pandas-docs/stable/user_guide/indexing.html#returning-a-view-versus-a-copy\n",
      "  additional_targets['AF_already2'][pd.isna(additional_targets['AF'])]=np.nan\n"
     ]
    }
   ],
   "source": [
    "# utils\n",
    "def diff2(date1, date2):\n",
    "    \"\"\"\n",
    "    difference (in days) between two dates, assuming date2 is the last.\n",
    "    date1 and date2 are strings.\n",
    "    \"\"\"\n",
    "    from datetime import date\n",
    "    \n",
    "    try:\n",
    "        d1,m1,y1 = date1.split('/')\n",
    "        m2,d2,y2 = date2.split('/')\n",
    "\n",
    "        date1 = date(int(y1),int(m1),int(d1))\n",
    "        date2 = date(int(y2),int(m2),int(d2))\n",
    "        ret = (date2-date1).days\n",
    "    except:\n",
    "        ret = None\n",
    "    \n",
    "    return ret\n",
    "\n",
    "additional_targets['AF_already_temp2'] = [diff2(additional_targets['dates'][j], additional_targets['AF'][j]) for j in range(len(additional_targets))]\n",
    "additional_targets['AF_already2'] = (additional_targets['AF_already_temp2']<0).astype(int)\n",
    "additional_targets['AF_already2'][pd.isna(additional_targets['AF'])]=np.nan \n",
    "print(additional_targets['AF_already2'].value_counts())\n",
    "\n"
   ]
  },
  {
   "cell_type": "code",
   "execution_count": 54,
   "metadata": {},
   "outputs": [
    {
     "data": {
      "text/html": [
       "<div>\n",
       "<style scoped>\n",
       "    .dataframe tbody tr th:only-of-type {\n",
       "        vertical-align: middle;\n",
       "    }\n",
       "\n",
       "    .dataframe tbody tr th {\n",
       "        vertical-align: top;\n",
       "    }\n",
       "\n",
       "    .dataframe thead th {\n",
       "        text-align: right;\n",
       "    }\n",
       "</style>\n",
       "<table border=\"1\" class=\"dataframe\">\n",
       "  <thead>\n",
       "    <tr style=\"text-align: right;\">\n",
       "      <th>AF_already2</th>\n",
       "      <th>0.0</th>\n",
       "      <th>1.0</th>\n",
       "    </tr>\n",
       "    <tr>\n",
       "      <th>AF_already</th>\n",
       "      <th></th>\n",
       "      <th></th>\n",
       "    </tr>\n",
       "  </thead>\n",
       "  <tbody>\n",
       "    <tr>\n",
       "      <th>0.0</th>\n",
       "      <td>19631</td>\n",
       "      <td>1808</td>\n",
       "    </tr>\n",
       "    <tr>\n",
       "      <th>1.0</th>\n",
       "      <td>2049</td>\n",
       "      <td>42124</td>\n",
       "    </tr>\n",
       "  </tbody>\n",
       "</table>\n",
       "</div>"
      ],
      "text/plain": [
       "AF_already2    0.0    1.0\n",
       "AF_already               \n",
       "0.0          19631   1808\n",
       "1.0           2049  42124"
      ]
     },
     "execution_count": 54,
     "metadata": {},
     "output_type": "execute_result"
    }
   ],
   "source": [
    "pd.crosstab(additional_targets['AF_already'],\n",
    "            additional_targets['AF_already2'])"
   ]
  },
  {
   "cell_type": "code",
   "execution_count": 60,
   "metadata": {},
   "outputs": [
    {
     "data": {
      "text/html": [
       "<div>\n",
       "<style scoped>\n",
       "    .dataframe tbody tr th:only-of-type {\n",
       "        vertical-align: middle;\n",
       "    }\n",
       "\n",
       "    .dataframe tbody tr th {\n",
       "        vertical-align: top;\n",
       "    }\n",
       "\n",
       "    .dataframe thead th {\n",
       "        text-align: right;\n",
       "    }\n",
       "</style>\n",
       "<table border=\"1\" class=\"dataframe\">\n",
       "  <thead>\n",
       "    <tr style=\"text-align: right;\">\n",
       "      <th></th>\n",
       "      <th>dates</th>\n",
       "      <th>AF</th>\n",
       "      <th>AF_already</th>\n",
       "      <th>AF_already2</th>\n",
       "    </tr>\n",
       "  </thead>\n",
       "  <tbody>\n",
       "    <tr>\n",
       "      <th>8</th>\n",
       "      <td>NaN</td>\n",
       "      <td>4/21/1997</td>\n",
       "      <td>NaN</td>\n",
       "      <td>0.0</td>\n",
       "    </tr>\n",
       "    <tr>\n",
       "      <th>9</th>\n",
       "      <td>22/02/2012</td>\n",
       "      <td>6/18/2010</td>\n",
       "      <td>NaN</td>\n",
       "      <td>1.0</td>\n",
       "    </tr>\n",
       "    <tr>\n",
       "      <th>10</th>\n",
       "      <td>12/11/2013</td>\n",
       "      <td>6/18/2010</td>\n",
       "      <td>NaN</td>\n",
       "      <td>1.0</td>\n",
       "    </tr>\n",
       "    <tr>\n",
       "      <th>11</th>\n",
       "      <td>13/11/2013</td>\n",
       "      <td>6/18/2010</td>\n",
       "      <td>NaN</td>\n",
       "      <td>1.0</td>\n",
       "    </tr>\n",
       "    <tr>\n",
       "      <th>12</th>\n",
       "      <td>29/06/2010</td>\n",
       "      <td>6/18/2010</td>\n",
       "      <td>NaN</td>\n",
       "      <td>1.0</td>\n",
       "    </tr>\n",
       "    <tr>\n",
       "      <th>...</th>\n",
       "      <td>...</td>\n",
       "      <td>...</td>\n",
       "      <td>...</td>\n",
       "      <td>...</td>\n",
       "    </tr>\n",
       "    <tr>\n",
       "      <th>455926</th>\n",
       "      <td>30/10/2001</td>\n",
       "      <td>6/14/2001</td>\n",
       "      <td>NaN</td>\n",
       "      <td>1.0</td>\n",
       "    </tr>\n",
       "    <tr>\n",
       "      <th>455927</th>\n",
       "      <td>19/04/2002</td>\n",
       "      <td>6/14/2001</td>\n",
       "      <td>NaN</td>\n",
       "      <td>1.0</td>\n",
       "    </tr>\n",
       "    <tr>\n",
       "      <th>455928</th>\n",
       "      <td>30/10/2001</td>\n",
       "      <td>6/14/2001</td>\n",
       "      <td>NaN</td>\n",
       "      <td>1.0</td>\n",
       "    </tr>\n",
       "    <tr>\n",
       "      <th>455933</th>\n",
       "      <td>11/04/2005</td>\n",
       "      <td>12/21/2004</td>\n",
       "      <td>NaN</td>\n",
       "      <td>1.0</td>\n",
       "    </tr>\n",
       "    <tr>\n",
       "      <th>455934</th>\n",
       "      <td>11/04/2005</td>\n",
       "      <td>12/21/2004</td>\n",
       "      <td>NaN</td>\n",
       "      <td>1.0</td>\n",
       "    </tr>\n",
       "  </tbody>\n",
       "</table>\n",
       "<p>113489 rows × 4 columns</p>\n",
       "</div>"
      ],
      "text/plain": [
       "             dates          AF  AF_already  AF_already2\n",
       "8              NaN   4/21/1997         NaN          0.0\n",
       "9       22/02/2012   6/18/2010         NaN          1.0\n",
       "10      12/11/2013   6/18/2010         NaN          1.0\n",
       "11      13/11/2013   6/18/2010         NaN          1.0\n",
       "12      29/06/2010   6/18/2010         NaN          1.0\n",
       "...            ...         ...         ...          ...\n",
       "455926  30/10/2001   6/14/2001         NaN          1.0\n",
       "455927  19/04/2002   6/14/2001         NaN          1.0\n",
       "455928  30/10/2001   6/14/2001         NaN          1.0\n",
       "455933  11/04/2005  12/21/2004         NaN          1.0\n",
       "455934  11/04/2005  12/21/2004         NaN          1.0\n",
       "\n",
       "[113489 rows x 4 columns]"
      ]
     },
     "execution_count": 60,
     "metadata": {},
     "output_type": "execute_result"
    }
   ],
   "source": [
    "additional_targets[(additional_targets['AF_already'] != additional_targets['AF_already2']) & (pd.notna(additional_targets['AF']))][['dates','AF', 'AF_already', 'AF_already2']]"
   ]
  },
  {
   "cell_type": "code",
   "execution_count": 61,
   "metadata": {},
   "outputs": [
    {
     "name": "stderr",
     "output_type": "stream",
     "text": [
      "/var/folders/t5/rmhnhv8d39v2fgyk_bv5fx7h0000gn/T/ipykernel_26322/1355424825.py:24: SettingWithCopyWarning: \n",
      "A value is trying to be set on a copy of a slice from a DataFrame\n",
      "\n",
      "See the caveats in the documentation: https://pandas.pydata.org/pandas-docs/stable/user_guide/indexing.html#returning-a-view-versus-a-copy\n",
      "  additional_targets[f'{var}_already'][pd.isna(additional_targets[var])]=np.nan\n"
     ]
    },
    {
     "name": "stdout",
     "output_type": "stream",
     "text": [
      "DM_already\n",
      "1.0    68283\n",
      "0.0    50144\n",
      "Name: count, dtype: int64\n"
     ]
    },
    {
     "name": "stderr",
     "output_type": "stream",
     "text": [
      "/var/folders/t5/rmhnhv8d39v2fgyk_bv5fx7h0000gn/T/ipykernel_26322/1355424825.py:24: SettingWithCopyWarning: \n",
      "A value is trying to be set on a copy of a slice from a DataFrame\n",
      "\n",
      "See the caveats in the documentation: https://pandas.pydata.org/pandas-docs/stable/user_guide/indexing.html#returning-a-view-versus-a-copy\n",
      "  additional_targets[f'{var}_already'][pd.isna(additional_targets[var])]=np.nan\n"
     ]
    },
    {
     "name": "stdout",
     "output_type": "stream",
     "text": [
      "CVA_already\n",
      "1.0    31356\n",
      "0.0    27660\n",
      "Name: count, dtype: int64\n"
     ]
    },
    {
     "name": "stderr",
     "output_type": "stream",
     "text": [
      "/var/folders/t5/rmhnhv8d39v2fgyk_bv5fx7h0000gn/T/ipykernel_26322/1355424825.py:24: SettingWithCopyWarning: \n",
      "A value is trying to be set on a copy of a slice from a DataFrame\n",
      "\n",
      "See the caveats in the documentation: https://pandas.pydata.org/pandas-docs/stable/user_guide/indexing.html#returning-a-view-versus-a-copy\n",
      "  additional_targets[f'{var}_already'][pd.isna(additional_targets[var])]=np.nan\n"
     ]
    },
    {
     "name": "stdout",
     "output_type": "stream",
     "text": [
      "first_AF_in_home_ECG_already\n",
      "1.0    141786\n",
      "0.0     67490\n",
      "Name: count, dtype: int64\n"
     ]
    },
    {
     "name": "stderr",
     "output_type": "stream",
     "text": [
      "/var/folders/t5/rmhnhv8d39v2fgyk_bv5fx7h0000gn/T/ipykernel_26322/1355424825.py:24: SettingWithCopyWarning: \n",
      "A value is trying to be set on a copy of a slice from a DataFrame\n",
      "\n",
      "See the caveats in the documentation: https://pandas.pydata.org/pandas-docs/stable/user_guide/indexing.html#returning-a-view-versus-a-copy\n",
      "  additional_targets[f'{var}_already'][pd.isna(additional_targets[var])]=np.nan\n"
     ]
    },
    {
     "name": "stdout",
     "output_type": "stream",
     "text": [
      "first_AF_in_Dispatch_already\n",
      "1.0    131996\n",
      "0.0     62442\n",
      "Name: count, dtype: int64\n"
     ]
    },
    {
     "name": "stderr",
     "output_type": "stream",
     "text": [
      "/var/folders/t5/rmhnhv8d39v2fgyk_bv5fx7h0000gn/T/ipykernel_26322/1355424825.py:24: SettingWithCopyWarning: \n",
      "A value is trying to be set on a copy of a slice from a DataFrame\n",
      "\n",
      "See the caveats in the documentation: https://pandas.pydata.org/pandas-docs/stable/user_guide/indexing.html#returning-a-view-versus-a-copy\n",
      "  additional_targets[f'{var}_already'][pd.isna(additional_targets[var])]=np.nan\n"
     ]
    },
    {
     "name": "stdout",
     "output_type": "stream",
     "text": [
      "AF_already\n",
      "1.0    114559\n",
      "0.0     60685\n",
      "Name: count, dtype: int64\n"
     ]
    },
    {
     "name": "stderr",
     "output_type": "stream",
     "text": [
      "/var/folders/t5/rmhnhv8d39v2fgyk_bv5fx7h0000gn/T/ipykernel_26322/1355424825.py:24: SettingWithCopyWarning: \n",
      "A value is trying to be set on a copy of a slice from a DataFrame\n",
      "\n",
      "See the caveats in the documentation: https://pandas.pydata.org/pandas-docs/stable/user_guide/indexing.html#returning-a-view-versus-a-copy\n",
      "  additional_targets[f'{var}_already'][pd.isna(additional_targets[var])]=np.nan\n"
     ]
    },
    {
     "name": "stdout",
     "output_type": "stream",
     "text": [
      "IHD_already\n",
      "1.0    219403\n",
      "0.0     27495\n",
      "Name: count, dtype: int64\n"
     ]
    },
    {
     "name": "stderr",
     "output_type": "stream",
     "text": [
      "/var/folders/t5/rmhnhv8d39v2fgyk_bv5fx7h0000gn/T/ipykernel_26322/1355424825.py:24: SettingWithCopyWarning: \n",
      "A value is trying to be set on a copy of a slice from a DataFrame\n",
      "\n",
      "See the caveats in the documentation: https://pandas.pydata.org/pandas-docs/stable/user_guide/indexing.html#returning-a-view-versus-a-copy\n",
      "  additional_targets[f'{var}_already'][pd.isna(additional_targets[var])]=np.nan\n"
     ]
    },
    {
     "name": "stdout",
     "output_type": "stream",
     "text": [
      "s/p MI all_already\n",
      "1.0    144849\n",
      "0.0     18143\n",
      "Name: count, dtype: int64\n"
     ]
    },
    {
     "name": "stderr",
     "output_type": "stream",
     "text": [
      "/var/folders/t5/rmhnhv8d39v2fgyk_bv5fx7h0000gn/T/ipykernel_26322/1355424825.py:24: SettingWithCopyWarning: \n",
      "A value is trying to be set on a copy of a slice from a DataFrame\n",
      "\n",
      "See the caveats in the documentation: https://pandas.pydata.org/pandas-docs/stable/user_guide/indexing.html#returning-a-view-versus-a-copy\n",
      "  additional_targets[f'{var}_already'][pd.isna(additional_targets[var])]=np.nan\n"
     ]
    },
    {
     "name": "stdout",
     "output_type": "stream",
     "text": [
      "s/p CABG_already\n",
      "1.0    72394\n",
      "0.0     7894\n",
      "Name: count, dtype: int64\n"
     ]
    },
    {
     "name": "stderr",
     "output_type": "stream",
     "text": [
      "/var/folders/t5/rmhnhv8d39v2fgyk_bv5fx7h0000gn/T/ipykernel_26322/1355424825.py:24: SettingWithCopyWarning: \n",
      "A value is trying to be set on a copy of a slice from a DataFrame\n",
      "\n",
      "See the caveats in the documentation: https://pandas.pydata.org/pandas-docs/stable/user_guide/indexing.html#returning-a-view-versus-a-copy\n",
      "  additional_targets[f'{var}_already'][pd.isna(additional_targets[var])]=np.nan\n"
     ]
    },
    {
     "name": "stdout",
     "output_type": "stream",
     "text": [
      "CHF_already\n",
      "1.0    41354\n",
      "0.0    35005\n",
      "Name: count, dtype: int64\n"
     ]
    },
    {
     "name": "stderr",
     "output_type": "stream",
     "text": [
      "/var/folders/t5/rmhnhv8d39v2fgyk_bv5fx7h0000gn/T/ipykernel_26322/1355424825.py:24: SettingWithCopyWarning: \n",
      "A value is trying to be set on a copy of a slice from a DataFrame\n",
      "\n",
      "See the caveats in the documentation: https://pandas.pydata.org/pandas-docs/stable/user_guide/indexing.html#returning-a-view-versus-a-copy\n",
      "  additional_targets[f'{var}_already'][pd.isna(additional_targets[var])]=np.nan\n"
     ]
    },
    {
     "name": "stdout",
     "output_type": "stream",
     "text": [
      "s/p CPR_already\n",
      "1.0    10220\n",
      "0.0     1643\n",
      "Name: count, dtype: int64\n",
      "cpr_shl_already\n",
      "0.0    16390\n",
      "1.0     2011\n",
      "Name: count, dtype: int64\n"
     ]
    },
    {
     "name": "stderr",
     "output_type": "stream",
     "text": [
      "/var/folders/t5/rmhnhv8d39v2fgyk_bv5fx7h0000gn/T/ipykernel_26322/1355424825.py:24: SettingWithCopyWarning: \n",
      "A value is trying to be set on a copy of a slice from a DataFrame\n",
      "\n",
      "See the caveats in the documentation: https://pandas.pydata.org/pandas-docs/stable/user_guide/indexing.html#returning-a-view-versus-a-copy\n",
      "  additional_targets[f'{var}_already'][pd.isna(additional_targets[var])]=np.nan\n"
     ]
    }
   ],
   "source": [
    "def diff2(date1, date2):\n",
    "    \"\"\"\n",
    "    difference (in days) between two dates, assuming date2 is the last.\n",
    "    date1 and date2 are strings.\n",
    "    \"\"\"\n",
    "    from datetime import date\n",
    "    \n",
    "    try:\n",
    "        d1,m1,y1 = date1.split('/')\n",
    "        m2,d2,y2 = date2.split('/')\n",
    "\n",
    "        date1 = date(int(y1),int(m1),int(d1))\n",
    "        date2 = date(int(y2),int(m2),int(d2))\n",
    "        ret = (date2-date1).days\n",
    "    except:\n",
    "        ret = None\n",
    "    \n",
    "    return ret\n",
    "\n",
    "for var in ['DM', 'CVA', 'first_AF_in_home_ECG', 'first_AF_in_Dispatch', 'AF', 'IHD', 's/p MI all','s/p CABG', 'CHF', 's/p CPR', 'cpr_shl']:\n",
    "\n",
    "    additional_targets[f'{var}_already_temp'] = [diff2(additional_targets['dates'][j], additional_targets[var][j]) for j in range(len(additional_targets))]\n",
    "    additional_targets[f'{var}_already'] = (additional_targets[f'{var}_already_temp']<0).astype(int)\n",
    "    additional_targets[f'{var}_already'][pd.isna(additional_targets[var])]=np.nan \n",
    "    print(additional_targets[f'{var}_already'].value_counts())\n",
    "\n"
   ]
  },
  {
   "cell_type": "code",
   "execution_count": 84,
   "metadata": {},
   "outputs": [
    {
     "name": "stdout",
     "output_type": "stream",
     "text": [
      "CVA\n"
     ]
    },
    {
     "data": {
      "text/plain": [
       "CVA\n",
       "0.0    0.932341\n",
       "1.0    0.067659\n",
       "Name: proportion, dtype: float64"
      ]
     },
     "metadata": {},
     "output_type": "display_data"
    },
    {
     "name": "stdout",
     "output_type": "stream",
     "text": [
      "first_AF_in_home_ECG\n"
     ]
    },
    {
     "data": {
      "text/plain": [
       "first_AF_in_home_ECG\n",
       "0.0    0.694058\n",
       "1.0    0.305942\n",
       "Name: proportion, dtype: float64"
      ]
     },
     "metadata": {},
     "output_type": "display_data"
    },
    {
     "name": "stdout",
     "output_type": "stream",
     "text": [
      "first_AF_in_Dispatch\n"
     ]
    },
    {
     "data": {
      "text/plain": [
       "first_AF_in_Dispatch\n",
       "0.0    0.715183\n",
       "1.0    0.284817\n",
       "Name: proportion, dtype: float64"
      ]
     },
     "metadata": {},
     "output_type": "display_data"
    },
    {
     "name": "stdout",
     "output_type": "stream",
     "text": [
      "AF\n"
     ]
    },
    {
     "data": {
      "text/plain": [
       "AF\n",
       "0.0    0.752808\n",
       "1.0    0.247192\n",
       "Name: proportion, dtype: float64"
      ]
     },
     "metadata": {},
     "output_type": "display_data"
    },
    {
     "name": "stdout",
     "output_type": "stream",
     "text": [
      "IHD\n"
     ]
    },
    {
     "data": {
      "text/plain": [
       "IHD\n",
       "0.0    0.526578\n",
       "1.0    0.473422\n",
       "Name: proportion, dtype: float64"
      ]
     },
     "metadata": {},
     "output_type": "display_data"
    },
    {
     "name": "stdout",
     "output_type": "stream",
     "text": [
      "sp_MI_all\n"
     ]
    },
    {
     "data": {
      "text/plain": [
       "sp_MI_all\n",
       "0.0    0.687449\n",
       "1.0    0.312551\n",
       "Name: proportion, dtype: float64"
      ]
     },
     "metadata": {},
     "output_type": "display_data"
    },
    {
     "name": "stdout",
     "output_type": "stream",
     "text": [
      "sp_CABG\n"
     ]
    },
    {
     "data": {
      "text/plain": [
       "sp_CABG\n",
       "0.0    0.84379\n",
       "1.0    0.15621\n",
       "Name: proportion, dtype: float64"
      ]
     },
     "metadata": {},
     "output_type": "display_data"
    },
    {
     "name": "stdout",
     "output_type": "stream",
     "text": [
      "CHF\n"
     ]
    },
    {
     "data": {
      "text/plain": [
       "CHF\n",
       "0.0    0.910767\n",
       "1.0    0.089233\n",
       "Name: proportion, dtype: float64"
      ]
     },
     "metadata": {},
     "output_type": "display_data"
    },
    {
     "name": "stdout",
     "output_type": "stream",
     "text": [
      "sp_CPR\n"
     ]
    },
    {
     "data": {
      "text/plain": [
       "sp_CPR\n",
       "0.0    0.977948\n",
       "1.0    0.022052\n",
       "Name: proportion, dtype: float64"
      ]
     },
     "metadata": {},
     "output_type": "display_data"
    },
    {
     "name": "stdout",
     "output_type": "stream",
     "text": [
      "cpr_shl\n"
     ]
    },
    {
     "data": {
      "text/plain": [
       "cpr_shl\n",
       "0.0    0.995661\n",
       "1.0    0.004339\n",
       "Name: proportion, dtype: float64"
      ]
     },
     "metadata": {},
     "output_type": "display_data"
    },
    {
     "name": "stdout",
     "output_type": "stream",
     "text": [
      "DM2\n"
     ]
    },
    {
     "data": {
      "text/plain": [
       "DM2\n",
       "0.0    0.852661\n",
       "1.0    0.147339\n",
       "Name: proportion, dtype: float64"
      ]
     },
     "metadata": {},
     "output_type": "display_data"
    },
    {
     "name": "stdout",
     "output_type": "stream",
     "text": [
      "AF2\n"
     ]
    },
    {
     "data": {
      "text/plain": [
       "AF2\n",
       "0.0    0.752808\n",
       "1.0    0.247192\n",
       "Name: proportion, dtype: float64"
      ]
     },
     "metadata": {},
     "output_type": "display_data"
    },
    {
     "name": "stdout",
     "output_type": "stream",
     "text": [
      "DM\n"
     ]
    },
    {
     "data": {
      "text/plain": [
       "DM\n",
       "0.0    0.852661\n",
       "1.0    0.147339\n",
       "Name: proportion, dtype: float64"
      ]
     },
     "metadata": {},
     "output_type": "display_data"
    }
   ],
   "source": [
    "additional_targets_processed = (\n",
    "    additional_targets[['dates','reading']+[x for x in additional_targets.columns if 'already' in x and '_temp' not in x]].\n",
    "    rename({x:x.replace('_already','').\n",
    "            replace('s/p','sp').\n",
    "            replace(' ','_') for x in additional_targets.columns if '_already' in x},axis=1)\n",
    ") \n",
    "for x in additional_targets_processed.columns: \n",
    "    if x not in ['dates', 'reading']:\n",
    "        additional_targets_processed[x]=additional_targets_processed[x].fillna(0)\n",
    "        print(x)\n",
    "        display(additional_targets_processed[x].value_counts(normalize=True))\n",
    "\n",
    "\n",
    "# additional_targets_processed.to_csv('./data/combined_data/targets.csv')\n",
    "    "
   ]
  },
  {
   "attachments": {},
   "cell_type": "markdown",
   "metadata": {},
   "source": [
    "# Merge with Death Outcome"
   ]
  },
  {
   "cell_type": "code",
   "execution_count": 91,
   "metadata": {},
   "outputs": [
    {
     "data": {
      "text/plain": [
       "_merge\n",
       "both          395772\n",
       "right_only     67669\n",
       "left_only        180\n",
       "Name: count, dtype: int64"
      ]
     },
     "execution_count": 91,
     "metadata": {},
     "output_type": "execute_result"
    }
   ],
   "source": [
    "train_metadata['sample'] = 'train'\n",
    "validation_metadata['sample'] = 'validation'\n",
    "test_metadata['sample'] = 'test'\n",
    "\n",
    "death_metadata = pd.concat([train_metadata,validation_metadata,test_metadata],axis=0, ignore_index=True)\n",
    "death_metadata[['reading','outcome']].merge(additional_targets_processed,\n",
    "                                            on='reading',\n",
    "                                            how='outer',\n",
    "                                            indicator=True)['_merge'].value_counts()"
   ]
  },
  {
   "cell_type": "code",
   "execution_count": 94,
   "metadata": {},
   "outputs": [
    {
     "data": {
      "text/plain": [
       "Index(['dates', 'reading', 'CVA', 'first_AF_in_home_ECG',\n",
       "       'first_AF_in_Dispatch', 'AF', 'IHD', 'sp_MI_all', 'sp_CABG', 'CHF',\n",
       "       'sp_CPR', 'cpr_shl', 'DM2', 'AF2', 'DM'],\n",
       "      dtype='object')"
      ]
     },
     "execution_count": 94,
     "metadata": {},
     "output_type": "execute_result"
    }
   ],
   "source": [
    "additional_targets_processed.columns"
   ]
  },
  {
   "cell_type": "code",
   "execution_count": 101,
   "metadata": {},
   "outputs": [
    {
     "data": {
      "text/plain": [
       "'/Users/davidharar/Documents/School/thesis/downstream_classification/notebooks'"
      ]
     },
     "execution_count": 101,
     "metadata": {},
     "output_type": "execute_result"
    }
   ],
   "source": [
    "os.listdir('../data/combined_data/')"
   ]
  },
  {
   "cell_type": "code",
   "execution_count": 102,
   "metadata": {},
   "outputs": [
    {
     "data": {
      "text/html": [
       "<div>\n",
       "<style scoped>\n",
       "    .dataframe tbody tr th:only-of-type {\n",
       "        vertical-align: middle;\n",
       "    }\n",
       "\n",
       "    .dataframe tbody tr th {\n",
       "        vertical-align: top;\n",
       "    }\n",
       "\n",
       "    .dataframe thead th {\n",
       "        text-align: right;\n",
       "    }\n",
       "</style>\n",
       "<table border=\"1\" class=\"dataframe\">\n",
       "  <thead>\n",
       "    <tr style=\"text-align: right;\">\n",
       "      <th></th>\n",
       "      <th>sample</th>\n",
       "      <th>reading</th>\n",
       "      <th>dates</th>\n",
       "      <th>one_year_until_death</th>\n",
       "      <th>CVA</th>\n",
       "      <th>first_AF_in_home_ECG</th>\n",
       "      <th>first_AF_in_Dispatch</th>\n",
       "      <th>AF</th>\n",
       "      <th>IHD</th>\n",
       "      <th>sp_MI_all</th>\n",
       "      <th>sp_CABG</th>\n",
       "      <th>CHF</th>\n",
       "      <th>sp_CPR</th>\n",
       "      <th>cpr_shl</th>\n",
       "      <th>DM2</th>\n",
       "      <th>AF2</th>\n",
       "      <th>DM</th>\n",
       "    </tr>\n",
       "  </thead>\n",
       "  <tbody>\n",
       "    <tr>\n",
       "      <th>0</th>\n",
       "      <td>train</td>\n",
       "      <td>427805</td>\n",
       "      <td>20/01/2008</td>\n",
       "      <td>0</td>\n",
       "      <td>0.0</td>\n",
       "      <td>1.0</td>\n",
       "      <td>1.0</td>\n",
       "      <td>1.0</td>\n",
       "      <td>0.0</td>\n",
       "      <td>0.0</td>\n",
       "      <td>0.0</td>\n",
       "      <td>0.0</td>\n",
       "      <td>0.0</td>\n",
       "      <td>0.0</td>\n",
       "      <td>0.0</td>\n",
       "      <td>1.0</td>\n",
       "      <td>0.0</td>\n",
       "    </tr>\n",
       "    <tr>\n",
       "      <th>1</th>\n",
       "      <td>train</td>\n",
       "      <td>356921</td>\n",
       "      <td>23/02/2010</td>\n",
       "      <td>0</td>\n",
       "      <td>0.0</td>\n",
       "      <td>0.0</td>\n",
       "      <td>0.0</td>\n",
       "      <td>0.0</td>\n",
       "      <td>1.0</td>\n",
       "      <td>0.0</td>\n",
       "      <td>1.0</td>\n",
       "      <td>0.0</td>\n",
       "      <td>0.0</td>\n",
       "      <td>0.0</td>\n",
       "      <td>1.0</td>\n",
       "      <td>0.0</td>\n",
       "      <td>1.0</td>\n",
       "    </tr>\n",
       "    <tr>\n",
       "      <th>2</th>\n",
       "      <td>train</td>\n",
       "      <td>428248</td>\n",
       "      <td>19/12/2015</td>\n",
       "      <td>0</td>\n",
       "      <td>0.0</td>\n",
       "      <td>0.0</td>\n",
       "      <td>0.0</td>\n",
       "      <td>0.0</td>\n",
       "      <td>1.0</td>\n",
       "      <td>0.0</td>\n",
       "      <td>0.0</td>\n",
       "      <td>0.0</td>\n",
       "      <td>0.0</td>\n",
       "      <td>0.0</td>\n",
       "      <td>0.0</td>\n",
       "      <td>0.0</td>\n",
       "      <td>0.0</td>\n",
       "    </tr>\n",
       "    <tr>\n",
       "      <th>3</th>\n",
       "      <td>train</td>\n",
       "      <td>440621</td>\n",
       "      <td>18/08/2017</td>\n",
       "      <td>0</td>\n",
       "      <td>0.0</td>\n",
       "      <td>1.0</td>\n",
       "      <td>1.0</td>\n",
       "      <td>1.0</td>\n",
       "      <td>0.0</td>\n",
       "      <td>0.0</td>\n",
       "      <td>0.0</td>\n",
       "      <td>0.0</td>\n",
       "      <td>0.0</td>\n",
       "      <td>0.0</td>\n",
       "      <td>0.0</td>\n",
       "      <td>1.0</td>\n",
       "      <td>0.0</td>\n",
       "    </tr>\n",
       "    <tr>\n",
       "      <th>4</th>\n",
       "      <td>train</td>\n",
       "      <td>32229</td>\n",
       "      <td>10/07/2019</td>\n",
       "      <td>0</td>\n",
       "      <td>0.0</td>\n",
       "      <td>1.0</td>\n",
       "      <td>1.0</td>\n",
       "      <td>1.0</td>\n",
       "      <td>1.0</td>\n",
       "      <td>0.0</td>\n",
       "      <td>0.0</td>\n",
       "      <td>0.0</td>\n",
       "      <td>0.0</td>\n",
       "      <td>0.0</td>\n",
       "      <td>1.0</td>\n",
       "      <td>1.0</td>\n",
       "      <td>1.0</td>\n",
       "    </tr>\n",
       "    <tr>\n",
       "      <th>...</th>\n",
       "      <td>...</td>\n",
       "      <td>...</td>\n",
       "      <td>...</td>\n",
       "      <td>...</td>\n",
       "      <td>...</td>\n",
       "      <td>...</td>\n",
       "      <td>...</td>\n",
       "      <td>...</td>\n",
       "      <td>...</td>\n",
       "      <td>...</td>\n",
       "      <td>...</td>\n",
       "      <td>...</td>\n",
       "      <td>...</td>\n",
       "      <td>...</td>\n",
       "      <td>...</td>\n",
       "      <td>...</td>\n",
       "      <td>...</td>\n",
       "    </tr>\n",
       "    <tr>\n",
       "      <th>395767</th>\n",
       "      <td>test</td>\n",
       "      <td>387849</td>\n",
       "      <td>01/04/2001</td>\n",
       "      <td>0</td>\n",
       "      <td>0.0</td>\n",
       "      <td>0.0</td>\n",
       "      <td>0.0</td>\n",
       "      <td>0.0</td>\n",
       "      <td>0.0</td>\n",
       "      <td>0.0</td>\n",
       "      <td>0.0</td>\n",
       "      <td>0.0</td>\n",
       "      <td>0.0</td>\n",
       "      <td>0.0</td>\n",
       "      <td>0.0</td>\n",
       "      <td>0.0</td>\n",
       "      <td>0.0</td>\n",
       "    </tr>\n",
       "    <tr>\n",
       "      <th>395768</th>\n",
       "      <td>test</td>\n",
       "      <td>395752</td>\n",
       "      <td>23/04/2012</td>\n",
       "      <td>0</td>\n",
       "      <td>0.0</td>\n",
       "      <td>0.0</td>\n",
       "      <td>0.0</td>\n",
       "      <td>0.0</td>\n",
       "      <td>1.0</td>\n",
       "      <td>1.0</td>\n",
       "      <td>0.0</td>\n",
       "      <td>0.0</td>\n",
       "      <td>0.0</td>\n",
       "      <td>0.0</td>\n",
       "      <td>0.0</td>\n",
       "      <td>0.0</td>\n",
       "      <td>0.0</td>\n",
       "    </tr>\n",
       "    <tr>\n",
       "      <th>395769</th>\n",
       "      <td>test</td>\n",
       "      <td>434377</td>\n",
       "      <td>03/09/2012</td>\n",
       "      <td>0</td>\n",
       "      <td>0.0</td>\n",
       "      <td>0.0</td>\n",
       "      <td>0.0</td>\n",
       "      <td>0.0</td>\n",
       "      <td>0.0</td>\n",
       "      <td>0.0</td>\n",
       "      <td>0.0</td>\n",
       "      <td>0.0</td>\n",
       "      <td>0.0</td>\n",
       "      <td>0.0</td>\n",
       "      <td>0.0</td>\n",
       "      <td>0.0</td>\n",
       "      <td>0.0</td>\n",
       "    </tr>\n",
       "    <tr>\n",
       "      <th>395770</th>\n",
       "      <td>test</td>\n",
       "      <td>384590</td>\n",
       "      <td>10/09/2000</td>\n",
       "      <td>0</td>\n",
       "      <td>0.0</td>\n",
       "      <td>0.0</td>\n",
       "      <td>0.0</td>\n",
       "      <td>0.0</td>\n",
       "      <td>0.0</td>\n",
       "      <td>0.0</td>\n",
       "      <td>0.0</td>\n",
       "      <td>0.0</td>\n",
       "      <td>0.0</td>\n",
       "      <td>0.0</td>\n",
       "      <td>0.0</td>\n",
       "      <td>0.0</td>\n",
       "      <td>0.0</td>\n",
       "    </tr>\n",
       "    <tr>\n",
       "      <th>395771</th>\n",
       "      <td>test</td>\n",
       "      <td>332247</td>\n",
       "      <td>16/05/2001</td>\n",
       "      <td>0</td>\n",
       "      <td>0.0</td>\n",
       "      <td>0.0</td>\n",
       "      <td>0.0</td>\n",
       "      <td>0.0</td>\n",
       "      <td>0.0</td>\n",
       "      <td>0.0</td>\n",
       "      <td>0.0</td>\n",
       "      <td>0.0</td>\n",
       "      <td>0.0</td>\n",
       "      <td>0.0</td>\n",
       "      <td>0.0</td>\n",
       "      <td>0.0</td>\n",
       "      <td>0.0</td>\n",
       "    </tr>\n",
       "  </tbody>\n",
       "</table>\n",
       "<p>395772 rows × 17 columns</p>\n",
       "</div>"
      ],
      "text/plain": [
       "       sample  reading       dates  one_year_until_death  CVA  \\\n",
       "0       train   427805  20/01/2008                     0  0.0   \n",
       "1       train   356921  23/02/2010                     0  0.0   \n",
       "2       train   428248  19/12/2015                     0  0.0   \n",
       "3       train   440621  18/08/2017                     0  0.0   \n",
       "4       train    32229  10/07/2019                     0  0.0   \n",
       "...       ...      ...         ...                   ...  ...   \n",
       "395767   test   387849  01/04/2001                     0  0.0   \n",
       "395768   test   395752  23/04/2012                     0  0.0   \n",
       "395769   test   434377  03/09/2012                     0  0.0   \n",
       "395770   test   384590  10/09/2000                     0  0.0   \n",
       "395771   test   332247  16/05/2001                     0  0.0   \n",
       "\n",
       "        first_AF_in_home_ECG  first_AF_in_Dispatch   AF  IHD  sp_MI_all  \\\n",
       "0                        1.0                   1.0  1.0  0.0        0.0   \n",
       "1                        0.0                   0.0  0.0  1.0        0.0   \n",
       "2                        0.0                   0.0  0.0  1.0        0.0   \n",
       "3                        1.0                   1.0  1.0  0.0        0.0   \n",
       "4                        1.0                   1.0  1.0  1.0        0.0   \n",
       "...                      ...                   ...  ...  ...        ...   \n",
       "395767                   0.0                   0.0  0.0  0.0        0.0   \n",
       "395768                   0.0                   0.0  0.0  1.0        1.0   \n",
       "395769                   0.0                   0.0  0.0  0.0        0.0   \n",
       "395770                   0.0                   0.0  0.0  0.0        0.0   \n",
       "395771                   0.0                   0.0  0.0  0.0        0.0   \n",
       "\n",
       "        sp_CABG  CHF  sp_CPR  cpr_shl  DM2  AF2   DM  \n",
       "0           0.0  0.0     0.0      0.0  0.0  1.0  0.0  \n",
       "1           1.0  0.0     0.0      0.0  1.0  0.0  1.0  \n",
       "2           0.0  0.0     0.0      0.0  0.0  0.0  0.0  \n",
       "3           0.0  0.0     0.0      0.0  0.0  1.0  0.0  \n",
       "4           0.0  0.0     0.0      0.0  1.0  1.0  1.0  \n",
       "...         ...  ...     ...      ...  ...  ...  ...  \n",
       "395767      0.0  0.0     0.0      0.0  0.0  0.0  0.0  \n",
       "395768      0.0  0.0     0.0      0.0  0.0  0.0  0.0  \n",
       "395769      0.0  0.0     0.0      0.0  0.0  0.0  0.0  \n",
       "395770      0.0  0.0     0.0      0.0  0.0  0.0  0.0  \n",
       "395771      0.0  0.0     0.0      0.0  0.0  0.0  0.0  \n",
       "\n",
       "[395772 rows x 17 columns]"
      ]
     },
     "execution_count": 102,
     "metadata": {},
     "output_type": "execute_result"
    }
   ],
   "source": [
    "death_metadata = pd.concat([train_metadata,validation_metadata,test_metadata],axis=0, ignore_index=True)\n",
    "\n",
    "metadata = (\n",
    "    death_metadata[['sample','reading','outcome']].merge(additional_targets_processed,\n",
    "                                            on='reading',\n",
    "                                            how='inner')[['sample','reading', 'dates','outcome', 'CVA', 'first_AF_in_home_ECG',\n",
    "                                                          'first_AF_in_Dispatch', 'AF', 'IHD', 'sp_MI_all', 'sp_CABG', 'CHF',\n",
    "                                                          'sp_CPR', 'cpr_shl', 'DM2', 'AF2', 'DM']].\n",
    "                                                          rename({'outcome':'one_year_until_death'},axis=1)\n",
    "\n",
    ")\n",
    "# metadata.to_csv('../data/combined_data/metadata.csv')\n",
    "metadata"
   ]
  },
  {
   "cell_type": "code",
   "execution_count": 121,
   "metadata": {},
   "outputs": [
    {
     "data": {
      "text/plain": [
       "427805"
      ]
     },
     "execution_count": 121,
     "metadata": {},
     "output_type": "execute_result"
    }
   ],
   "source": [
    "metadata['reading'][0]"
   ]
  },
  {
   "cell_type": "code",
   "execution_count": 125,
   "metadata": {},
   "outputs": [
    {
     "data": {
      "text/plain": [
       "array([[0., 1.]])"
      ]
     },
     "execution_count": 125,
     "metadata": {},
     "output_type": "execute_result"
    }
   ],
   "source": [
    "signal_index = 427805\n",
    "targets = ['one_year_until_death', 'AF']\n",
    "metadata[metadata['reading'] == signal_index][targets].values\n"
   ]
  },
  {
   "attachments": {},
   "cell_type": "markdown",
   "metadata": {},
   "source": [
    "# Save indivudual signals\n"
   ]
  },
  {
   "cell_type": "code",
   "execution_count": 2,
   "metadata": {},
   "outputs": [
    {
     "data": {
      "text/plain": [
       "['additional-targets.csv',\n",
       " 'metadata_only_existant_readings.csv',\n",
       " 'metadata_sample_for_testing_1.csv',\n",
       " 'metadata.csv',\n",
       " 'metadata_sample_for_testing_0.csv',\n",
       " 'train-metadata.csv',\n",
       " 'metadata_sample_for_testing_balanced_by_DM.csv',\n",
       " 'validation-metadata.csv',\n",
       " 'All_leads_2909_with_NAs_relevant_readings.csv',\n",
       " 'metadata_balanced_by_death.csv',\n",
       " 'test-metadata.csv',\n",
       " 'meta_data_w_Customer_CustID.csv',\n",
       " 'metadata_sample_for_testing-flipped-labels.csv',\n",
       " 'metadata_sample_for_testing.csv',\n",
       " 'sample-of-10k.csv',\n",
       " 'metadata_only_existant_readings_09042023.csv']"
      ]
     },
     "execution_count": 2,
     "metadata": {},
     "output_type": "execute_result"
    }
   ],
   "source": [
    "os.listdir('../data/combined_data/')"
   ]
  },
  {
   "cell_type": "code",
   "execution_count": 3,
   "metadata": {},
   "outputs": [
    {
     "data": {
      "text/plain": [
       "(5, 5400)"
      ]
     },
     "execution_count": 3,
     "metadata": {},
     "output_type": "execute_result"
    }
   ],
   "source": [
    "_ = (\n",
    "    pd.read_csv('../data/combined_data/All_leads_2909_with_NAs_relevant_readings.csv',nrows=5, index_col=0)\n",
    ")\n",
    "indices = _['reading'].values\n",
    "chunk = _.drop([x for x in _.columns if 'index' in x] + ['reading'],axis=1)\n",
    "chunk.shape"
   ]
  },
  {
   "cell_type": "code",
   "execution_count": 4,
   "metadata": {},
   "outputs": [
    {
     "data": {
      "text/html": [
       "<div>\n",
       "<style scoped>\n",
       "    .dataframe tbody tr th:only-of-type {\n",
       "        vertical-align: middle;\n",
       "    }\n",
       "\n",
       "    .dataframe tbody tr th {\n",
       "        vertical-align: top;\n",
       "    }\n",
       "\n",
       "    .dataframe thead th {\n",
       "        text-align: right;\n",
       "    }\n",
       "</style>\n",
       "<table border=\"1\" class=\"dataframe\">\n",
       "  <thead>\n",
       "    <tr style=\"text-align: right;\">\n",
       "      <th></th>\n",
       "      <th>LI_0</th>\n",
       "      <th>LI_1</th>\n",
       "      <th>LI_2</th>\n",
       "      <th>LI_3</th>\n",
       "      <th>LI_4</th>\n",
       "      <th>LI_5</th>\n",
       "      <th>LI_6</th>\n",
       "      <th>LI_7</th>\n",
       "      <th>LI_8</th>\n",
       "      <th>LI_9</th>\n",
       "      <th>...</th>\n",
       "      <th>V6_440</th>\n",
       "      <th>V6_441</th>\n",
       "      <th>V6_442</th>\n",
       "      <th>V6_443</th>\n",
       "      <th>V6_444</th>\n",
       "      <th>V6_445</th>\n",
       "      <th>V6_446</th>\n",
       "      <th>V6_447</th>\n",
       "      <th>V6_448</th>\n",
       "      <th>V6_449</th>\n",
       "    </tr>\n",
       "  </thead>\n",
       "  <tbody>\n",
       "    <tr>\n",
       "      <th>0</th>\n",
       "      <td>0.181759</td>\n",
       "      <td>0.170171</td>\n",
       "      <td>0.165855</td>\n",
       "      <td>0.173997</td>\n",
       "      <td>0.190517</td>\n",
       "      <td>0.205395</td>\n",
       "      <td>0.210581</td>\n",
       "      <td>0.205953</td>\n",
       "      <td>0.200640</td>\n",
       "      <td>0.200825</td>\n",
       "      <td>...</td>\n",
       "      <td>NaN</td>\n",
       "      <td>NaN</td>\n",
       "      <td>NaN</td>\n",
       "      <td>NaN</td>\n",
       "      <td>NaN</td>\n",
       "      <td>NaN</td>\n",
       "      <td>NaN</td>\n",
       "      <td>NaN</td>\n",
       "      <td>NaN</td>\n",
       "      <td>NaN</td>\n",
       "    </tr>\n",
       "    <tr>\n",
       "      <th>1</th>\n",
       "      <td>0.459594</td>\n",
       "      <td>0.447277</td>\n",
       "      <td>0.439849</td>\n",
       "      <td>0.433463</td>\n",
       "      <td>0.421895</td>\n",
       "      <td>0.408265</td>\n",
       "      <td>0.400133</td>\n",
       "      <td>0.395509</td>\n",
       "      <td>0.387051</td>\n",
       "      <td>0.372442</td>\n",
       "      <td>...</td>\n",
       "      <td>NaN</td>\n",
       "      <td>NaN</td>\n",
       "      <td>NaN</td>\n",
       "      <td>NaN</td>\n",
       "      <td>NaN</td>\n",
       "      <td>NaN</td>\n",
       "      <td>NaN</td>\n",
       "      <td>NaN</td>\n",
       "      <td>NaN</td>\n",
       "      <td>NaN</td>\n",
       "    </tr>\n",
       "    <tr>\n",
       "      <th>2</th>\n",
       "      <td>0.409843</td>\n",
       "      <td>0.418978</td>\n",
       "      <td>0.417481</td>\n",
       "      <td>0.402148</td>\n",
       "      <td>0.378215</td>\n",
       "      <td>0.352438</td>\n",
       "      <td>0.329572</td>\n",
       "      <td>0.321040</td>\n",
       "      <td>0.348614</td>\n",
       "      <td>0.428915</td>\n",
       "      <td>...</td>\n",
       "      <td>NaN</td>\n",
       "      <td>NaN</td>\n",
       "      <td>NaN</td>\n",
       "      <td>NaN</td>\n",
       "      <td>NaN</td>\n",
       "      <td>NaN</td>\n",
       "      <td>NaN</td>\n",
       "      <td>NaN</td>\n",
       "      <td>NaN</td>\n",
       "      <td>NaN</td>\n",
       "    </tr>\n",
       "    <tr>\n",
       "      <th>3</th>\n",
       "      <td>0.369911</td>\n",
       "      <td>0.389002</td>\n",
       "      <td>0.401170</td>\n",
       "      <td>0.402060</td>\n",
       "      <td>0.390232</td>\n",
       "      <td>0.368503</td>\n",
       "      <td>0.345600</td>\n",
       "      <td>0.332183</td>\n",
       "      <td>0.332401</td>\n",
       "      <td>0.340534</td>\n",
       "      <td>...</td>\n",
       "      <td>NaN</td>\n",
       "      <td>NaN</td>\n",
       "      <td>NaN</td>\n",
       "      <td>NaN</td>\n",
       "      <td>NaN</td>\n",
       "      <td>NaN</td>\n",
       "      <td>NaN</td>\n",
       "      <td>NaN</td>\n",
       "      <td>NaN</td>\n",
       "      <td>NaN</td>\n",
       "    </tr>\n",
       "    <tr>\n",
       "      <th>4</th>\n",
       "      <td>0.090338</td>\n",
       "      <td>0.075212</td>\n",
       "      <td>0.065811</td>\n",
       "      <td>0.066344</td>\n",
       "      <td>0.076146</td>\n",
       "      <td>0.088291</td>\n",
       "      <td>0.093732</td>\n",
       "      <td>0.089125</td>\n",
       "      <td>0.078993</td>\n",
       "      <td>0.068513</td>\n",
       "      <td>...</td>\n",
       "      <td>NaN</td>\n",
       "      <td>NaN</td>\n",
       "      <td>NaN</td>\n",
       "      <td>NaN</td>\n",
       "      <td>NaN</td>\n",
       "      <td>NaN</td>\n",
       "      <td>NaN</td>\n",
       "      <td>NaN</td>\n",
       "      <td>NaN</td>\n",
       "      <td>NaN</td>\n",
       "    </tr>\n",
       "  </tbody>\n",
       "</table>\n",
       "<p>5 rows × 5400 columns</p>\n",
       "</div>"
      ],
      "text/plain": [
       "       LI_0      LI_1      LI_2      LI_3      LI_4      LI_5      LI_6  \\\n",
       "0  0.181759  0.170171  0.165855  0.173997  0.190517  0.205395  0.210581   \n",
       "1  0.459594  0.447277  0.439849  0.433463  0.421895  0.408265  0.400133   \n",
       "2  0.409843  0.418978  0.417481  0.402148  0.378215  0.352438  0.329572   \n",
       "3  0.369911  0.389002  0.401170  0.402060  0.390232  0.368503  0.345600   \n",
       "4  0.090338  0.075212  0.065811  0.066344  0.076146  0.088291  0.093732   \n",
       "\n",
       "       LI_7      LI_8      LI_9  ...  V6_440  V6_441  V6_442  V6_443  V6_444  \\\n",
       "0  0.205953  0.200640  0.200825  ...     NaN     NaN     NaN     NaN     NaN   \n",
       "1  0.395509  0.387051  0.372442  ...     NaN     NaN     NaN     NaN     NaN   \n",
       "2  0.321040  0.348614  0.428915  ...     NaN     NaN     NaN     NaN     NaN   \n",
       "3  0.332183  0.332401  0.340534  ...     NaN     NaN     NaN     NaN     NaN   \n",
       "4  0.089125  0.078993  0.068513  ...     NaN     NaN     NaN     NaN     NaN   \n",
       "\n",
       "   V6_445  V6_446  V6_447  V6_448  V6_449  \n",
       "0     NaN     NaN     NaN     NaN     NaN  \n",
       "1     NaN     NaN     NaN     NaN     NaN  \n",
       "2     NaN     NaN     NaN     NaN     NaN  \n",
       "3     NaN     NaN     NaN     NaN     NaN  \n",
       "4     NaN     NaN     NaN     NaN     NaN  \n",
       "\n",
       "[5 rows x 5400 columns]"
      ]
     },
     "execution_count": 4,
     "metadata": {},
     "output_type": "execute_result"
    }
   ],
   "source": [
    "cols = [[f'{lead}_{j}' for j in range(450)] for lead in ['LI', 'LII', 'LIII', 'aVF', 'aVL', 'aVR','V1','V2','V3','V4','V5','V6']]\n",
    "cols = [item for sublist in cols for item in sublist]\n",
    "chunk[cols]"
   ]
  },
  {
   "cell_type": "code",
   "execution_count": 5,
   "metadata": {},
   "outputs": [
    {
     "data": {
      "text/html": [
       "<div>\n",
       "<style scoped>\n",
       "    .dataframe tbody tr th:only-of-type {\n",
       "        vertical-align: middle;\n",
       "    }\n",
       "\n",
       "    .dataframe tbody tr th {\n",
       "        vertical-align: top;\n",
       "    }\n",
       "\n",
       "    .dataframe thead th {\n",
       "        text-align: right;\n",
       "    }\n",
       "</style>\n",
       "<table border=\"1\" class=\"dataframe\">\n",
       "  <thead>\n",
       "    <tr style=\"text-align: right;\">\n",
       "      <th></th>\n",
       "      <th>reading</th>\n",
       "    </tr>\n",
       "  </thead>\n",
       "  <tbody>\n",
       "    <tr>\n",
       "      <th>0</th>\n",
       "      <td>2690</td>\n",
       "    </tr>\n",
       "    <tr>\n",
       "      <th>1</th>\n",
       "      <td>35248</td>\n",
       "    </tr>\n",
       "    <tr>\n",
       "      <th>2</th>\n",
       "      <td>101</td>\n",
       "    </tr>\n",
       "    <tr>\n",
       "      <th>3</th>\n",
       "      <td>41288</td>\n",
       "    </tr>\n",
       "    <tr>\n",
       "      <th>4</th>\n",
       "      <td>22019</td>\n",
       "    </tr>\n",
       "    <tr>\n",
       "      <th>5</th>\n",
       "      <td>14347</td>\n",
       "    </tr>\n",
       "    <tr>\n",
       "      <th>6</th>\n",
       "      <td>22784</td>\n",
       "    </tr>\n",
       "    <tr>\n",
       "      <th>7</th>\n",
       "      <td>5801</td>\n",
       "    </tr>\n",
       "    <tr>\n",
       "      <th>8</th>\n",
       "      <td>15063</td>\n",
       "    </tr>\n",
       "    <tr>\n",
       "      <th>9</th>\n",
       "      <td>28557</td>\n",
       "    </tr>\n",
       "  </tbody>\n",
       "</table>\n",
       "</div>"
      ],
      "text/plain": [
       "   reading\n",
       "0     2690\n",
       "1    35248\n",
       "2      101\n",
       "3    41288\n",
       "4    22019\n",
       "5    14347\n",
       "6    22784\n",
       "7     5801\n",
       "8    15063\n",
       "9    28557"
      ]
     },
     "execution_count": 5,
     "metadata": {},
     "output_type": "execute_result"
    }
   ],
   "source": [
    "indices = pd.read_csv('../data/combined_data/All_leads_2909_with_NAs_relevant_readings.csv',usecols=['reading'])\n",
    "indices.iloc[:10]"
   ]
  },
  {
   "cell_type": "code",
   "execution_count": 55,
   "metadata": {},
   "outputs": [
    {
     "data": {
      "text/plain": [
       "561330"
      ]
     },
     "execution_count": 55,
     "metadata": {},
     "output_type": "execute_result"
    }
   ],
   "source": [
    "indices['reading'].max()"
   ]
  },
  {
   "cell_type": "code",
   "execution_count": 7,
   "metadata": {},
   "outputs": [
    {
     "name": "stderr",
     "output_type": "stream",
     "text": [
      "100%|██████████| 1000/1000 [00:00<00:00, 4514.07it/s]\n",
      "100%|██████████| 1000/1000 [00:00<00:00, 4399.57it/s]\n",
      "100%|██████████| 1000/1000 [00:00<00:00, 4469.37it/s]\n",
      "100%|██████████| 1000/1000 [00:00<00:00, 4039.62it/s]\n",
      "100%|██████████| 1000/1000 [00:00<00:00, 4266.35it/s]\n",
      "100%|██████████| 1000/1000 [00:00<00:00, 4322.37it/s]\n",
      "100%|██████████| 1000/1000 [00:00<00:00, 4453.25it/s]\n",
      "100%|██████████| 1000/1000 [00:00<00:00, 4382.51it/s]\n",
      "100%|██████████| 1000/1000 [00:00<00:00, 3708.42it/s]\n",
      "100%|██████████| 1000/1000 [00:00<00:00, 4533.36it/s]\n",
      "100%|██████████| 1000/1000 [00:00<00:00, 4296.42it/s]\n",
      "100%|██████████| 1000/1000 [00:00<00:00, 4054.38it/s]\n",
      "100%|██████████| 1000/1000 [00:00<00:00, 4353.91it/s]\n",
      "100%|██████████| 1000/1000 [00:00<00:00, 4372.93it/s]\n",
      "100%|██████████| 1000/1000 [00:00<00:00, 4510.53it/s]\n",
      "100%|██████████| 1000/1000 [00:00<00:00, 4396.43it/s]\n",
      "100%|██████████| 1000/1000 [00:00<00:00, 4419.55it/s]\n",
      "Saving files: 17it [00:18,  1.08s/it]/home/david/anaconda3/lib/python3.9/site-packages/tqdm/std.py:1195: DtypeWarning: Columns (2257) have mixed types. Specify dtype option on import or set low_memory=False.\n",
      "  for obj in iterable:\n",
      "100%|██████████| 1000/1000 [00:00<00:00, 4571.77it/s]\n",
      "100%|██████████| 1000/1000 [00:00<00:00, 4473.17it/s]\n",
      "100%|██████████| 1000/1000 [00:00<00:00, 4409.53it/s]\n",
      "100%|██████████| 1000/1000 [00:00<00:00, 4288.62it/s]\n",
      "100%|██████████| 1000/1000 [00:00<00:00, 4404.36it/s]\n",
      "100%|██████████| 1000/1000 [00:00<00:00, 4460.92it/s]\n",
      "100%|██████████| 1000/1000 [00:00<00:00, 4522.46it/s]\n",
      "100%|██████████| 1000/1000 [00:00<00:00, 4181.36it/s]\n",
      "100%|██████████| 1000/1000 [00:00<00:00, 4446.43it/s]\n",
      "100%|██████████| 1000/1000 [00:00<00:00, 4502.38it/s]\n",
      "100%|██████████| 1000/1000 [00:00<00:00, 4258.90it/s]\n",
      "100%|██████████| 1000/1000 [00:00<00:00, 4518.19it/s]\n",
      "100%|██████████| 1000/1000 [00:00<00:00, 4554.75it/s]\n",
      "100%|██████████| 1000/1000 [00:00<00:00, 4455.63it/s]\n",
      "100%|██████████| 1000/1000 [00:00<00:00, 4497.48it/s]\n",
      "100%|██████████| 1000/1000 [00:00<00:00, 4304.45it/s]\n",
      "100%|██████████| 1000/1000 [00:00<00:00, 4491.59it/s]\n",
      "100%|██████████| 1000/1000 [00:00<00:00, 4317.06it/s]\n",
      "100%|██████████| 1000/1000 [00:00<00:00, 4317.97it/s]\n",
      "100%|██████████| 1000/1000 [00:00<00:00, 4553.04it/s]\n",
      "100%|██████████| 1000/1000 [00:00<00:00, 4554.11it/s]\n",
      "100%|██████████| 1000/1000 [00:00<00:00, 4489.32it/s]\n",
      "100%|██████████| 1000/1000 [00:00<00:00, 4529.62it/s]\n",
      "100%|██████████| 1000/1000 [00:00<00:00, 4111.82it/s]\n",
      "100%|██████████| 1000/1000 [00:00<00:00, 4316.86it/s]\n",
      "100%|██████████| 1000/1000 [00:00<00:00, 4312.30it/s]\n",
      "100%|██████████| 1000/1000 [00:00<00:00, 4443.30it/s]\n",
      "100%|██████████| 1000/1000 [00:00<00:00, 4465.58it/s]\n",
      "100%|██████████| 1000/1000 [00:00<00:00, 4236.65it/s]\n",
      "100%|██████████| 1000/1000 [00:00<00:00, 4492.83it/s]\n",
      "100%|██████████| 1000/1000 [00:00<00:00, 3470.05it/s]\n",
      "100%|██████████| 1000/1000 [00:00<00:00, 4493.05it/s]\n",
      "100%|██████████| 1000/1000 [00:00<00:00, 4503.30it/s]\n",
      "100%|██████████| 1000/1000 [00:00<00:00, 4420.26it/s]\n",
      "100%|██████████| 1000/1000 [00:00<00:00, 4260.69it/s]\n",
      "100%|██████████| 1000/1000 [00:00<00:00, 4464.85it/s]\n",
      "100%|██████████| 1000/1000 [00:00<00:00, 4365.70it/s]\n",
      "100%|██████████| 1000/1000 [00:00<00:00, 4306.91it/s]\n",
      "100%|██████████| 1000/1000 [00:00<00:00, 4016.49it/s]\n",
      "100%|██████████| 1000/1000 [00:00<00:00, 4076.44it/s]\n",
      "100%|██████████| 1000/1000 [00:00<00:00, 4385.07it/s]\n",
      "100%|██████████| 1000/1000 [00:00<00:00, 4214.99it/s]\n",
      "100%|██████████| 1000/1000 [00:00<00:00, 4305.36it/s]\n",
      "100%|██████████| 1000/1000 [00:00<00:00, 4310.86it/s]\n",
      "100%|██████████| 1000/1000 [00:00<00:00, 4276.94it/s]\n",
      "100%|██████████| 1000/1000 [00:00<00:00, 4298.53it/s]\n",
      "100%|██████████| 1000/1000 [00:00<00:00, 4215.42it/s]\n",
      "100%|██████████| 1000/1000 [00:00<00:00, 4508.48it/s]\n",
      "100%|██████████| 1000/1000 [00:00<00:00, 4379.87it/s]\n",
      "100%|██████████| 1000/1000 [00:00<00:00, 4410.78it/s]\n",
      "100%|██████████| 1000/1000 [00:00<00:00, 4322.66it/s]\n",
      "100%|██████████| 1000/1000 [00:00<00:00, 4308.91it/s]\n",
      "100%|██████████| 1000/1000 [00:00<00:00, 4499.41it/s]\n",
      "100%|██████████| 1000/1000 [00:00<00:00, 4497.75it/s]\n",
      "100%|██████████| 1000/1000 [00:00<00:00, 4479.34it/s]\n",
      "100%|██████████| 1000/1000 [00:00<00:00, 4390.87it/s]\n",
      "100%|██████████| 1000/1000 [00:00<00:00, 4447.67it/s]\n",
      "100%|██████████| 1000/1000 [00:00<00:00, 4380.32it/s]\n",
      "100%|██████████| 1000/1000 [00:00<00:00, 4418.31it/s]\n",
      "100%|██████████| 1000/1000 [00:00<00:00, 4419.73it/s]\n",
      "100%|██████████| 1000/1000 [00:00<00:00, 4539.11it/s]\n",
      "100%|██████████| 1000/1000 [00:00<00:00, 4107.38it/s]\n",
      "100%|██████████| 1000/1000 [00:00<00:00, 4491.40it/s]\n",
      "100%|██████████| 1000/1000 [00:00<00:00, 4307.09it/s]\n",
      "100%|██████████| 1000/1000 [00:00<00:00, 4155.23it/s]\n",
      "100%|██████████| 1000/1000 [00:00<00:00, 4014.31it/s]\n",
      "100%|██████████| 1000/1000 [00:00<00:00, 4235.06it/s]\n",
      "100%|██████████| 1000/1000 [00:00<00:00, 3994.62it/s]\n",
      "100%|██████████| 1000/1000 [00:00<00:00, 4395.83it/s]\n",
      "100%|██████████| 1000/1000 [00:00<00:00, 4371.59it/s]\n",
      "100%|██████████| 1000/1000 [00:00<00:00, 4225.31it/s]\n",
      "100%|██████████| 1000/1000 [00:00<00:00, 4507.56it/s]\n",
      "100%|██████████| 1000/1000 [00:00<00:00, 4560.02it/s]\n",
      "100%|██████████| 1000/1000 [00:00<00:00, 4411.19it/s]\n",
      "100%|██████████| 1000/1000 [00:00<00:00, 4366.69it/s]\n",
      "100%|██████████| 1000/1000 [00:00<00:00, 4261.59it/s]\n",
      "100%|██████████| 1000/1000 [00:00<00:00, 4187.64it/s]\n",
      "100%|██████████| 1000/1000 [00:00<00:00, 4357.02it/s]\n",
      "100%|██████████| 1000/1000 [00:00<00:00, 4152.85it/s]\n",
      "100%|██████████| 1000/1000 [00:00<00:00, 4217.70it/s]\n",
      "100%|██████████| 1000/1000 [00:00<00:00, 4452.45it/s]\n",
      "100%|██████████| 1000/1000 [00:00<00:00, 4467.10it/s]\n",
      "100%|██████████| 1000/1000 [00:00<00:00, 4455.71it/s]\n",
      "100%|██████████| 1000/1000 [00:00<00:00, 4205.96it/s]\n",
      "100%|██████████| 1000/1000 [00:00<00:00, 4275.98it/s]\n",
      "Saving files: 102it [01:59,  1.14s/it]/home/david/anaconda3/lib/python3.9/site-packages/tqdm/std.py:1195: DtypeWarning: Columns (4061) have mixed types. Specify dtype option on import or set low_memory=False.\n",
      "  for obj in iterable:\n",
      "100%|██████████| 1000/1000 [00:00<00:00, 4405.10it/s]\n",
      "100%|██████████| 1000/1000 [00:00<00:00, 4090.27it/s]\n",
      "100%|██████████| 1000/1000 [00:00<00:00, 4368.95it/s]\n",
      "100%|██████████| 1000/1000 [00:00<00:00, 4174.35it/s]\n",
      "100%|██████████| 1000/1000 [00:00<00:00, 4292.15it/s]\n",
      "100%|██████████| 1000/1000 [00:00<00:00, 4377.55it/s]\n",
      "100%|██████████| 1000/1000 [00:00<00:00, 4312.11it/s]\n",
      "100%|██████████| 1000/1000 [00:00<00:00, 4437.71it/s]\n",
      "100%|██████████| 1000/1000 [00:00<00:00, 4301.91it/s]\n",
      "100%|██████████| 1000/1000 [00:00<00:00, 4267.43it/s]\n",
      "100%|██████████| 1000/1000 [00:00<00:00, 4412.82it/s]\n",
      "100%|██████████| 1000/1000 [00:00<00:00, 3618.79it/s]\n",
      "100%|██████████| 1000/1000 [00:00<00:00, 4241.82it/s]\n",
      "100%|██████████| 1000/1000 [00:00<00:00, 4308.07it/s]\n",
      "100%|██████████| 1000/1000 [00:00<00:00, 4225.81it/s]\n",
      "100%|██████████| 1000/1000 [00:00<00:00, 4384.92it/s]\n",
      "100%|██████████| 1000/1000 [00:00<00:00, 4320.34it/s]\n",
      "100%|██████████| 1000/1000 [00:00<00:00, 4404.70it/s]\n",
      "100%|██████████| 1000/1000 [00:00<00:00, 4350.04it/s]\n",
      "100%|██████████| 1000/1000 [00:00<00:00, 4387.28it/s]\n",
      "100%|██████████| 1000/1000 [00:00<00:00, 4259.49it/s]\n",
      "100%|██████████| 1000/1000 [00:00<00:00, 4269.28it/s]\n",
      "Saving files: 124it [02:24,  1.14s/it]/home/david/anaconda3/lib/python3.9/site-packages/tqdm/std.py:1195: DtypeWarning: Columns (4061) have mixed types. Specify dtype option on import or set low_memory=False.\n",
      "  for obj in iterable:\n",
      "100%|██████████| 1000/1000 [00:00<00:00, 4275.07it/s]\n",
      "100%|██████████| 1000/1000 [00:00<00:00, 4003.39it/s]\n",
      "100%|██████████| 1000/1000 [00:00<00:00, 4252.10it/s]\n",
      "100%|██████████| 1000/1000 [00:00<00:00, 4417.24it/s]\n",
      "100%|██████████| 1000/1000 [00:00<00:00, 4369.93it/s]\n",
      "100%|██████████| 1000/1000 [00:00<00:00, 4317.80it/s]\n",
      "100%|██████████| 1000/1000 [00:00<00:00, 4321.45it/s]\n",
      "100%|██████████| 1000/1000 [00:00<00:00, 4244.53it/s]\n",
      "100%|██████████| 1000/1000 [00:00<00:00, 4387.05it/s]\n",
      "100%|██████████| 1000/1000 [00:00<00:00, 4404.31it/s]\n",
      "100%|██████████| 1000/1000 [00:00<00:00, 4301.68it/s]\n",
      "100%|██████████| 1000/1000 [00:00<00:00, 4314.06it/s]\n",
      "100%|██████████| 1000/1000 [00:00<00:00, 4263.19it/s]\n",
      "100%|██████████| 1000/1000 [00:00<00:00, 4485.32it/s]\n",
      "100%|██████████| 1000/1000 [00:00<00:00, 4445.93it/s]\n",
      "100%|██████████| 1000/1000 [00:00<00:00, 4454.26it/s]\n",
      "100%|██████████| 1000/1000 [00:00<00:00, 4396.07it/s]\n",
      "100%|██████████| 1000/1000 [00:00<00:00, 4326.27it/s]\n",
      "100%|██████████| 1000/1000 [00:00<00:00, 4473.60it/s]\n",
      "100%|██████████| 1000/1000 [00:00<00:00, 4392.07it/s]\n",
      "100%|██████████| 1000/1000 [00:00<00:00, 4248.70it/s]\n",
      "100%|██████████| 1000/1000 [00:00<00:00, 4202.63it/s]\n",
      "100%|██████████| 1000/1000 [00:00<00:00, 4224.31it/s]\n",
      "100%|██████████| 1000/1000 [00:00<00:00, 4562.27it/s]\n",
      "100%|██████████| 1000/1000 [00:00<00:00, 4264.26it/s]\n",
      "100%|██████████| 1000/1000 [00:00<00:00, 4392.29it/s]\n",
      "100%|██████████| 1000/1000 [00:00<00:00, 4346.09it/s]\n",
      "100%|██████████| 1000/1000 [00:00<00:00, 4296.15it/s]\n",
      "100%|██████████| 1000/1000 [00:00<00:00, 4159.26it/s]\n",
      "100%|██████████| 1000/1000 [00:00<00:00, 4509.52it/s]\n",
      "100%|██████████| 1000/1000 [00:00<00:00, 4479.15it/s]\n",
      "100%|██████████| 1000/1000 [00:00<00:00, 4456.24it/s]\n",
      "100%|██████████| 1000/1000 [00:00<00:00, 4211.85it/s]\n",
      "100%|██████████| 1000/1000 [00:00<00:00, 4596.54it/s]\n",
      "100%|██████████| 1000/1000 [00:00<00:00, 4356.59it/s]\n",
      "100%|██████████| 1000/1000 [00:00<00:00, 4409.51it/s]\n",
      "100%|██████████| 1000/1000 [00:00<00:00, 4489.44it/s]\n",
      "100%|██████████| 1000/1000 [00:00<00:00, 4510.91it/s]\n",
      "100%|██████████| 1000/1000 [00:00<00:00, 4341.00it/s]\n",
      "100%|██████████| 1000/1000 [00:00<00:00, 4270.97it/s]\n",
      "100%|██████████| 1000/1000 [00:00<00:00, 4014.76it/s]\n",
      "100%|██████████| 1000/1000 [00:00<00:00, 4478.21it/s]\n",
      "100%|██████████| 1000/1000 [00:00<00:00, 4280.47it/s]\n",
      "Saving files: 167it [03:41,  1.35s/it]/home/david/anaconda3/lib/python3.9/site-packages/tqdm/std.py:1195: DtypeWarning: Columns (1,2257) have mixed types. Specify dtype option on import or set low_memory=False.\n",
      "  for obj in iterable:\n",
      "100%|██████████| 1000/1000 [00:00<00:00, 4282.85it/s]\n",
      "100%|██████████| 1000/1000 [00:00<00:00, 4434.93it/s]\n",
      "100%|██████████| 1000/1000 [00:00<00:00, 4438.18it/s]\n",
      "100%|██████████| 1000/1000 [00:00<00:00, 4387.13it/s]\n",
      "100%|██████████| 1000/1000 [00:00<00:00, 4594.74it/s]\n",
      "100%|██████████| 1000/1000 [00:00<00:00, 4513.22it/s]\n",
      "100%|██████████| 1000/1000 [00:00<00:00, 4554.52it/s]\n",
      "100%|██████████| 1000/1000 [00:00<00:00, 4065.33it/s]\n",
      "100%|██████████| 1000/1000 [00:00<00:00, 4010.87it/s]\n",
      "Saving files: 176it [04:06,  2.96s/it]/home/david/anaconda3/lib/python3.9/site-packages/tqdm/std.py:1195: DtypeWarning: Columns (2257) have mixed types. Specify dtype option on import or set low_memory=False.\n",
      "  for obj in iterable:\n",
      "100%|██████████| 1000/1000 [00:00<00:00, 4506.26it/s]\n",
      "100%|██████████| 1000/1000 [00:00<00:00, 4280.61it/s]\n",
      "100%|██████████| 1000/1000 [00:00<00:00, 4361.06it/s]\n",
      "100%|██████████| 1000/1000 [00:00<00:00, 4338.41it/s]\n",
      "100%|██████████| 1000/1000 [00:00<00:00, 4171.45it/s]\n",
      "100%|██████████| 1000/1000 [00:00<00:00, 4381.13it/s]\n",
      "100%|██████████| 1000/1000 [00:00<00:00, 4432.33it/s]\n",
      "100%|██████████| 1000/1000 [00:00<00:00, 1341.72it/s]\n",
      "100%|██████████| 1000/1000 [00:00<00:00, 2579.11it/s]\n",
      "100%|██████████| 1000/1000 [00:00<00:00, 3154.90it/s]\n",
      "100%|██████████| 1000/1000 [00:00<00:00, 4242.89it/s]\n",
      "100%|██████████| 1000/1000 [00:00<00:00, 4112.43it/s]\n",
      "100%|██████████| 1000/1000 [00:00<00:00, 4444.15it/s]\n",
      "100%|██████████| 1000/1000 [00:00<00:00, 4347.38it/s]\n",
      "100%|██████████| 1000/1000 [00:00<00:00, 4229.49it/s]\n",
      "100%|██████████| 1000/1000 [00:00<00:00, 4513.46it/s]\n",
      "100%|██████████| 1000/1000 [00:00<00:00, 4392.94it/s]\n",
      "100%|██████████| 1000/1000 [00:00<00:00, 4147.17it/s]\n",
      "100%|██████████| 1000/1000 [00:00<00:00, 4449.55it/s]\n",
      "100%|██████████| 1000/1000 [00:00<00:00, 4366.24it/s]\n",
      "100%|██████████| 1000/1000 [00:00<00:00, 4020.06it/s]\n",
      "100%|██████████| 1000/1000 [00:00<00:00, 4298.87it/s]\n",
      "100%|██████████| 1000/1000 [00:00<00:00, 4484.12it/s]\n",
      "100%|██████████| 1000/1000 [00:00<00:00, 4277.43it/s]\n",
      "100%|██████████| 1000/1000 [00:00<00:00, 4463.55it/s]\n",
      "100%|██████████| 1000/1000 [00:00<00:00, 4218.02it/s]\n",
      "100%|██████████| 1000/1000 [00:00<00:00, 4497.87it/s]\n",
      "100%|██████████| 1000/1000 [00:00<00:00, 4535.78it/s]\n",
      "100%|██████████| 1000/1000 [00:00<00:00, 4424.81it/s]\n",
      "100%|██████████| 1000/1000 [00:00<00:00, 3405.09it/s]\n",
      "100%|██████████| 1000/1000 [00:00<00:00, 1214.56it/s]\n",
      "100%|██████████| 1000/1000 [00:00<00:00, 4345.08it/s]\n",
      "100%|██████████| 1000/1000 [00:00<00:00, 4448.86it/s]\n",
      "100%|██████████| 1000/1000 [00:00<00:00, 4337.95it/s]\n",
      "100%|██████████| 1000/1000 [00:00<00:00, 4367.10it/s]\n",
      "100%|██████████| 1000/1000 [00:00<00:00, 4387.11it/s]\n",
      "100%|██████████| 1000/1000 [00:00<00:00, 4323.68it/s]\n",
      "100%|██████████| 1000/1000 [00:00<00:00, 4346.87it/s]\n",
      "100%|██████████| 1000/1000 [00:00<00:00, 4361.77it/s]\n",
      "100%|██████████| 1000/1000 [00:00<00:00, 4273.26it/s]\n",
      "100%|██████████| 1000/1000 [00:00<00:00, 4335.71it/s]\n",
      "100%|██████████| 1000/1000 [00:00<00:00, 4401.73it/s]\n",
      "100%|██████████| 1000/1000 [00:00<00:00, 3979.72it/s]\n",
      "Saving files: 219it [05:14,  1.01s/it]/home/david/anaconda3/lib/python3.9/site-packages/tqdm/std.py:1195: DtypeWarning: Columns (904,1355,2257,3610,4061,4512,4963) have mixed types. Specify dtype option on import or set low_memory=False.\n",
      "  for obj in iterable:\n",
      "100%|██████████| 1000/1000 [00:01<00:00, 579.13it/s]\n",
      "100%|██████████| 1000/1000 [00:00<00:00, 4454.34it/s]\n",
      "100%|██████████| 1000/1000 [00:00<00:00, 4216.21it/s]\n",
      "100%|██████████| 1000/1000 [00:00<00:00, 4230.08it/s]\n",
      "100%|██████████| 1000/1000 [00:00<00:00, 4392.05it/s]\n",
      "100%|██████████| 1000/1000 [00:00<00:00, 4397.19it/s]\n",
      "100%|██████████| 1000/1000 [00:00<00:00, 4290.61it/s]\n",
      "100%|██████████| 1000/1000 [00:00<00:00, 4327.22it/s]\n",
      "100%|██████████| 1000/1000 [00:00<00:00, 4418.98it/s]\n",
      "100%|██████████| 1000/1000 [00:00<00:00, 4225.46it/s]\n",
      "100%|██████████| 1000/1000 [00:00<00:00, 4361.63it/s]\n",
      "100%|██████████| 1000/1000 [00:00<00:00, 4337.12it/s]\n",
      "100%|██████████| 1000/1000 [00:00<00:00, 4268.99it/s]\n",
      "100%|██████████| 1000/1000 [00:00<00:00, 4386.24it/s]\n",
      "100%|██████████| 1000/1000 [00:00<00:00, 4258.89it/s]\n",
      "100%|██████████| 1000/1000 [00:00<00:00, 4220.40it/s]\n",
      "100%|██████████| 1000/1000 [00:00<00:00, 4358.25it/s]\n",
      "100%|██████████| 1000/1000 [00:00<00:00, 4343.80it/s]\n",
      "Saving files: 237it [06:01,  2.09s/it]/home/david/anaconda3/lib/python3.9/site-packages/tqdm/std.py:1195: DtypeWarning: Columns (4061) have mixed types. Specify dtype option on import or set low_memory=False.\n",
      "  for obj in iterable:\n",
      "100%|██████████| 1000/1000 [00:00<00:00, 4317.66it/s]\n",
      "100%|██████████| 1000/1000 [00:00<00:00, 4313.10it/s]\n",
      "100%|██████████| 1000/1000 [00:00<00:00, 4379.43it/s]\n",
      "100%|██████████| 1000/1000 [00:00<00:00, 4312.15it/s]\n",
      "100%|██████████| 1000/1000 [00:00<00:00, 4259.51it/s]\n",
      "100%|██████████| 1000/1000 [00:00<00:00, 4378.79it/s]\n",
      "100%|██████████| 1000/1000 [00:00<00:00, 4307.85it/s]\n",
      "100%|██████████| 1000/1000 [00:00<00:00, 4473.11it/s]\n",
      "Saving files: 245it [06:12,  1.67s/it]/home/david/anaconda3/lib/python3.9/site-packages/tqdm/std.py:1195: DtypeWarning: Columns (4061) have mixed types. Specify dtype option on import or set low_memory=False.\n",
      "  for obj in iterable:\n",
      "100%|██████████| 1000/1000 [00:00<00:00, 4463.27it/s]\n",
      "100%|██████████| 1000/1000 [00:00<00:00, 4422.72it/s]\n",
      "100%|██████████| 1000/1000 [00:00<00:00, 4361.26it/s]\n",
      "100%|██████████| 1000/1000 [00:00<00:00, 4332.61it/s]\n",
      "100%|██████████| 1000/1000 [00:00<00:00, 2315.39it/s]\n",
      "100%|██████████| 1000/1000 [00:00<00:00, 4415.64it/s]\n",
      "100%|██████████| 1000/1000 [00:00<00:00, 4426.56it/s]\n",
      "100%|██████████| 1000/1000 [00:00<00:00, 4175.27it/s]\n",
      "100%|██████████| 1000/1000 [00:00<00:00, 4385.79it/s]\n",
      "100%|██████████| 1000/1000 [00:00<00:00, 4203.35it/s]\n",
      "100%|██████████| 1000/1000 [00:00<00:00, 4494.42it/s]\n",
      "100%|██████████| 1000/1000 [00:00<00:00, 4356.69it/s]\n",
      "100%|██████████| 1000/1000 [00:00<00:00, 4361.90it/s]\n",
      "100%|██████████| 1000/1000 [00:00<00:00, 4407.84it/s]\n",
      "100%|██████████| 1000/1000 [00:00<00:00, 4214.76it/s]\n",
      "100%|██████████| 1000/1000 [00:00<00:00, 4458.37it/s]\n",
      "100%|██████████| 1000/1000 [00:00<00:00, 4405.79it/s]\n",
      "100%|██████████| 1000/1000 [00:00<00:00, 4363.37it/s]\n",
      "Saving files: 263it [06:42,  1.14s/it]/home/david/anaconda3/lib/python3.9/site-packages/tqdm/std.py:1195: DtypeWarning: Columns (453,2257) have mixed types. Specify dtype option on import or set low_memory=False.\n",
      "  for obj in iterable:\n",
      "100%|██████████| 1000/1000 [00:00<00:00, 4433.66it/s]\n",
      "100%|██████████| 1000/1000 [00:00<00:00, 2577.32it/s]\n",
      "100%|██████████| 1000/1000 [00:00<00:00, 4428.80it/s]\n",
      "100%|██████████| 1000/1000 [00:00<00:00, 4572.11it/s]\n",
      "Saving files: 267it [06:55,  2.69s/it]/home/david/anaconda3/lib/python3.9/site-packages/tqdm/std.py:1195: DtypeWarning: Columns (2257) have mixed types. Specify dtype option on import or set low_memory=False.\n",
      "  for obj in iterable:\n",
      "100%|██████████| 1000/1000 [00:00<00:00, 4402.50it/s]\n",
      "100%|██████████| 1000/1000 [00:00<00:00, 4121.06it/s]\n",
      "100%|██████████| 1000/1000 [00:00<00:00, 4249.25it/s]\n",
      "100%|██████████| 1000/1000 [00:00<00:00, 4496.26it/s]\n",
      "100%|██████████| 1000/1000 [00:00<00:00, 4375.34it/s]\n",
      "100%|██████████| 1000/1000 [00:00<00:00, 1409.00it/s]\n",
      "100%|██████████| 1000/1000 [00:00<00:00, 1970.26it/s]\n",
      "100%|██████████| 1000/1000 [00:00<00:00, 1859.73it/s]\n",
      "100%|██████████| 1000/1000 [00:00<00:00, 4285.28it/s]\n",
      "100%|██████████| 1000/1000 [00:00<00:00, 4165.14it/s]\n",
      "100%|██████████| 1000/1000 [00:00<00:00, 4419.33it/s]\n",
      "100%|██████████| 1000/1000 [00:00<00:00, 4295.27it/s]\n",
      "100%|██████████| 1000/1000 [00:00<00:00, 4301.91it/s]\n",
      "100%|██████████| 1000/1000 [00:00<00:00, 4201.92it/s]\n",
      "100%|██████████| 1000/1000 [00:00<00:00, 4463.52it/s]\n",
      "100%|██████████| 1000/1000 [00:00<00:00, 4473.82it/s]\n",
      "100%|██████████| 1000/1000 [00:00<00:00, 4321.87it/s]\n",
      "100%|██████████| 1000/1000 [00:00<00:00, 3775.78it/s]\n",
      "100%|██████████| 1000/1000 [00:00<00:00, 4245.75it/s]\n",
      "100%|██████████| 1000/1000 [00:00<00:00, 4482.55it/s]\n",
      "Saving files: 287it [07:42,  3.11s/it]/home/david/anaconda3/lib/python3.9/site-packages/tqdm/std.py:1195: DtypeWarning: Columns (4061) have mixed types. Specify dtype option on import or set low_memory=False.\n",
      "  for obj in iterable:\n",
      "100%|██████████| 1000/1000 [00:00<00:00, 4268.48it/s]\n",
      "100%|██████████| 1000/1000 [00:00<00:00, 4173.37it/s]\n",
      "100%|██████████| 1000/1000 [00:00<00:00, 4338.14it/s]\n",
      "100%|██████████| 1000/1000 [00:00<00:00, 4464.86it/s]\n",
      "100%|██████████| 1000/1000 [00:00<00:00, 4364.42it/s]\n",
      "Saving files: 292it [07:50,  1.62s/it]/home/david/anaconda3/lib/python3.9/site-packages/tqdm/std.py:1195: DtypeWarning: Columns (4061) have mixed types. Specify dtype option on import or set low_memory=False.\n",
      "  for obj in iterable:\n",
      "100%|██████████| 1000/1000 [00:00<00:00, 4335.43it/s]\n",
      "100%|██████████| 1000/1000 [00:00<00:00, 4396.86it/s]\n",
      "100%|██████████| 1000/1000 [00:00<00:00, 4430.34it/s]\n",
      "100%|██████████| 1000/1000 [00:00<00:00, 4455.41it/s]\n",
      "100%|██████████| 1000/1000 [00:00<00:00, 4486.69it/s]\n",
      "100%|██████████| 1000/1000 [00:00<00:00, 4445.08it/s]\n",
      "100%|██████████| 1000/1000 [00:00<00:00, 4202.64it/s]\n",
      "100%|██████████| 1000/1000 [00:00<00:00, 4566.17it/s]\n",
      "100%|██████████| 1000/1000 [00:00<00:00, 1011.46it/s]\n",
      "100%|██████████| 1000/1000 [00:00<00:00, 4344.81it/s]\n",
      "100%|██████████| 1000/1000 [00:00<00:00, 4523.35it/s]\n",
      "100%|██████████| 1000/1000 [00:00<00:00, 4178.72it/s]\n",
      "Saving files: 304it [08:15,  2.95s/it]/home/david/anaconda3/lib/python3.9/site-packages/tqdm/std.py:1195: DtypeWarning: Columns (2257) have mixed types. Specify dtype option on import or set low_memory=False.\n",
      "  for obj in iterable:\n",
      "100%|██████████| 1000/1000 [00:00<00:00, 4421.72it/s]\n",
      "100%|██████████| 1000/1000 [00:00<00:00, 4348.81it/s]\n",
      "100%|██████████| 1000/1000 [00:00<00:00, 4373.22it/s]\n",
      "100%|██████████| 1000/1000 [00:00<00:00, 4283.39it/s]\n",
      "100%|██████████| 1000/1000 [00:00<00:00, 4208.78it/s]\n",
      "100%|██████████| 1000/1000 [00:00<00:00, 4454.72it/s]\n",
      "100%|██████████| 1000/1000 [00:00<00:00, 2420.20it/s]\n",
      "100%|██████████| 1000/1000 [00:00<00:00, 4400.37it/s]\n",
      "100%|██████████| 1000/1000 [00:00<00:00, 4590.61it/s]\n",
      "100%|██████████| 1000/1000 [00:00<00:00, 2967.36it/s]\n",
      "100%|██████████| 1000/1000 [00:00<00:00, 4366.15it/s]\n",
      "Saving files: 315it [08:38,  3.54s/it]/home/david/anaconda3/lib/python3.9/site-packages/tqdm/std.py:1195: DtypeWarning: Columns (4061) have mixed types. Specify dtype option on import or set low_memory=False.\n",
      "  for obj in iterable:\n",
      "100%|██████████| 1000/1000 [00:00<00:00, 4060.47it/s]\n",
      "100%|██████████| 1000/1000 [00:00<00:00, 4353.25it/s]\n",
      "100%|██████████| 1000/1000 [00:00<00:00, 4141.54it/s]\n",
      "Saving files: 318it [08:41,  1.89s/it]/home/david/anaconda3/lib/python3.9/site-packages/tqdm/std.py:1195: DtypeWarning: Columns (4061) have mixed types. Specify dtype option on import or set low_memory=False.\n",
      "  for obj in iterable:\n",
      "100%|██████████| 1000/1000 [00:00<00:00, 4306.14it/s]\n",
      "100%|██████████| 1000/1000 [00:00<00:00, 4264.42it/s]\n",
      "100%|██████████| 1000/1000 [00:00<00:00, 4484.91it/s]\n",
      "100%|██████████| 1000/1000 [00:00<00:00, 4225.07it/s]\n",
      "100%|██████████| 1000/1000 [00:00<00:00, 4378.03it/s]\n",
      "Saving files: 323it [08:47,  1.19s/it]/home/david/anaconda3/lib/python3.9/site-packages/tqdm/std.py:1195: DtypeWarning: Columns (1355,2257) have mixed types. Specify dtype option on import or set low_memory=False.\n",
      "  for obj in iterable:\n",
      "100%|██████████| 1000/1000 [00:00<00:00, 2401.08it/s]\n",
      "100%|██████████| 1000/1000 [00:00<00:00, 4446.45it/s]\n",
      "Saving files: 325it [08:51,  1.62s/it]/home/david/anaconda3/lib/python3.9/site-packages/tqdm/std.py:1195: DtypeWarning: Columns (2257) have mixed types. Specify dtype option on import or set low_memory=False.\n",
      "  for obj in iterable:\n",
      "100%|██████████| 1000/1000 [00:00<00:00, 4436.60it/s]\n",
      "100%|██████████| 1000/1000 [00:00<00:00, 4042.75it/s]\n",
      "100%|██████████| 1000/1000 [00:00<00:00, 3620.45it/s]\n",
      "Saving files: 328it [09:04,  3.27s/it]/home/david/anaconda3/lib/python3.9/site-packages/tqdm/std.py:1195: DtypeWarning: Columns (2257,3610,4061,4512,4963) have mixed types. Specify dtype option on import or set low_memory=False.\n",
      "  for obj in iterable:\n",
      "100%|██████████| 1000/1000 [00:00<00:00, 3933.87it/s]\n",
      "100%|██████████| 1000/1000 [00:00<00:00, 4436.84it/s]\n",
      "100%|██████████| 1000/1000 [00:00<00:00, 4440.01it/s]\n",
      "100%|██████████| 1000/1000 [00:00<00:00, 4386.89it/s]\n",
      "100%|██████████| 1000/1000 [00:00<00:00, 2732.11it/s]\n",
      "100%|██████████| 1000/1000 [00:00<00:00, 3198.11it/s]\n",
      "100%|██████████| 1000/1000 [00:00<00:00, 4349.67it/s]\n",
      "100%|██████████| 1000/1000 [00:00<00:00, 4518.25it/s]\n",
      "100%|██████████| 1000/1000 [00:00<00:00, 4473.56it/s]\n",
      "100%|██████████| 1000/1000 [00:00<00:00, 4371.31it/s]\n",
      "100%|██████████| 1000/1000 [00:00<00:00, 3178.95it/s]\n",
      "Saving files: 339it [09:19,  1.74s/it]/home/david/anaconda3/lib/python3.9/site-packages/tqdm/std.py:1195: DtypeWarning: Columns (2257,3610,4061,4512,4963) have mixed types. Specify dtype option on import or set low_memory=False.\n",
      "  for obj in iterable:\n",
      "100%|██████████| 1000/1000 [00:00<00:00, 4469.78it/s]\n",
      "100%|██████████| 1000/1000 [00:00<00:00, 3651.86it/s]\n",
      "100%|██████████| 1000/1000 [00:00<00:00, 4322.31it/s]\n",
      "100%|██████████| 1000/1000 [00:00<00:00, 4178.65it/s]\n",
      "Saving files: 343it [09:28,  1.80s/it]/home/david/anaconda3/lib/python3.9/site-packages/tqdm/std.py:1195: DtypeWarning: Columns (4061) have mixed types. Specify dtype option on import or set low_memory=False.\n",
      "  for obj in iterable:\n",
      "100%|██████████| 1000/1000 [00:00<00:00, 2991.50it/s]\n",
      "100%|██████████| 1000/1000 [00:00<00:00, 4336.31it/s]\n",
      "100%|██████████| 1000/1000 [00:00<00:00, 4362.28it/s]\n",
      "Saving files: 346it [09:39,  2.91s/it]/home/david/anaconda3/lib/python3.9/site-packages/tqdm/std.py:1195: DtypeWarning: Columns (1806) have mixed types. Specify dtype option on import or set low_memory=False.\n",
      "  for obj in iterable:\n",
      "100%|██████████| 1000/1000 [00:00<00:00, 4342.54it/s]\n",
      "100%|██████████| 1000/1000 [00:00<00:00, 4217.64it/s]\n",
      "Saving files: 348it [09:44,  2.61s/it]/home/david/anaconda3/lib/python3.9/site-packages/tqdm/std.py:1195: DtypeWarning: Columns (4061) have mixed types. Specify dtype option on import or set low_memory=False.\n",
      "  for obj in iterable:\n",
      "100%|██████████| 1000/1000 [00:00<00:00, 4330.50it/s]\n",
      "100%|██████████| 1000/1000 [00:00<00:00, 4369.52it/s]\n",
      "100%|██████████| 1000/1000 [00:00<00:00, 4153.42it/s]\n",
      "100%|██████████| 1000/1000 [00:00<00:00, 4309.69it/s]\n",
      "Saving files: 352it [09:47,  1.35s/it]/home/david/anaconda3/lib/python3.9/site-packages/tqdm/std.py:1195: DtypeWarning: Columns (3610,4061,4512,4963) have mixed types. Specify dtype option on import or set low_memory=False.\n",
      "  for obj in iterable:\n",
      "100%|██████████| 1000/1000 [00:00<00:00, 4260.23it/s]\n",
      "100%|██████████| 1000/1000 [00:00<00:00, 4205.87it/s]\n",
      "Saving files: 354it [09:49,  1.13s/it]/home/david/anaconda3/lib/python3.9/site-packages/tqdm/std.py:1195: DtypeWarning: Columns (3610,4061,4512,4963) have mixed types. Specify dtype option on import or set low_memory=False.\n",
      "  for obj in iterable:\n",
      "100%|██████████| 1000/1000 [00:00<00:00, 3998.93it/s]\n",
      "100%|██████████| 1000/1000 [00:00<00:00, 1477.99it/s]\n",
      "Saving files: 356it [09:56,  2.35s/it]/home/david/anaconda3/lib/python3.9/site-packages/tqdm/std.py:1195: DtypeWarning: Columns (4061) have mixed types. Specify dtype option on import or set low_memory=False.\n",
      "  for obj in iterable:\n",
      "100%|██████████| 1000/1000 [00:00<00:00, 4452.37it/s]\n",
      "Saving files: 357it [09:57,  2.23s/it]/home/david/anaconda3/lib/python3.9/site-packages/tqdm/std.py:1195: DtypeWarning: Columns (4963) have mixed types. Specify dtype option on import or set low_memory=False.\n",
      "  for obj in iterable:\n",
      "100%|██████████| 1000/1000 [00:00<00:00, 4415.05it/s]\n",
      "100%|██████████| 1000/1000 [00:00<00:00, 4374.90it/s]\n",
      "100%|██████████| 1000/1000 [00:00<00:00, 4266.91it/s]\n",
      "100%|██████████| 1000/1000 [00:00<00:00, 4201.30it/s]\n",
      "100%|██████████| 1000/1000 [00:00<00:00, 4178.04it/s]\n",
      "100%|██████████| 1000/1000 [00:00<00:00, 4219.32it/s]\n",
      "100%|██████████| 1000/1000 [00:00<00:00, 4309.60it/s]\n",
      "100%|██████████| 1000/1000 [00:00<00:00, 4396.25it/s]\n",
      "100%|██████████| 1000/1000 [00:00<00:00, 4015.54it/s]\n",
      "100%|██████████| 1000/1000 [00:00<00:00, 4459.62it/s]\n",
      "100%|██████████| 1000/1000 [00:00<00:00, 4420.71it/s]\n",
      "100%|██████████| 1000/1000 [00:00<00:00, 4441.77it/s]\n",
      "100%|██████████| 1000/1000 [00:00<00:00, 4519.34it/s]\n",
      "100%|██████████| 1000/1000 [00:00<00:00, 3065.60it/s]\n",
      "100%|██████████| 1000/1000 [00:00<00:00, 3246.92it/s]\n",
      "100%|██████████| 1000/1000 [00:00<00:00, 4448.08it/s]\n",
      "100%|██████████| 1000/1000 [00:00<00:00, 4382.92it/s]\n",
      "100%|██████████| 1000/1000 [00:00<00:00, 4248.15it/s]\n",
      "100%|██████████| 1000/1000 [00:00<00:00, 4262.15it/s]\n",
      "100%|██████████| 1000/1000 [00:00<00:00, 4358.74it/s]\n",
      "100%|██████████| 1000/1000 [00:00<00:00, 4167.00it/s]\n",
      "100%|██████████| 1000/1000 [00:00<00:00, 4465.79it/s]\n",
      "100%|██████████| 1000/1000 [00:00<00:00, 4386.63it/s]\n",
      "100%|██████████| 1000/1000 [00:00<00:00, 4468.47it/s]\n",
      "100%|██████████| 1000/1000 [00:00<00:00, 4335.63it/s]\n",
      "Saving files: 382it [10:41,  1.10s/it]/home/david/anaconda3/lib/python3.9/site-packages/tqdm/std.py:1195: DtypeWarning: Columns (4963) have mixed types. Specify dtype option on import or set low_memory=False.\n",
      "  for obj in iterable:\n",
      "100%|██████████| 1000/1000 [00:00<00:00, 4113.65it/s]\n",
      "Saving files: 383it [10:42,  1.06s/it]/home/david/anaconda3/lib/python3.9/site-packages/tqdm/std.py:1195: DtypeWarning: Columns (2708) have mixed types. Specify dtype option on import or set low_memory=False.\n",
      "  for obj in iterable:\n",
      "100%|██████████| 1000/1000 [00:00<00:00, 4453.83it/s]\n",
      "100%|██████████| 1000/1000 [00:00<00:00, 4468.84it/s]\n",
      "100%|██████████| 1000/1000 [00:00<00:00, 4382.51it/s]\n",
      "Saving files: 386it [10:45,  1.04it/s]/home/david/anaconda3/lib/python3.9/site-packages/tqdm/std.py:1195: DtypeWarning: Columns (3610,4061,4512,4963) have mixed types. Specify dtype option on import or set low_memory=False.\n",
      "  for obj in iterable:\n",
      "100%|██████████| 1000/1000 [00:00<00:00, 4425.74it/s]\n",
      "100%|██████████| 1000/1000 [00:00<00:00, 4410.10it/s]\n",
      "Saving files: 388it [10:49,  1.55s/it]/home/david/anaconda3/lib/python3.9/site-packages/tqdm/std.py:1195: DtypeWarning: Columns (3610,4061,4512,4963) have mixed types. Specify dtype option on import or set low_memory=False.\n",
      "  for obj in iterable:\n",
      "100%|██████████| 1000/1000 [00:00<00:00, 3149.72it/s]\n",
      "100%|██████████| 1000/1000 [00:00<00:00, 2657.04it/s]\n",
      "Saving files: 390it [10:53,  1.79s/it]/home/david/anaconda3/lib/python3.9/site-packages/tqdm/std.py:1195: DtypeWarning: Columns (4061) have mixed types. Specify dtype option on import or set low_memory=False.\n",
      "  for obj in iterable:\n",
      "100%|██████████| 1000/1000 [00:00<00:00, 4359.50it/s]\n",
      "Saving files: 391it [10:55,  1.75s/it]/home/david/anaconda3/lib/python3.9/site-packages/tqdm/std.py:1195: DtypeWarning: Columns (4963) have mixed types. Specify dtype option on import or set low_memory=False.\n",
      "  for obj in iterable:\n",
      "100%|██████████| 1000/1000 [00:00<00:00, 4383.20it/s]\n",
      "100%|██████████| 1000/1000 [00:00<00:00, 4205.01it/s]\n",
      "100%|██████████| 1000/1000 [00:00<00:00, 3271.46it/s]\n",
      "100%|██████████| 1000/1000 [00:00<00:00, 4152.48it/s]\n",
      "100%|██████████| 1000/1000 [00:00<00:00, 4123.35it/s]\n",
      "100%|██████████| 1000/1000 [00:00<00:00, 4172.90it/s]\n",
      "100%|██████████| 1000/1000 [00:00<00:00, 4204.21it/s]\n",
      "100%|██████████| 1000/1000 [00:00<00:00, 4393.90it/s]\n",
      "Saving files: 399it [11:07,  1.18s/it]/home/david/anaconda3/lib/python3.9/site-packages/tqdm/std.py:1195: DtypeWarning: Columns (4963) have mixed types. Specify dtype option on import or set low_memory=False.\n",
      "  for obj in iterable:\n",
      "100%|██████████| 1000/1000 [00:00<00:00, 4441.65it/s]\n",
      "100%|██████████| 1000/1000 [00:00<00:00, 4306.58it/s]\n",
      "Saving files: 401it [11:08,  1.03s/it]/home/david/anaconda3/lib/python3.9/site-packages/tqdm/std.py:1195: DtypeWarning: Columns (3159) have mixed types. Specify dtype option on import or set low_memory=False.\n",
      "  for obj in iterable:\n",
      "100%|██████████| 1000/1000 [00:00<00:00, 4431.36it/s]\n",
      "Saving files: 402it [11:10,  1.12s/it]/home/david/anaconda3/lib/python3.9/site-packages/tqdm/std.py:1195: DtypeWarning: Columns (4963) have mixed types. Specify dtype option on import or set low_memory=False.\n",
      "  for obj in iterable:\n",
      "100%|██████████| 1000/1000 [00:00<00:00, 4266.06it/s]\n",
      "Saving files: 403it [11:14,  2.07s/it]/home/david/anaconda3/lib/python3.9/site-packages/tqdm/std.py:1195: DtypeWarning: Columns (4963) have mixed types. Specify dtype option on import or set low_memory=False.\n",
      "  for obj in iterable:\n",
      "100%|██████████| 1000/1000 [00:00<00:00, 4339.80it/s]\n",
      "Saving files: 404it [11:16,  2.08s/it]/home/david/anaconda3/lib/python3.9/site-packages/tqdm/std.py:1195: DtypeWarning: Columns (3610,4963) have mixed types. Specify dtype option on import or set low_memory=False.\n",
      "  for obj in iterable:\n",
      "100%|██████████| 1000/1000 [00:00<00:00, 4488.60it/s]\n",
      "100%|██████████| 1000/1000 [00:00<00:00, 4485.11it/s]\n",
      "Saving files: 406it [11:20,  2.11s/it]/home/david/anaconda3/lib/python3.9/site-packages/tqdm/std.py:1195: DtypeWarning: Columns (4061,4963) have mixed types. Specify dtype option on import or set low_memory=False.\n",
      "  for obj in iterable:\n",
      "100%|██████████| 1000/1000 [00:00<00:00, 4482.69it/s]\n",
      "Saving files: 407it [11:22,  1.98s/it]/home/david/anaconda3/lib/python3.9/site-packages/tqdm/std.py:1195: DtypeWarning: Columns (4963) have mixed types. Specify dtype option on import or set low_memory=False.\n",
      "  for obj in iterable:\n",
      "100%|██████████| 1000/1000 [00:00<00:00, 4474.79it/s]\n",
      "Saving files: 408it [11:24,  1.91s/it]/home/david/anaconda3/lib/python3.9/site-packages/tqdm/std.py:1195: DtypeWarning: Columns (4512) have mixed types. Specify dtype option on import or set low_memory=False.\n",
      "  for obj in iterable:\n",
      " 73%|███████▎  | 733/1000 [00:00<00:00, 4358.75it/s]\n",
      "Saving files: 408it [11:26,  1.68s/it]\n"
     ]
    },
    {
     "ename": "IndexError",
     "evalue": "index 733 is out of bounds for axis 0 with size 733",
     "output_type": "error",
     "traceback": [
      "\u001b[0;31m---------------------------------------------------------------------------\u001b[0m",
      "\u001b[0;31mIndexError\u001b[0m                                Traceback (most recent call last)",
      "\u001b[1;32m/home/david/Desktop/projects/thesis/downstream_classification/notebooks/0.0-dh-prep.ipynb Cell 26\u001b[0m in \u001b[0;36m<cell line: 7>\u001b[0;34m()\u001b[0m\n\u001b[1;32m     <a href='vscode-notebook-cell://ssh-remote%2B192.168.1.167/home/david/Desktop/projects/thesis/downstream_classification/notebooks/0.0-dh-prep.ipynb#X34sdnNjb2RlLXJlbW90ZQ%3D%3D?line=11'>12</a>\u001b[0m X \u001b[39m=\u001b[39m chunk[cols]\u001b[39m.\u001b[39mvalues\u001b[39m.\u001b[39mreshape((n_chunk,\u001b[39m12\u001b[39m,\u001b[39m450\u001b[39m))\n\u001b[1;32m     <a href='vscode-notebook-cell://ssh-remote%2B192.168.1.167/home/david/Desktop/projects/thesis/downstream_classification/notebooks/0.0-dh-prep.ipynb#X34sdnNjb2RlLXJlbW90ZQ%3D%3D?line=12'>13</a>\u001b[0m \u001b[39mfor\u001b[39;00m i \u001b[39min\u001b[39;00m tqdm(\u001b[39mrange\u001b[39m(CHUNKSIZE)):\n\u001b[0;32m---> <a href='vscode-notebook-cell://ssh-remote%2B192.168.1.167/home/david/Desktop/projects/thesis/downstream_classification/notebooks/0.0-dh-prep.ipynb#X34sdnNjb2RlLXJlbW90ZQ%3D%3D?line=13'>14</a>\u001b[0m     np\u001b[39m.\u001b[39msave(destination_folder\u001b[39m+\u001b[39m\u001b[39mf\u001b[39m\u001b[39m'\u001b[39m\u001b[39m{\u001b[39;00mindices[i]\u001b[39m}\u001b[39;00m\u001b[39m.npy\u001b[39m\u001b[39m'\u001b[39m, X[i])\n",
      "\u001b[0;31mIndexError\u001b[0m: index 733 is out of bounds for axis 0 with size 733"
     ]
    }
   ],
   "source": [
    "CHUNKSIZE = 1000\n",
    "cols = [[f'{lead}_{j}' for j in range(450)] for lead in ['LI', 'LII', 'LIII', 'aVF', 'aVL', 'aVR','V1','V2','V3','V4','V5','V6']]\n",
    "cols = [item for sublist in cols for item in sublist]\n",
    "destination_folder = '../data/individual-signals/'\n",
    "\n",
    "# with pd.read_csv('../data/combined_data/sample-of-10k.csv', chunksize=CHUNKSIZE) as reader:\n",
    "with pd.read_csv('../data/combined_data/All_leads_2909_with_NAs_relevant_readings.csv', chunksize=CHUNKSIZE, index_col=0) as reader:\n",
    "    for chunk in tqdm(reader, desc='Saving files'):\n",
    "        indices = chunk['reading'].values\n",
    "        chunk = chunk.drop([x for x in _.columns if 'index' in x],axis=1)\n",
    "        n_chunk = len(chunk)\n",
    "        X = chunk[cols].values.reshape((n_chunk,12,450))\n",
    "        for i in tqdm(range(CHUNKSIZE)):\n",
    "            np.save(destination_folder+f'{indices[i]}.npy', X[i])\n",
    "\n",
    "\n"
   ]
  },
  {
   "cell_type": "code",
   "execution_count": 8,
   "metadata": {},
   "outputs": [
    {
     "data": {
      "text/plain": [
       "408733"
      ]
     },
     "execution_count": 8,
     "metadata": {},
     "output_type": "execute_result"
    }
   ],
   "source": [
    "len(os.listdir('../data/individual-signals/'))"
   ]
  },
  {
   "cell_type": "code",
   "execution_count": 47,
   "metadata": {},
   "outputs": [
    {
     "data": {
      "text/plain": [
       "408734"
      ]
     },
     "execution_count": 47,
     "metadata": {},
     "output_type": "execute_result"
    }
   ],
   "source": [
    "len(os.listdir('../data/individual-signals/'))"
   ]
  },
  {
   "attachments": {},
   "cell_type": "markdown",
   "metadata": {},
   "source": [
    "# Fix Metadata and Readings\n",
    "- 5% is missing uniformly. I remove these examples."
   ]
  },
  {
   "cell_type": "code",
   "execution_count": 58,
   "metadata": {},
   "outputs": [
    {
     "data": {
      "text/html": [
       "<div>\n",
       "<style scoped>\n",
       "    .dataframe tbody tr th:only-of-type {\n",
       "        vertical-align: middle;\n",
       "    }\n",
       "\n",
       "    .dataframe tbody tr th {\n",
       "        vertical-align: top;\n",
       "    }\n",
       "\n",
       "    .dataframe thead th {\n",
       "        text-align: right;\n",
       "    }\n",
       "</style>\n",
       "<table border=\"1\" class=\"dataframe\">\n",
       "  <thead>\n",
       "    <tr style=\"text-align: right;\">\n",
       "      <th></th>\n",
       "      <th>sample</th>\n",
       "      <th>reading</th>\n",
       "      <th>dates</th>\n",
       "      <th>one_year_until_death</th>\n",
       "      <th>CVA</th>\n",
       "      <th>first_AF_in_home_ECG</th>\n",
       "      <th>first_AF_in_Dispatch</th>\n",
       "      <th>AF</th>\n",
       "      <th>IHD</th>\n",
       "      <th>sp_MI_all</th>\n",
       "      <th>sp_CABG</th>\n",
       "      <th>CHF</th>\n",
       "      <th>sp_CPR</th>\n",
       "      <th>cpr_shl</th>\n",
       "      <th>DM2</th>\n",
       "      <th>AF2</th>\n",
       "      <th>DM</th>\n",
       "    </tr>\n",
       "  </thead>\n",
       "  <tbody>\n",
       "    <tr>\n",
       "      <th>0</th>\n",
       "      <td>train</td>\n",
       "      <td>427805</td>\n",
       "      <td>20/01/2008</td>\n",
       "      <td>0</td>\n",
       "      <td>0.0</td>\n",
       "      <td>1.0</td>\n",
       "      <td>1.0</td>\n",
       "      <td>1.0</td>\n",
       "      <td>0.0</td>\n",
       "      <td>0.0</td>\n",
       "      <td>0.0</td>\n",
       "      <td>0.0</td>\n",
       "      <td>0.0</td>\n",
       "      <td>0.0</td>\n",
       "      <td>0.0</td>\n",
       "      <td>1.0</td>\n",
       "      <td>0.0</td>\n",
       "    </tr>\n",
       "    <tr>\n",
       "      <th>1</th>\n",
       "      <td>train</td>\n",
       "      <td>356921</td>\n",
       "      <td>23/02/2010</td>\n",
       "      <td>0</td>\n",
       "      <td>0.0</td>\n",
       "      <td>0.0</td>\n",
       "      <td>0.0</td>\n",
       "      <td>0.0</td>\n",
       "      <td>1.0</td>\n",
       "      <td>0.0</td>\n",
       "      <td>1.0</td>\n",
       "      <td>0.0</td>\n",
       "      <td>0.0</td>\n",
       "      <td>0.0</td>\n",
       "      <td>1.0</td>\n",
       "      <td>0.0</td>\n",
       "      <td>1.0</td>\n",
       "    </tr>\n",
       "    <tr>\n",
       "      <th>2</th>\n",
       "      <td>train</td>\n",
       "      <td>428248</td>\n",
       "      <td>19/12/2015</td>\n",
       "      <td>0</td>\n",
       "      <td>0.0</td>\n",
       "      <td>0.0</td>\n",
       "      <td>0.0</td>\n",
       "      <td>0.0</td>\n",
       "      <td>1.0</td>\n",
       "      <td>0.0</td>\n",
       "      <td>0.0</td>\n",
       "      <td>0.0</td>\n",
       "      <td>0.0</td>\n",
       "      <td>0.0</td>\n",
       "      <td>0.0</td>\n",
       "      <td>0.0</td>\n",
       "      <td>0.0</td>\n",
       "    </tr>\n",
       "    <tr>\n",
       "      <th>3</th>\n",
       "      <td>train</td>\n",
       "      <td>440621</td>\n",
       "      <td>18/08/2017</td>\n",
       "      <td>0</td>\n",
       "      <td>0.0</td>\n",
       "      <td>1.0</td>\n",
       "      <td>1.0</td>\n",
       "      <td>1.0</td>\n",
       "      <td>0.0</td>\n",
       "      <td>0.0</td>\n",
       "      <td>0.0</td>\n",
       "      <td>0.0</td>\n",
       "      <td>0.0</td>\n",
       "      <td>0.0</td>\n",
       "      <td>0.0</td>\n",
       "      <td>1.0</td>\n",
       "      <td>0.0</td>\n",
       "    </tr>\n",
       "    <tr>\n",
       "      <th>4</th>\n",
       "      <td>train</td>\n",
       "      <td>32229</td>\n",
       "      <td>10/07/2019</td>\n",
       "      <td>0</td>\n",
       "      <td>0.0</td>\n",
       "      <td>1.0</td>\n",
       "      <td>1.0</td>\n",
       "      <td>1.0</td>\n",
       "      <td>1.0</td>\n",
       "      <td>0.0</td>\n",
       "      <td>0.0</td>\n",
       "      <td>0.0</td>\n",
       "      <td>0.0</td>\n",
       "      <td>0.0</td>\n",
       "      <td>1.0</td>\n",
       "      <td>1.0</td>\n",
       "      <td>1.0</td>\n",
       "    </tr>\n",
       "  </tbody>\n",
       "</table>\n",
       "</div>"
      ],
      "text/plain": [
       "  sample  reading       dates  one_year_until_death  CVA  \\\n",
       "0  train   427805  20/01/2008                     0  0.0   \n",
       "1  train   356921  23/02/2010                     0  0.0   \n",
       "2  train   428248  19/12/2015                     0  0.0   \n",
       "3  train   440621  18/08/2017                     0  0.0   \n",
       "4  train    32229  10/07/2019                     0  0.0   \n",
       "\n",
       "   first_AF_in_home_ECG  first_AF_in_Dispatch   AF  IHD  sp_MI_all  sp_CABG  \\\n",
       "0                   1.0                   1.0  1.0  0.0        0.0      0.0   \n",
       "1                   0.0                   0.0  0.0  1.0        0.0      1.0   \n",
       "2                   0.0                   0.0  0.0  1.0        0.0      0.0   \n",
       "3                   1.0                   1.0  1.0  0.0        0.0      0.0   \n",
       "4                   1.0                   1.0  1.0  1.0        0.0      0.0   \n",
       "\n",
       "   CHF  sp_CPR  cpr_shl  DM2  AF2   DM  \n",
       "0  0.0     0.0      0.0  0.0  1.0  0.0  \n",
       "1  0.0     0.0      0.0  1.0  0.0  1.0  \n",
       "2  0.0     0.0      0.0  0.0  0.0  0.0  \n",
       "3  0.0     0.0      0.0  0.0  1.0  0.0  \n",
       "4  0.0     0.0      0.0  1.0  1.0  1.0  "
      ]
     },
     "execution_count": 58,
     "metadata": {},
     "output_type": "execute_result"
    }
   ],
   "source": [
    "metadata = pd.read_csv('./data/combined_data/metadata.csv',index_col=0)\n",
    "metadata.iloc[:5]"
   ]
  },
  {
   "cell_type": "code",
   "execution_count": 62,
   "metadata": {},
   "outputs": [
    {
     "data": {
      "text/html": [
       "<div>\n",
       "<style scoped>\n",
       "    .dataframe tbody tr th:only-of-type {\n",
       "        vertical-align: middle;\n",
       "    }\n",
       "\n",
       "    .dataframe tbody tr th {\n",
       "        vertical-align: top;\n",
       "    }\n",
       "\n",
       "    .dataframe thead th {\n",
       "        text-align: right;\n",
       "    }\n",
       "</style>\n",
       "<table border=\"1\" class=\"dataframe\">\n",
       "  <thead>\n",
       "    <tr style=\"text-align: right;\">\n",
       "      <th>sample</th>\n",
       "      <th>test</th>\n",
       "      <th>train</th>\n",
       "      <th>validation</th>\n",
       "    </tr>\n",
       "    <tr>\n",
       "      <th>_merge</th>\n",
       "      <th></th>\n",
       "      <th></th>\n",
       "      <th></th>\n",
       "    </tr>\n",
       "  </thead>\n",
       "  <tbody>\n",
       "    <tr>\n",
       "      <th>left_only</th>\n",
       "      <td>2848</td>\n",
       "      <td>13782</td>\n",
       "      <td>2714</td>\n",
       "    </tr>\n",
       "    <tr>\n",
       "      <th>both</th>\n",
       "      <td>57840</td>\n",
       "      <td>264809</td>\n",
       "      <td>53779</td>\n",
       "    </tr>\n",
       "  </tbody>\n",
       "</table>\n",
       "</div>"
      ],
      "text/plain": [
       "sample      test   train  validation\n",
       "_merge                              \n",
       "left_only   2848   13782        2714\n",
       "both       57840  264809       53779"
      ]
     },
     "execution_count": 62,
     "metadata": {},
     "output_type": "execute_result"
    }
   ],
   "source": [
    "pd.crosstab(\n",
    "               metadata.merge(indices,\n",
    "                        on = 'reading',\n",
    "                        how='outer',\n",
    "                        indicator=True)['_merge'],\n",
    "               metadata.merge(indices,\n",
    "                        on = 'reading',\n",
    "                        how='outer',\n",
    "                        indicator=True)['sample']\n",
    "                        , normalize='columns')\n",
    "pd.crosstab(\n",
    "               metadata.merge(indices,\n",
    "                        on = 'reading',\n",
    "                        how='outer',\n",
    "                        indicator=True)['_merge'],\n",
    "               metadata.merge(indices,\n",
    "                        on = 'reading',\n",
    "                        how='outer',\n",
    "                        indicator=True)['sample']\n",
    "                        )\n",
    "               "
   ]
  },
  {
   "cell_type": "code",
   "execution_count": 63,
   "metadata": {},
   "outputs": [
    {
     "data": {
      "text/plain": [
       "376428"
      ]
     },
     "execution_count": 63,
     "metadata": {},
     "output_type": "execute_result"
    }
   ],
   "source": [
    "57840+264809+53779"
   ]
  },
  {
   "cell_type": "code",
   "execution_count": 66,
   "metadata": {},
   "outputs": [],
   "source": [
    "metadata = metadata[metadata['reading'].isin(indices['reading'].tolist())].reset_index(drop=True)\n",
    "metadata.to_csv('./data/combined_data/metadata_only_existant_readings.csv')"
   ]
  },
  {
   "cell_type": "code",
   "execution_count": null,
   "metadata": {},
   "outputs": [],
   "source": []
  },
  {
   "attachments": {},
   "cell_type": "markdown",
   "metadata": {},
   "source": [
    "# Data Loader\n"
   ]
  },
  {
   "cell_type": "code",
   "execution_count": 48,
   "metadata": {},
   "outputs": [],
   "source": [
    "import os\n",
    "os.chdir('../')\n",
    "os.getcwd()\n",
    "\n",
    "from dataloader.DataLoader import *\n"
   ]
  },
  {
   "cell_type": "code",
   "execution_count": 49,
   "metadata": {},
   "outputs": [
    {
     "name": "stdout",
     "output_type": "stream",
     "text": [
      "(4, 12, 450) (4, 1, 1)\n"
     ]
    },
    {
     "data": {
      "text/plain": [
       "(array([[[0.07035693, 0.07568277, 0.07440537, ..., 0.2962655 ,\n",
       "          0.29798081, 0.30880839],\n",
       "         [0.        , 0.        , 0.        , ..., 0.        ,\n",
       "          0.        , 0.        ],\n",
       "         [0.54670978, 0.57286823, 0.59475433, ..., 0.40395203,\n",
       "          0.4055782 , 0.41138153],\n",
       "         ...,\n",
       "         [0.        , 0.        , 0.        , ..., 0.        ,\n",
       "          0.        , 0.        ],\n",
       "         [0.29788438, 0.30490081, 0.30807252, ..., 0.41146168,\n",
       "          0.41332993, 0.4153182 ],\n",
       "         [0.        , 0.        , 0.        , ..., 0.        ,\n",
       "          0.        , 0.        ]],\n",
       " \n",
       "        [[0.09605672, 0.08102025, 0.07305227, ..., 0.10060301,\n",
       "          0.10097296, 0.10191689],\n",
       "         [0.17137337, 0.16570022, 0.15928345, ..., 0.18195498,\n",
       "          0.18496174, 0.18699796],\n",
       "         [0.85849231, 0.8789722 , 0.88437637, ..., 0.8670979 ,\n",
       "          0.86805067, 0.86900862],\n",
       "         ...,\n",
       "         [0.51232884, 0.51460549, 0.51034897, ..., 0.48689366,\n",
       "          0.49303684, 0.50490319],\n",
       "         [0.19960791, 0.19415436, 0.18460545, ..., 0.21148582,\n",
       "          0.21130434, 0.21110952],\n",
       "         [0.11052962, 0.11341776, 0.10634605, ..., 0.10410387,\n",
       "          0.1035858 , 0.10304289]],\n",
       " \n",
       "        [[0.20593778, 0.20763067, 0.20381192, ..., 0.18057906,\n",
       "          0.18166838, 0.17743378],\n",
       "         [0.14408608, 0.12922346, 0.11963567, ..., 0.17874428,\n",
       "          0.17468125, 0.16481226],\n",
       "         [0.        , 0.        , 0.        , ..., 0.        ,\n",
       "          0.        , 0.        ],\n",
       "         ...,\n",
       "         [0.17677935, 0.1739333 , 0.17267686, ..., 0.09033734,\n",
       "          0.09935322, 0.10851974],\n",
       "         [0.18117628, 0.17116239, 0.16570891, ..., 0.10630478,\n",
       "          0.10982087, 0.11737023],\n",
       "         [0.        , 0.        , 0.        , ..., 0.        ,\n",
       "          0.        , 0.        ]],\n",
       " \n",
       "        [[0.38950042, 0.38544713, 0.36970693, ..., 0.08727061,\n",
       "          0.18924658, 0.30223587],\n",
       "         [0.38706555, 0.37168545, 0.35449165, ..., 0.45652075,\n",
       "          0.43484854, 0.40847866],\n",
       "         [0.        , 0.        , 0.        , ..., 0.        ,\n",
       "          0.        , 0.        ],\n",
       "         ...,\n",
       "         [0.79321136, 0.80727999, 0.82223222, ..., 0.66806376,\n",
       "          0.66706866, 0.66845076],\n",
       "         [0.61623671, 0.61819283, 0.61787249, ..., 0.42162931,\n",
       "          0.4668666 , 0.52558175],\n",
       "         [0.4299203 , 0.42019145, 0.41000838, ..., 0.39638664,\n",
       "          0.3924114 , 0.39037194]]]),\n",
       " array([[[0.]],\n",
       " \n",
       "        [[0.]],\n",
       " \n",
       "        [[0.]],\n",
       " \n",
       "        [[0.]]]))"
      ]
     },
     "execution_count": 49,
     "metadata": {},
     "output_type": "execute_result"
    }
   ],
   "source": [
    "# --------------------------------\n",
    "# Usage example\n",
    "# --------------------------------\n",
    "\n",
    "train_generator = DataGenerator(\n",
    "    metadata_file_path= './data/combined_data/metadata.csv',   # path to metadata file\n",
    "    data_folder_path = './data/individual-signals/',     # path to individual signals\n",
    "    sample='train',               # sample we want to create a generator to. Either train, validation or test\n",
    "    targets=['AF'],             # list of targets we want train on\n",
    "    batch_size=4,           # batch size\n",
    "    shuffle=True,       # Whether to shuffle the list of IDs at the end of each epoch.\n",
    "    fillna=0\n",
    "                 )\n",
    "\n",
    "# X,y = train_generator.__getitem__(1224)\n",
    "X,y = train_generator.__getitem__(122)\n",
    "print(X.shape, y.shape)\n",
    "X,y\n",
    "\n",
    "\n"
   ]
  },
  {
   "cell_type": "code",
   "execution_count": 183,
   "metadata": {},
   "outputs": [
    {
     "data": {
      "text/plain": [
       "array([[[0.]],\n",
       "\n",
       "       [[0.]],\n",
       "\n",
       "       [[0.]],\n",
       "\n",
       "       [[0.]]])"
      ]
     },
     "execution_count": 183,
     "metadata": {},
     "output_type": "execute_result"
    }
   ],
   "source": [
    "y"
   ]
  },
  {
   "cell_type": "code",
   "execution_count": 185,
   "metadata": {},
   "outputs": [
    {
     "data": {
      "text/plain": [
       "(12, 450)"
      ]
     },
     "execution_count": 185,
     "metadata": {},
     "output_type": "execute_result"
    }
   ],
   "source": [
    "X[0].shape"
   ]
  },
  {
   "cell_type": "code",
   "execution_count": 186,
   "metadata": {},
   "outputs": [
    {
     "data": {
      "text/plain": [
       "[<matplotlib.lines.Line2D at 0x2fba8c7f0>]"
      ]
     },
     "execution_count": 186,
     "metadata": {},
     "output_type": "execute_result"
    },
    {
     "data": {
      "image/png": "[encoded data removed]",
      "text/plain": [
       "<Figure size 640x480 with 1 Axes>"
      ]
     },
     "metadata": {},
     "output_type": "display_data"
    }
   ],
   "source": [
    "plt.plot(X[0][0])"
   ]
  },
  {
   "attachments": {},
   "cell_type": "markdown",
   "metadata": {},
   "source": [
    "# Model"
   ]
  },
  {
   "cell_type": "code",
   "execution_count": 1,
   "metadata": {},
   "outputs": [
    {
     "data": {
      "text/plain": [
       "['.DS_Store',\n",
       " 'Summary.md',\n",
       " 'utils',\n",
       " 'models',\n",
       " 'modeling',\n",
       " 'executors',\n",
       " 'configs',\n",
       " 'main.py',\n",
       " 'data',\n",
       " 'notebooks',\n",
       " 'plots',\n",
       " 'dataloader']"
      ]
     },
     "execution_count": 1,
     "metadata": {},
     "output_type": "execute_result"
    }
   ],
   "source": [
    "import os\n",
    "os.chdir('../')\n",
    "os.listdir()\n",
    "\n"
   ]
  },
  {
   "cell_type": "code",
   "execution_count": 50,
   "metadata": {},
   "outputs": [
    {
     "name": "stderr",
     "output_type": "stream",
     "text": [
      "/opt/homebrew/Caskroom/miniforge/base/envs/torch-gpu/lib/python3.8/site-packages/tqdm/auto.py:21: TqdmWarning: IProgress not found. Please update jupyter and ipywidgets. See https://ipywidgets.readthedocs.io/en/stable/user_install.html\n",
      "  from .autonotebook import tqdm as notebook_tqdm\n"
     ]
    }
   ],
   "source": [
    "from executors.train_on_local_machine_mps import *\n"
   ]
  },
  {
   "cell_type": "code",
   "execution_count": 18,
   "metadata": {},
   "outputs": [
    {
     "name": "stdout",
     "output_type": "stream",
     "text": [
      "(4, 12, 450) (4, 1, 1)\n"
     ]
    },
    {
     "data": {
      "text/plain": [
       "(array([[[0.8105132 , 0.80375487, 0.78977823, ..., 0.82434064,\n",
       "          0.825726  , 0.8260739 ],\n",
       "         [0.64676106, 0.63912654, 0.6361029 , ..., 0.5892875 ,\n",
       "          0.5898527 , 0.5920997 ],\n",
       "         [0.367957  , 0.36431572, 0.36054474, ..., 0.38270366,\n",
       "          0.38431332, 0.3897444 ],\n",
       "         ...,\n",
       "         [0.12485901, 0.12692589, 0.12964651, ..., 0.15163463,\n",
       "          0.14717524, 0.13836902],\n",
       "         [0.90467817, 0.91214657, 0.92021906, ..., 0.87284875,\n",
       "          0.877367  , 0.8815266 ],\n",
       "         [0.4706599 , 0.43827498, 0.39946982, ..., 0.4625186 ,\n",
       "          0.47015795, 0.5034792 ]],\n",
       " \n",
       "        [[0.81004155, 0.8148542 , 0.811478  , ..., 0.7389775 ,\n",
       "          0.7345119 , 0.7278662 ],\n",
       "         [       nan,        nan,        nan, ...,        nan,\n",
       "                 nan,        nan],\n",
       "         [0.4173252 , 0.40385526, 0.39333266, ..., 0.4572741 ,\n",
       "          0.45874   , 0.46497807],\n",
       "         ...,\n",
       "         [       nan,        nan,        nan, ...,        nan,\n",
       "                 nan,        nan],\n",
       "         [       nan,        nan,        nan, ...,        nan,\n",
       "                 nan,        nan],\n",
       "         [       nan,        nan,        nan, ...,        nan,\n",
       "                 nan,        nan]],\n",
       " \n",
       "        [[0.7965282 , 0.79873973, 0.80107355, ..., 0.7188532 ,\n",
       "          0.72252536, 0.72536373],\n",
       "         [0.64244896, 0.6384086 , 0.63624334, ..., 0.6883975 ,\n",
       "          0.68856937, 0.68670344],\n",
       "         [0.2659407 , 0.26213607, 0.25912407, ..., 0.3060723 ,\n",
       "          0.30610794, 0.30613607],\n",
       "         ...,\n",
       "         [0.3051825 , 0.31717876, 0.33187553, ..., 0.37479198,\n",
       "          0.3708344 , 0.36688077],\n",
       "         [0.6623804 , 0.6543658 , 0.6463102 , ..., 0.6025945 ,\n",
       "          0.60789365, 0.6132135 ],\n",
       "         [       nan,        nan,        nan, ...,        nan,\n",
       "                 nan,        nan]],\n",
       " \n",
       "        [[0.3087546 , 0.32244408, 0.3305903 , ..., 0.07901216,\n",
       "          0.11863258, 0.17012851],\n",
       "         [0.54821676, 0.55703324, 0.5758568 , ..., 0.39304096,\n",
       "          0.4048728 , 0.42484975],\n",
       "         [0.31315085, 0.30399296, 0.30408856, ..., 0.25531712,\n",
       "          0.25197953, 0.24883734],\n",
       "         ...,\n",
       "         [0.22486974, 0.26513   , 0.29678532, ..., 0.40714374,\n",
       "          0.41812536, 0.4331957 ],\n",
       "         [       nan,        nan,        nan, ...,        nan,\n",
       "                 nan,        nan],\n",
       "         [       nan,        nan,        nan, ...,        nan,\n",
       "                 nan,        nan]]]),\n",
       " array([[[0.]],\n",
       " \n",
       "        [[0.]],\n",
       " \n",
       "        [[0.]],\n",
       " \n",
       "        [[0.]]]))"
      ]
     },
     "execution_count": 18,
     "metadata": {},
     "output_type": "execute_result"
    }
   ],
   "source": [
    "train_generator = DataGenerator(\n",
    "    metadata_file_path= './data/combined_data/metadata.csv',   # path to metadata file\n",
    "    data_folder_path = './data/individual-signals/',     # path to individual signals\n",
    "    sample='train',               # sample we want to create a generator to. Either train, validation or test\n",
    "    targets=['AF'],             # list of targets we want train on\n",
    "    batch_size=4,           # batch size\n",
    "    shuffle=True       # Whether to shuffle the list of IDs at the end of each epoch.\n",
    "                 )\n",
    "\n",
    "X,y = train_generator.__getitem__(1224)\n",
    "print(X.shape, y.shape)\n",
    "X,y\n"
   ]
  },
  {
   "cell_type": "code",
   "execution_count": 19,
   "metadata": {},
   "outputs": [
    {
     "data": {
      "text/plain": [
       "(450, 4, 12)"
      ]
     },
     "execution_count": 19,
     "metadata": {},
     "output_type": "execute_result"
    }
   ],
   "source": [
    "X = np.float32(np.transpose(X, axes=(2,0,1)))\n",
    "X.shape"
   ]
  },
  {
   "cell_type": "code",
   "execution_count": 20,
   "metadata": {},
   "outputs": [],
   "source": [
    "y = np.float32(np.transpose(y, axes=(2,0,1)))\n",
    "\n",
    "X = torch.from_numpy(X)\n",
    "y = torch.from_numpy(y)\n",
    "\n",
    "X = X.to(device)\n",
    "y = y.to(device)"
   ]
  },
  {
   "cell_type": "code",
   "execution_count": 22,
   "metadata": {},
   "outputs": [
    {
     "data": {
      "text/plain": [
       "torch.Size([450, 4, 12])"
      ]
     },
     "execution_count": 22,
     "metadata": {},
     "output_type": "execute_result"
    }
   ],
   "source": [
    "X.shape"
   ]
  },
  {
   "cell_type": "code",
   "execution_count": 33,
   "metadata": {},
   "outputs": [
    {
     "data": {
      "text/plain": [
       "tensor([[[0.8105, 0.6468, 0.3680,  ..., 0.1249, 0.9047, 0.4707],\n",
       "         [0.8100,    nan, 0.4173,  ...,    nan,    nan,    nan],\n",
       "         [0.7965, 0.6424, 0.2659,  ..., 0.3052, 0.6624,    nan],\n",
       "         [0.3088, 0.5482, 0.3132,  ..., 0.2249,    nan,    nan]],\n",
       "\n",
       "        [[0.8038, 0.6391, 0.3643,  ..., 0.1269, 0.9121, 0.4383],\n",
       "         [0.8149,    nan, 0.4039,  ...,    nan,    nan,    nan],\n",
       "         [0.7987, 0.6384, 0.2621,  ..., 0.3172, 0.6544,    nan],\n",
       "         [0.3224, 0.5570, 0.3040,  ..., 0.2651,    nan,    nan]],\n",
       "\n",
       "        [[0.7898, 0.6361, 0.3605,  ..., 0.1296, 0.9202, 0.3995],\n",
       "         [0.8115,    nan, 0.3933,  ...,    nan,    nan,    nan],\n",
       "         [0.8011, 0.6362, 0.2591,  ..., 0.3319, 0.6463,    nan],\n",
       "         [0.3306, 0.5759, 0.3041,  ..., 0.2968,    nan,    nan]],\n",
       "\n",
       "        ...,\n",
       "\n",
       "        [[0.8243, 0.5893, 0.3827,  ..., 0.1516, 0.8728, 0.4625],\n",
       "         [0.7390,    nan, 0.4573,  ...,    nan,    nan,    nan],\n",
       "         [0.7189, 0.6884, 0.3061,  ..., 0.3748, 0.6026,    nan],\n",
       "         [0.0790, 0.3930, 0.2553,  ..., 0.4071,    nan,    nan]],\n",
       "\n",
       "        [[0.8257, 0.5899, 0.3843,  ..., 0.1472, 0.8774, 0.4702],\n",
       "         [0.7345,    nan, 0.4587,  ...,    nan,    nan,    nan],\n",
       "         [0.7225, 0.6886, 0.3061,  ..., 0.3708, 0.6079,    nan],\n",
       "         [0.1186, 0.4049, 0.2520,  ..., 0.4181,    nan,    nan]],\n",
       "\n",
       "        [[0.8261, 0.5921, 0.3897,  ..., 0.1384, 0.8815, 0.5035],\n",
       "         [0.7279,    nan, 0.4650,  ...,    nan,    nan,    nan],\n",
       "         [0.7254, 0.6867, 0.3061,  ..., 0.3669, 0.6132,    nan],\n",
       "         [0.1701, 0.4248, 0.2488,  ..., 0.4332,    nan,    nan]]],\n",
       "       device='mps:0')"
      ]
     },
     "execution_count": 33,
     "metadata": {},
     "output_type": "execute_result"
    }
   ],
   "source": [
    "X"
   ]
  },
  {
   "cell_type": "code",
   "execution_count": 32,
   "metadata": {},
   "outputs": [
    {
     "data": {
      "text/plain": [
       "tensor([0.6951, 0.6432, 0.5945])"
      ]
     },
     "execution_count": 32,
     "metadata": {},
     "output_type": "execute_result"
    }
   ],
   "source": [
    "sft = nn.Sigmoid()\n",
    "sft(torch.tensor([0.8243, 0.5893, 0.3827]))"
   ]
  },
  {
   "cell_type": "code",
   "execution_count": 4,
   "metadata": {},
   "outputs": [
    {
     "data": {
      "text/plain": [
       "['.DS_Store', 'death']"
      ]
     },
     "execution_count": 4,
     "metadata": {},
     "output_type": "execute_result"
    }
   ],
   "source": [
    "os.listdir('./configs/')"
   ]
  },
  {
   "cell_type": "code",
   "execution_count": 1,
   "metadata": {},
   "outputs": [
    {
     "name": "stderr",
     "output_type": "stream",
     "text": [
      "/opt/homebrew/Caskroom/miniforge/base/envs/torch-gpu/lib/python3.8/site-packages/tqdm/auto.py:21: TqdmWarning: IProgress not found. Please update jupyter and ipywidgets. See https://ipywidgets.readthedocs.io/en/stable/user_install.html\n",
      "  from .autonotebook import tqdm as notebook_tqdm\n",
      "/opt/homebrew/Caskroom/miniforge/base/envs/torch-gpu/lib/python3.8/site-packages/torch/nn/modules/transformer.py:218: UserWarning: enable_nested_tensor is True, but self.use_nested_tensor is False because  self.layers[0].self_attn.batch_first was not True\n",
      "  warnings.warn(f\"enable_nested_tensor is True, but self.use_nested_tensor is False because {why_not_sparsity_fast_path}\")\n"
     ]
    },
    {
     "name": "stdout",
     "output_type": "stream",
     "text": [
      "********************\n",
      "* Experiment ['1'] *\n",
      "********************\n",
      "Configurations:\n",
      "{'seed': 123, 'metadata_file_path': './data/combined_data/metadata_sample_for_testing.csv', 'data_folder_path': './data/individual-signals/', 'fillna': 0, 'batch_size': 32, 'n_epochs': 30, 'targets': ['AF'], 'input_dimension': 12, 'hidden_dimmension': 64, 'attention_heads': None, 'encoder_number_of_layers': 8, 'dropout': 0.4, 'clip': 1, 'positional_encodings': False, 'saving_path': './models/exp1'}\n",
      "\n",
      "Starting Experiment\n",
      "\n",
      "\n",
      "training using device: mps\n",
      "\n",
      "\n",
      "64 1\n",
      "The model has 694,530 trainable parameters\n",
      "TransformerEncoderDownstream(\n",
      "  (project_input): Linear(in_features=12, out_features=64, bias=True)\n",
      "  (encoder): Linear(in_features=12, out_features=64, bias=True)\n",
      "  (pos_encoder): PositionalEncoding(\n",
      "    (dropout): Dropout(p=0.4, inplace=False)\n",
      "  )\n",
      "  (transformer_encoder): TransformerEncoder(\n",
      "    (layers): ModuleList(\n",
      "      (0-7): 8 x TransformerEncoderLayer(\n",
      "        (self_attn): MultiheadAttention(\n",
      "          (out_proj): NonDynamicallyQuantizableLinear(in_features=64, out_features=64, bias=True)\n",
      "        )\n",
      "        (linear1): Linear(in_features=64, out_features=512, bias=True)\n",
      "        (dropout): Dropout(p=0.4, inplace=False)\n",
      "        (linear2): Linear(in_features=512, out_features=64, bias=True)\n",
      "        (norm1): LayerNorm((64,), eps=1e-05, elementwise_affine=True)\n",
      "        (norm2): LayerNorm((64,), eps=1e-05, elementwise_affine=True)\n",
      "        (dropout1): Dropout(p=0.4, inplace=False)\n",
      "        (dropout2): Dropout(p=0.4, inplace=False)\n",
      "      )\n",
      "    )\n",
      "  )\n",
      "  (output_layer): Linear(in_features=28800, out_features=1, bias=True)\n",
      "  (dropout1): Dropout(p=0.4, inplace=False)\n",
      "  (sigmoid): Sigmoid()\n",
      ")\n"
     ]
    },
    {
     "name": "stderr",
     "output_type": "stream",
     "text": [
      "Within epoch loss (training) 0.67394: 100%|██████████| 416/416 [03:54<00:00,  1.77it/s]\n",
      "Within epoch loss (validation) 0.58178: 100%|██████████| 81/81 [00:14<00:00,  5.40it/s]\n"
     ]
    },
    {
     "name": "stdout",
     "output_type": "stream",
     "text": [
      "---------------------------------------------\n",
      "Epoch: 01 | Time: 4m 9s\n",
      "\tTrain Loss: 0.674\n",
      "\t Val. Loss: 0.582\n",
      "\t Best Val. Loss: 0.582\n",
      "---------------------------------------------\n"
     ]
    },
    {
     "data": {
      "image/png": "[encoded data removed]",
      "text/plain": [
       "<Figure size 640x480 with 1 Axes>"
      ]
     },
     "metadata": {},
     "output_type": "display_data"
    },
    {
     "name": "stderr",
     "output_type": "stream",
     "text": [
      "Within epoch loss (training) 0.57103: 100%|██████████| 416/416 [03:56<00:00,  1.76it/s]\n",
      "Within epoch loss (validation) 0.57938: 100%|██████████| 81/81 [00:15<00:00,  5.28it/s]\n"
     ]
    },
    {
     "name": "stdout",
     "output_type": "stream",
     "text": [
      "---------------------------------------------\n",
      "Epoch: 02 | Time: 4m 11s\n",
      "\tTrain Loss: 0.571\n",
      "\t Val. Loss: 0.579\n",
      "\t Best Val. Loss: 0.579\n",
      "---------------------------------------------\n"
     ]
    },
    {
     "data": {
      "image/png": "[encoded data removed]",
      "text/plain": [
       "<Figure size 640x480 with 1 Axes>"
      ]
     },
     "metadata": {},
     "output_type": "display_data"
    },
    {
     "name": "stderr",
     "output_type": "stream",
     "text": [
      "Within epoch loss (training) 0.57588: 100%|██████████| 416/416 [04:02<00:00,  1.72it/s]\n",
      "Within epoch loss (validation) 0.57859: 100%|██████████| 81/81 [00:15<00:00,  5.12it/s]\n"
     ]
    },
    {
     "name": "stdout",
     "output_type": "stream",
     "text": [
      "---------------------------------------------\n",
      "Epoch: 03 | Time: 4m 18s\n",
      "\tTrain Loss: 0.576\n",
      "\t Val. Loss: 0.579\n",
      "\t Best Val. Loss: 0.579\n",
      "---------------------------------------------\n"
     ]
    },
    {
     "data": {
      "image/png": "[encoded data removed]",
      "text/plain": [
       "<Figure size 640x480 with 1 Axes>"
      ]
     },
     "metadata": {},
     "output_type": "display_data"
    },
    {
     "name": "stderr",
     "output_type": "stream",
     "text": [
      "Within epoch loss (training) 0.56546:   4%|▎         | 15/416 [00:08<03:54,  1.71it/s]\n"
     ]
    },
    {
     "ename": "KeyboardInterrupt",
     "evalue": "",
     "output_type": "error",
     "traceback": [
      "\u001b[0;31m---------------------------------------------------------------------------\u001b[0m",
      "\u001b[0;31mKeyboardInterrupt\u001b[0m                         Traceback (most recent call last)",
      "Cell \u001b[0;32mIn[1], line 26\u001b[0m\n\u001b[1;32m     24\u001b[0m \u001b[39m# run\u001b[39;00m\n\u001b[1;32m     25\u001b[0m \u001b[39mprint\u001b[39m(\u001b[39m'\u001b[39m\u001b[39mStarting Experiment\u001b[39m\u001b[39m'\u001b[39m)\n\u001b[0;32m---> 26\u001b[0m trainer(\u001b[39m*\u001b[39;49m\u001b[39m*\u001b[39;49mconfig)\n",
      "File \u001b[0;32m~/Documents/School/thesis/downstream_classification/executors/train_on_local_machine_mps.py:110\u001b[0m, in \u001b[0;36mtrainer\u001b[0;34m(seed, metadata_file_path, data_folder_path, fillna, targets, input_dimension, hidden_dimmension, attention_heads, encoder_number_of_layers, positional_encodings, dropout, clip, batch_size, n_epochs, saving_path)\u001b[0m\n\u001b[1;32m    106\u001b[0m start_time \u001b[39m=\u001b[39m time\u001b[39m.\u001b[39mtime()\n\u001b[1;32m    108\u001b[0m \u001b[39m# train\u001b[39;00m\n\u001b[1;32m    109\u001b[0m \u001b[39m# number of leads (dictates training scheme):\u001b[39;00m\n\u001b[0;32m--> 110\u001b[0m train_loss \u001b[39m=\u001b[39m train_epoch(model, \n\u001b[1;32m    111\u001b[0m                    train_generator, \n\u001b[1;32m    112\u001b[0m                    optimizer, \n\u001b[1;32m    113\u001b[0m                    criterion, \n\u001b[1;32m    114\u001b[0m                    clip, \n\u001b[1;32m    115\u001b[0m                    device \n\u001b[1;32m    116\u001b[0m                    )\n\u001b[1;32m    119\u001b[0m \u001b[39m# evaluate\u001b[39;00m\n\u001b[1;32m    120\u001b[0m valid_loss \u001b[39m=\u001b[39m evaluate_epoch(model, \n\u001b[1;32m    121\u001b[0m                       validation_generator, \n\u001b[1;32m    122\u001b[0m                       criterion, \n\u001b[1;32m    123\u001b[0m                       device,\n\u001b[1;32m    124\u001b[0m                       output_dimension\n\u001b[1;32m    125\u001b[0m                       )\n",
      "File \u001b[0;32m~/Documents/School/thesis/downstream_classification/executors/train_on_local_machine_mps.py:180\u001b[0m, in \u001b[0;36mtrain_epoch\u001b[0;34m(model, iterator, optimizer, criterion, clip, device)\u001b[0m\n\u001b[1;32m    176\u001b[0m t \u001b[39m=\u001b[39m trange(T, desc\u001b[39m=\u001b[39m\u001b[39m'\u001b[39m\u001b[39mWithin epoch loss (training)\u001b[39m\u001b[39m'\u001b[39m, leave\u001b[39m=\u001b[39m\u001b[39mTrue\u001b[39;00m)\n\u001b[1;32m    178\u001b[0m \u001b[39mfor\u001b[39;00m i \u001b[39min\u001b[39;00m t:\n\u001b[1;32m    179\u001b[0m     \u001b[39m# get data\u001b[39;00m\n\u001b[0;32m--> 180\u001b[0m     X, y \u001b[39m=\u001b[39m \u001b[39mnext\u001b[39;49m(it)\n\u001b[1;32m    181\u001b[0m     y\u001b[39m=\u001b[39mnp\u001b[39m.\u001b[39msqueeze(y,\u001b[39m-\u001b[39m\u001b[39m1\u001b[39m)\n\u001b[1;32m    183\u001b[0m     \u001b[39m# fix shapes ( -> [length, batch_size, channels])\u001b[39;00m\n",
      "File \u001b[0;32m~/Documents/School/thesis/downstream_classification/dataloader/DataLoader.py:81\u001b[0m, in \u001b[0;36mDataGenerator.__getitem__\u001b[0;34m(self, index)\u001b[0m\n\u001b[1;32m     78\u001b[0m list_IDs_temp \u001b[39m=\u001b[39m [\u001b[39mself\u001b[39m\u001b[39m.\u001b[39mlist_IDs[k] \u001b[39mfor\u001b[39;00m k \u001b[39min\u001b[39;00m indices]\n\u001b[1;32m     80\u001b[0m \u001b[39m# Generate data\u001b[39;00m\n\u001b[0;32m---> 81\u001b[0m X,y \u001b[39m=\u001b[39m \u001b[39mself\u001b[39;49m\u001b[39m.\u001b[39;49m__data_generation(list_IDs_temp)\n\u001b[1;32m     83\u001b[0m \u001b[39mreturn\u001b[39;00m X,y\n",
      "File \u001b[0;32m~/Documents/School/thesis/downstream_classification/dataloader/DataLoader.py:59\u001b[0m, in \u001b[0;36mDataGenerator.__data_generation\u001b[0;34m(self, list_IDs_temp)\u001b[0m\n\u001b[1;32m     50\u001b[0m \u001b[39m\u001b[39m\u001b[39m\"\"\"\u001b[39;00m\n\u001b[1;32m     51\u001b[0m \u001b[39mGet a list of persons IDs and return a batch of signals.\u001b[39;00m\n\u001b[1;32m     52\u001b[0m \u001b[39m\"\"\"\u001b[39;00m\n\u001b[1;32m     54\u001b[0m \u001b[39m# Initialization\u001b[39;00m\n\u001b[1;32m     55\u001b[0m \u001b[39m# for l in list_IDs_temp:\u001b[39;00m\n\u001b[1;32m     56\u001b[0m \u001b[39m#     print(l)\u001b[39;00m\n\u001b[1;32m     57\u001b[0m \u001b[39m#     X,y = self._get_sample(signal_index)\u001b[39;00m\n\u001b[1;32m     58\u001b[0m \u001b[39m#     print(X.shape, y.shape)\u001b[39;00m\n\u001b[0;32m---> 59\u001b[0m samples \u001b[39m=\u001b[39m [\u001b[39mself\u001b[39m\u001b[39m.\u001b[39m_get_sample(signal_index) \u001b[39mfor\u001b[39;00m signal_index \u001b[39min\u001b[39;00m list_IDs_temp]\n\u001b[1;32m     60\u001b[0m X \u001b[39m=\u001b[39m np\u001b[39m.\u001b[39marray([sample[\u001b[39m0\u001b[39m] \u001b[39mfor\u001b[39;00m sample \u001b[39min\u001b[39;00m samples])\n\u001b[1;32m     61\u001b[0m y \u001b[39m=\u001b[39m np\u001b[39m.\u001b[39marray([sample[\u001b[39m1\u001b[39m] \u001b[39mfor\u001b[39;00m sample \u001b[39min\u001b[39;00m samples])\n",
      "File \u001b[0;32m~/Documents/School/thesis/downstream_classification/dataloader/DataLoader.py:59\u001b[0m, in \u001b[0;36m<listcomp>\u001b[0;34m(.0)\u001b[0m\n\u001b[1;32m     50\u001b[0m \u001b[39m\u001b[39m\u001b[39m\"\"\"\u001b[39;00m\n\u001b[1;32m     51\u001b[0m \u001b[39mGet a list of persons IDs and return a batch of signals.\u001b[39;00m\n\u001b[1;32m     52\u001b[0m \u001b[39m\"\"\"\u001b[39;00m\n\u001b[1;32m     54\u001b[0m \u001b[39m# Initialization\u001b[39;00m\n\u001b[1;32m     55\u001b[0m \u001b[39m# for l in list_IDs_temp:\u001b[39;00m\n\u001b[1;32m     56\u001b[0m \u001b[39m#     print(l)\u001b[39;00m\n\u001b[1;32m     57\u001b[0m \u001b[39m#     X,y = self._get_sample(signal_index)\u001b[39;00m\n\u001b[1;32m     58\u001b[0m \u001b[39m#     print(X.shape, y.shape)\u001b[39;00m\n\u001b[0;32m---> 59\u001b[0m samples \u001b[39m=\u001b[39m [\u001b[39mself\u001b[39;49m\u001b[39m.\u001b[39;49m_get_sample(signal_index) \u001b[39mfor\u001b[39;00m signal_index \u001b[39min\u001b[39;00m list_IDs_temp]\n\u001b[1;32m     60\u001b[0m X \u001b[39m=\u001b[39m np\u001b[39m.\u001b[39marray([sample[\u001b[39m0\u001b[39m] \u001b[39mfor\u001b[39;00m sample \u001b[39min\u001b[39;00m samples])\n\u001b[1;32m     61\u001b[0m y \u001b[39m=\u001b[39m np\u001b[39m.\u001b[39marray([sample[\u001b[39m1\u001b[39m] \u001b[39mfor\u001b[39;00m sample \u001b[39min\u001b[39;00m samples])\n",
      "File \u001b[0;32m~/Documents/School/thesis/downstream_classification/dataloader/DataLoader.py:37\u001b[0m, in \u001b[0;36mDataGenerator._get_sample\u001b[0;34m(self, signal_index)\u001b[0m\n\u001b[1;32m     29\u001b[0m \u001b[39m\u001b[39m\u001b[39m\"\"\"\u001b[39;00m\n\u001b[1;32m     30\u001b[0m \u001b[39mload the relevant <lead> reading .npy file from <data_folder_path>. \u001b[39;00m\n\u001b[1;32m     31\u001b[0m \u001b[39mInputs:\u001b[39;00m\n\u001b[1;32m     32\u001b[0m \u001b[39m- signal_index: int\u001b[39;00m\n\u001b[1;32m     33\u001b[0m \u001b[39m- data_folder_path:str. The path to the folder when the desired file can be loaded from\u001b[39;00m\n\u001b[1;32m     34\u001b[0m \u001b[39m\"\"\"\u001b[39;00m\n\u001b[1;32m     36\u001b[0m file_name \u001b[39m=\u001b[39m \u001b[39mf\u001b[39m\u001b[39m'\u001b[39m\u001b[39m{\u001b[39;00msignal_index\u001b[39m}\u001b[39;00m\u001b[39m.npy\u001b[39m\u001b[39m'\u001b[39m\n\u001b[0;32m---> 37\u001b[0m X \u001b[39m=\u001b[39m np\u001b[39m.\u001b[39;49mload(\u001b[39mself\u001b[39;49m\u001b[39m.\u001b[39;49mdata_path\u001b[39m+\u001b[39;49mfile_name,allow_pickle\u001b[39m=\u001b[39;49m\u001b[39mTrue\u001b[39;49;00m)\n\u001b[1;32m     38\u001b[0m y \u001b[39m=\u001b[39m \u001b[39mself\u001b[39m\u001b[39m.\u001b[39mmetadata[\u001b[39mself\u001b[39m\u001b[39m.\u001b[39mmetadata[\u001b[39m'\u001b[39m\u001b[39mreading\u001b[39m\u001b[39m'\u001b[39m] \u001b[39m==\u001b[39m signal_index][\u001b[39mself\u001b[39m\u001b[39m.\u001b[39mtargets]\u001b[39m.\u001b[39mvalues\n\u001b[1;32m     40\u001b[0m \u001b[39mreturn\u001b[39;00m X,y\n",
      "File \u001b[0;32m/opt/homebrew/Caskroom/miniforge/base/envs/torch-gpu/lib/python3.8/site-packages/numpy/lib/npyio.py:412\u001b[0m, in \u001b[0;36mload\u001b[0;34m(file, mmap_mode, allow_pickle, fix_imports, encoding, max_header_size)\u001b[0m\n\u001b[1;32m    410\u001b[0m _ZIP_SUFFIX \u001b[39m=\u001b[39m \u001b[39mb\u001b[39m\u001b[39m'\u001b[39m\u001b[39mPK\u001b[39m\u001b[39m\\x05\u001b[39;00m\u001b[39m\\x06\u001b[39;00m\u001b[39m'\u001b[39m \u001b[39m# empty zip files start with this\u001b[39;00m\n\u001b[1;32m    411\u001b[0m N \u001b[39m=\u001b[39m \u001b[39mlen\u001b[39m(\u001b[39mformat\u001b[39m\u001b[39m.\u001b[39mMAGIC_PREFIX)\n\u001b[0;32m--> 412\u001b[0m magic \u001b[39m=\u001b[39m fid\u001b[39m.\u001b[39;49mread(N)\n\u001b[1;32m    413\u001b[0m \u001b[39m# If the file size is less than N, we need to make sure not\u001b[39;00m\n\u001b[1;32m    414\u001b[0m \u001b[39m# to seek past the beginning of the file\u001b[39;00m\n\u001b[1;32m    415\u001b[0m fid\u001b[39m.\u001b[39mseek(\u001b[39m-\u001b[39m\u001b[39mmin\u001b[39m(N, \u001b[39mlen\u001b[39m(magic)), \u001b[39m1\u001b[39m)  \u001b[39m# back-up\u001b[39;00m\n",
      "\u001b[0;31mKeyboardInterrupt\u001b[0m: "
     ]
    }
   ],
   "source": [
    "import os\n",
    "import re\n",
    "import yaml\n",
    "\n",
    "# make sure we're in the correct directory\n",
    "os.chdir('/Users/davidharar/Documents/School/thesis/downstream_classification')\n",
    "\n",
    "# import trainer\n",
    "from executors.train_on_local_machine_mps import trainer\n",
    "\n",
    "# import yaml file. Later, loop over configs\n",
    "config_file_name = 'death/exp1.yml'\n",
    "\n",
    "with open('./configs/'+config_file_name,'r') as f:\n",
    "    config = yaml.safe_load(f)['config']\n",
    "\n",
    "experiment_ind = re.findall(r'\\d+', config_file_name)\n",
    "print(len(f'* Experiment {experiment_ind} *')*'*')\n",
    "print(f'* Experiment {experiment_ind} *')\n",
    "print(len(f'* Experiment {experiment_ind} *')*'*')\n",
    "print('Configurations:')\n",
    "print(config)\n",
    "print('')\n",
    "# run\n",
    "print('Starting Experiment')\n",
    "trainer(**config)\n"
   ]
  },
  {
   "cell_type": "code",
   "execution_count": 19,
   "metadata": {},
   "outputs": [],
   "source": [
    "import pandas as pd\n",
    "metadata = pd.read_csv('./data/combined_data/metadata_only_existant_readings.csv',index_col=0)\n",
    "metadata.sample(frac=0.1).reset_index(drop=True).to_csv('./data/combined_data/metadata_sample_for_testing.csv')"
   ]
  },
  {
   "cell_type": "code",
   "execution_count": 20,
   "metadata": {},
   "outputs": [
    {
     "data": {
      "text/plain": [
       "(37643, 17)"
      ]
     },
     "execution_count": 20,
     "metadata": {},
     "output_type": "execute_result"
    }
   ],
   "source": [
    "metadata.sample(frac=0.1).shape"
   ]
  },
  {
   "attachments": {},
   "cell_type": "markdown",
   "metadata": {},
   "source": [
    "# Check if our model works"
   ]
  },
  {
   "cell_type": "code",
   "execution_count": 5,
   "metadata": {},
   "outputs": [
    {
     "data": {
      "text/plain": [
       "torch.Size([3, 24])"
      ]
     },
     "execution_count": 5,
     "metadata": {},
     "output_type": "execute_result"
    }
   ],
   "source": [
    "import torch\n",
    "# Create a tensor\n",
    "tensor = torch.randn(3, 12,2)\n",
    "# View the tensor\n",
    "tensor.view(3, -1).shape"
   ]
  },
  {
   "cell_type": "code",
   "execution_count": 7,
   "metadata": {},
   "outputs": [
    {
     "data": {
      "text/plain": [
       "(32, 1)"
      ]
     },
     "execution_count": 7,
     "metadata": {},
     "output_type": "execute_result"
    }
   ],
   "source": [
    "import numpy as np\n",
    "y = np.zeros((32,1,1))\n",
    ".shape"
   ]
  },
  {
   "cell_type": "code",
   "execution_count": 14,
   "metadata": {},
   "outputs": [
    {
     "data": {
      "text/plain": [
       "tensor([[[-0.2807,  1.9438],\n",
       "         [-0.6101,  0.4325],\n",
       "         [ 2.2085, -0.5685],\n",
       "         [-0.9821, -1.5713],\n",
       "         [ 1.2341, -0.2183],\n",
       "         [ 1.1544, -0.9379],\n",
       "         [ 0.3843,  0.6942],\n",
       "         [ 0.2224, -0.3526],\n",
       "         [ 1.9856, -0.0361],\n",
       "         [-0.7600, -0.8015],\n",
       "         [-2.3494, -0.9026],\n",
       "         [-1.1356, -2.1140]],\n",
       "\n",
       "        [[ 1.4608, -0.4323],\n",
       "         [ 1.4530,  0.2246],\n",
       "         [-0.4961, -0.5755],\n",
       "         [-1.1798, -1.9698],\n",
       "         [-0.5196, -0.6470],\n",
       "         [ 0.2018,  0.6569],\n",
       "         [-0.3891, -0.5130],\n",
       "         [ 0.9166,  0.2833],\n",
       "         [-0.2820,  0.0979],\n",
       "         [ 1.2233,  0.3268],\n",
       "         [-0.0995,  1.6912],\n",
       "         [-0.0221,  0.2057]],\n",
       "\n",
       "        [[ 0.0969,  0.7337],\n",
       "         [ 1.9527,  0.3254],\n",
       "         [-0.1630,  0.1649],\n",
       "         [-1.5073,  0.9341],\n",
       "         [ 0.8732,  0.8087],\n",
       "         [-0.6168,  1.2667],\n",
       "         [-0.1089,  0.7629],\n",
       "         [ 0.0067, -1.4230],\n",
       "         [ 0.4968,  1.4763],\n",
       "         [ 1.3571, -0.2813],\n",
       "         [-1.7091, -0.5263],\n",
       "         [-0.6135,  1.3799]]])"
      ]
     },
     "execution_count": 14,
     "metadata": {},
     "output_type": "execute_result"
    }
   ],
   "source": [
    "tensor = tensor.to('mps')\n",
    "tensor = tensor.to('cpu')\n",
    "tensor"
   ]
  },
  {
   "cell_type": "code",
   "execution_count": 15,
   "metadata": {},
   "outputs": [
    {
     "ename": "NameError",
     "evalue": "name 'metadata' is not defined",
     "output_type": "error",
     "traceback": [
      "\u001b[0;31m---------------------------------------------------------------------------\u001b[0m",
      "\u001b[0;31mNameError\u001b[0m                                 Traceback (most recent call last)",
      "Cell \u001b[0;32mIn[15], line 1\u001b[0m\n\u001b[0;32m----> 1\u001b[0m metadata\n",
      "\u001b[0;31mNameError\u001b[0m: name 'metadata' is not defined"
     ]
    }
   ],
   "source": [
    "metadata"
   ]
  },
  {
   "cell_type": "code",
   "execution_count": 18,
   "metadata": {},
   "outputs": [
    {
     "data": {
      "text/html": [
       "<div>\n",
       "<style scoped>\n",
       "    .dataframe tbody tr th:only-of-type {\n",
       "        vertical-align: middle;\n",
       "    }\n",
       "\n",
       "    .dataframe tbody tr th {\n",
       "        vertical-align: top;\n",
       "    }\n",
       "\n",
       "    .dataframe thead th {\n",
       "        text-align: right;\n",
       "    }\n",
       "</style>\n",
       "<table border=\"1\" class=\"dataframe\">\n",
       "  <thead>\n",
       "    <tr style=\"text-align: right;\">\n",
       "      <th></th>\n",
       "      <th>reading</th>\n",
       "      <th>one_year_until_death</th>\n",
       "      <th>CVA</th>\n",
       "      <th>first_AF_in_home_ECG</th>\n",
       "      <th>first_AF_in_Dispatch</th>\n",
       "      <th>AF</th>\n",
       "      <th>IHD</th>\n",
       "      <th>sp_MI_all</th>\n",
       "      <th>sp_CABG</th>\n",
       "      <th>CHF</th>\n",
       "      <th>sp_CPR</th>\n",
       "      <th>cpr_shl</th>\n",
       "      <th>DM2</th>\n",
       "      <th>AF2</th>\n",
       "      <th>DM</th>\n",
       "    </tr>\n",
       "  </thead>\n",
       "  <tbody>\n",
       "    <tr>\n",
       "      <th>count</th>\n",
       "      <td>376428.000000</td>\n",
       "      <td>376428.000000</td>\n",
       "      <td>376428.000000</td>\n",
       "      <td>376428.000000</td>\n",
       "      <td>376428.000000</td>\n",
       "      <td>376428.00000</td>\n",
       "      <td>376428.000000</td>\n",
       "      <td>376428.000000</td>\n",
       "      <td>376428.000000</td>\n",
       "      <td>376428.000000</td>\n",
       "      <td>376428.000000</td>\n",
       "      <td>376428.000000</td>\n",
       "      <td>376428.000000</td>\n",
       "      <td>376428.00000</td>\n",
       "      <td>376428.000000</td>\n",
       "    </tr>\n",
       "    <tr>\n",
       "      <th>mean</th>\n",
       "      <td>310002.560338</td>\n",
       "      <td>0.021151</td>\n",
       "      <td>0.068797</td>\n",
       "      <td>0.304605</td>\n",
       "      <td>0.280747</td>\n",
       "      <td>0.24750</td>\n",
       "      <td>0.484520</td>\n",
       "      <td>0.319745</td>\n",
       "      <td>0.157432</td>\n",
       "      <td>0.091537</td>\n",
       "      <td>0.022477</td>\n",
       "      <td>0.003727</td>\n",
       "      <td>0.152661</td>\n",
       "      <td>0.24750</td>\n",
       "      <td>0.152661</td>\n",
       "    </tr>\n",
       "    <tr>\n",
       "      <th>std</th>\n",
       "      <td>152335.458628</td>\n",
       "      <td>0.143889</td>\n",
       "      <td>0.253108</td>\n",
       "      <td>0.460241</td>\n",
       "      <td>0.449365</td>\n",
       "      <td>0.43156</td>\n",
       "      <td>0.499761</td>\n",
       "      <td>0.466378</td>\n",
       "      <td>0.364209</td>\n",
       "      <td>0.288371</td>\n",
       "      <td>0.148229</td>\n",
       "      <td>0.060937</td>\n",
       "      <td>0.359661</td>\n",
       "      <td>0.43156</td>\n",
       "      <td>0.359661</td>\n",
       "    </tr>\n",
       "    <tr>\n",
       "      <th>min</th>\n",
       "      <td>2.000000</td>\n",
       "      <td>0.000000</td>\n",
       "      <td>0.000000</td>\n",
       "      <td>0.000000</td>\n",
       "      <td>0.000000</td>\n",
       "      <td>0.00000</td>\n",
       "      <td>0.000000</td>\n",
       "      <td>0.000000</td>\n",
       "      <td>0.000000</td>\n",
       "      <td>0.000000</td>\n",
       "      <td>0.000000</td>\n",
       "      <td>0.000000</td>\n",
       "      <td>0.000000</td>\n",
       "      <td>0.00000</td>\n",
       "      <td>0.000000</td>\n",
       "    </tr>\n",
       "    <tr>\n",
       "      <th>25%</th>\n",
       "      <td>211376.750000</td>\n",
       "      <td>0.000000</td>\n",
       "      <td>0.000000</td>\n",
       "      <td>0.000000</td>\n",
       "      <td>0.000000</td>\n",
       "      <td>0.00000</td>\n",
       "      <td>0.000000</td>\n",
       "      <td>0.000000</td>\n",
       "      <td>0.000000</td>\n",
       "      <td>0.000000</td>\n",
       "      <td>0.000000</td>\n",
       "      <td>0.000000</td>\n",
       "      <td>0.000000</td>\n",
       "      <td>0.00000</td>\n",
       "      <td>0.000000</td>\n",
       "    </tr>\n",
       "    <tr>\n",
       "      <th>50%</th>\n",
       "      <td>323959.500000</td>\n",
       "      <td>0.000000</td>\n",
       "      <td>0.000000</td>\n",
       "      <td>0.000000</td>\n",
       "      <td>0.000000</td>\n",
       "      <td>0.00000</td>\n",
       "      <td>0.000000</td>\n",
       "      <td>0.000000</td>\n",
       "      <td>0.000000</td>\n",
       "      <td>0.000000</td>\n",
       "      <td>0.000000</td>\n",
       "      <td>0.000000</td>\n",
       "      <td>0.000000</td>\n",
       "      <td>0.00000</td>\n",
       "      <td>0.000000</td>\n",
       "    </tr>\n",
       "    <tr>\n",
       "      <th>75%</th>\n",
       "      <td>437304.250000</td>\n",
       "      <td>0.000000</td>\n",
       "      <td>0.000000</td>\n",
       "      <td>1.000000</td>\n",
       "      <td>1.000000</td>\n",
       "      <td>0.00000</td>\n",
       "      <td>1.000000</td>\n",
       "      <td>1.000000</td>\n",
       "      <td>0.000000</td>\n",
       "      <td>0.000000</td>\n",
       "      <td>0.000000</td>\n",
       "      <td>0.000000</td>\n",
       "      <td>0.000000</td>\n",
       "      <td>0.00000</td>\n",
       "      <td>0.000000</td>\n",
       "    </tr>\n",
       "    <tr>\n",
       "      <th>max</th>\n",
       "      <td>561330.000000</td>\n",
       "      <td>1.000000</td>\n",
       "      <td>1.000000</td>\n",
       "      <td>1.000000</td>\n",
       "      <td>1.000000</td>\n",
       "      <td>1.00000</td>\n",
       "      <td>1.000000</td>\n",
       "      <td>1.000000</td>\n",
       "      <td>1.000000</td>\n",
       "      <td>1.000000</td>\n",
       "      <td>1.000000</td>\n",
       "      <td>1.000000</td>\n",
       "      <td>1.000000</td>\n",
       "      <td>1.00000</td>\n",
       "      <td>1.000000</td>\n",
       "    </tr>\n",
       "  </tbody>\n",
       "</table>\n",
       "</div>"
      ],
      "text/plain": [
       "             reading  one_year_until_death            CVA  \\\n",
       "count  376428.000000         376428.000000  376428.000000   \n",
       "mean   310002.560338              0.021151       0.068797   \n",
       "std    152335.458628              0.143889       0.253108   \n",
       "min         2.000000              0.000000       0.000000   \n",
       "25%    211376.750000              0.000000       0.000000   \n",
       "50%    323959.500000              0.000000       0.000000   \n",
       "75%    437304.250000              0.000000       0.000000   \n",
       "max    561330.000000              1.000000       1.000000   \n",
       "\n",
       "       first_AF_in_home_ECG  first_AF_in_Dispatch            AF  \\\n",
       "count         376428.000000         376428.000000  376428.00000   \n",
       "mean               0.304605              0.280747       0.24750   \n",
       "std                0.460241              0.449365       0.43156   \n",
       "min                0.000000              0.000000       0.00000   \n",
       "25%                0.000000              0.000000       0.00000   \n",
       "50%                0.000000              0.000000       0.00000   \n",
       "75%                1.000000              1.000000       0.00000   \n",
       "max                1.000000              1.000000       1.00000   \n",
       "\n",
       "                 IHD      sp_MI_all        sp_CABG            CHF  \\\n",
       "count  376428.000000  376428.000000  376428.000000  376428.000000   \n",
       "mean        0.484520       0.319745       0.157432       0.091537   \n",
       "std         0.499761       0.466378       0.364209       0.288371   \n",
       "min         0.000000       0.000000       0.000000       0.000000   \n",
       "25%         0.000000       0.000000       0.000000       0.000000   \n",
       "50%         0.000000       0.000000       0.000000       0.000000   \n",
       "75%         1.000000       1.000000       0.000000       0.000000   \n",
       "max         1.000000       1.000000       1.000000       1.000000   \n",
       "\n",
       "              sp_CPR        cpr_shl            DM2           AF2  \\\n",
       "count  376428.000000  376428.000000  376428.000000  376428.00000   \n",
       "mean        0.022477       0.003727       0.152661       0.24750   \n",
       "std         0.148229       0.060937       0.359661       0.43156   \n",
       "min         0.000000       0.000000       0.000000       0.00000   \n",
       "25%         0.000000       0.000000       0.000000       0.00000   \n",
       "50%         0.000000       0.000000       0.000000       0.00000   \n",
       "75%         0.000000       0.000000       0.000000       0.00000   \n",
       "max         1.000000       1.000000       1.000000       1.00000   \n",
       "\n",
       "                  DM  \n",
       "count  376428.000000  \n",
       "mean        0.152661  \n",
       "std         0.359661  \n",
       "min         0.000000  \n",
       "25%         0.000000  \n",
       "50%         0.000000  \n",
       "75%         0.000000  \n",
       "max         1.000000  "
      ]
     },
     "execution_count": 18,
     "metadata": {},
     "output_type": "execute_result"
    }
   ],
   "source": [
    "import pandas as pd\n",
    "metadata = pd.read_csv('./data/combined_data/metadata_only_existant_readings.csv',index_col=0)\n",
    "metadata.describe()"
   ]
  },
  {
   "cell_type": "code",
   "execution_count": 17,
   "metadata": {},
   "outputs": [
    {
     "data": {
      "text/html": [
       "<div>\n",
       "<style scoped>\n",
       "    .dataframe tbody tr th:only-of-type {\n",
       "        vertical-align: middle;\n",
       "    }\n",
       "\n",
       "    .dataframe tbody tr th {\n",
       "        vertical-align: top;\n",
       "    }\n",
       "\n",
       "    .dataframe thead th {\n",
       "        text-align: right;\n",
       "    }\n",
       "</style>\n",
       "<table border=\"1\" class=\"dataframe\">\n",
       "  <thead>\n",
       "    <tr style=\"text-align: right;\">\n",
       "      <th></th>\n",
       "      <th>sample</th>\n",
       "      <th>reading</th>\n",
       "      <th>dates</th>\n",
       "      <th>one_year_until_death</th>\n",
       "      <th>CVA</th>\n",
       "      <th>first_AF_in_home_ECG</th>\n",
       "      <th>first_AF_in_Dispatch</th>\n",
       "      <th>AF</th>\n",
       "      <th>IHD</th>\n",
       "      <th>sp_MI_all</th>\n",
       "      <th>sp_CABG</th>\n",
       "      <th>CHF</th>\n",
       "      <th>sp_CPR</th>\n",
       "      <th>cpr_shl</th>\n",
       "      <th>DM2</th>\n",
       "      <th>AF2</th>\n",
       "      <th>DM</th>\n",
       "    </tr>\n",
       "  </thead>\n",
       "  <tbody>\n",
       "    <tr>\n",
       "      <th>0</th>\n",
       "      <td>train</td>\n",
       "      <td>427805</td>\n",
       "      <td>20/01/2008</td>\n",
       "      <td>0</td>\n",
       "      <td>0.0</td>\n",
       "      <td>1.0</td>\n",
       "      <td>1.0</td>\n",
       "      <td>1.0</td>\n",
       "      <td>0.0</td>\n",
       "      <td>0.0</td>\n",
       "      <td>0.0</td>\n",
       "      <td>0.0</td>\n",
       "      <td>0.0</td>\n",
       "      <td>0.0</td>\n",
       "      <td>0.0</td>\n",
       "      <td>1.0</td>\n",
       "      <td>0.0</td>\n",
       "    </tr>\n",
       "    <tr>\n",
       "      <th>1</th>\n",
       "      <td>train</td>\n",
       "      <td>356921</td>\n",
       "      <td>23/02/2010</td>\n",
       "      <td>0</td>\n",
       "      <td>0.0</td>\n",
       "      <td>0.0</td>\n",
       "      <td>0.0</td>\n",
       "      <td>0.0</td>\n",
       "      <td>1.0</td>\n",
       "      <td>0.0</td>\n",
       "      <td>1.0</td>\n",
       "      <td>0.0</td>\n",
       "      <td>0.0</td>\n",
       "      <td>0.0</td>\n",
       "      <td>1.0</td>\n",
       "      <td>0.0</td>\n",
       "      <td>1.0</td>\n",
       "    </tr>\n",
       "    <tr>\n",
       "      <th>2</th>\n",
       "      <td>train</td>\n",
       "      <td>428248</td>\n",
       "      <td>19/12/2015</td>\n",
       "      <td>0</td>\n",
       "      <td>0.0</td>\n",
       "      <td>0.0</td>\n",
       "      <td>0.0</td>\n",
       "      <td>0.0</td>\n",
       "      <td>1.0</td>\n",
       "      <td>0.0</td>\n",
       "      <td>0.0</td>\n",
       "      <td>0.0</td>\n",
       "      <td>0.0</td>\n",
       "      <td>0.0</td>\n",
       "      <td>0.0</td>\n",
       "      <td>0.0</td>\n",
       "      <td>0.0</td>\n",
       "    </tr>\n",
       "    <tr>\n",
       "      <th>3</th>\n",
       "      <td>train</td>\n",
       "      <td>440621</td>\n",
       "      <td>18/08/2017</td>\n",
       "      <td>0</td>\n",
       "      <td>0.0</td>\n",
       "      <td>1.0</td>\n",
       "      <td>1.0</td>\n",
       "      <td>1.0</td>\n",
       "      <td>0.0</td>\n",
       "      <td>0.0</td>\n",
       "      <td>0.0</td>\n",
       "      <td>0.0</td>\n",
       "      <td>0.0</td>\n",
       "      <td>0.0</td>\n",
       "      <td>0.0</td>\n",
       "      <td>1.0</td>\n",
       "      <td>0.0</td>\n",
       "    </tr>\n",
       "    <tr>\n",
       "      <th>4</th>\n",
       "      <td>train</td>\n",
       "      <td>32229</td>\n",
       "      <td>10/07/2019</td>\n",
       "      <td>0</td>\n",
       "      <td>0.0</td>\n",
       "      <td>1.0</td>\n",
       "      <td>1.0</td>\n",
       "      <td>1.0</td>\n",
       "      <td>1.0</td>\n",
       "      <td>0.0</td>\n",
       "      <td>0.0</td>\n",
       "      <td>0.0</td>\n",
       "      <td>0.0</td>\n",
       "      <td>0.0</td>\n",
       "      <td>1.0</td>\n",
       "      <td>1.0</td>\n",
       "      <td>1.0</td>\n",
       "    </tr>\n",
       "    <tr>\n",
       "      <th>...</th>\n",
       "      <td>...</td>\n",
       "      <td>...</td>\n",
       "      <td>...</td>\n",
       "      <td>...</td>\n",
       "      <td>...</td>\n",
       "      <td>...</td>\n",
       "      <td>...</td>\n",
       "      <td>...</td>\n",
       "      <td>...</td>\n",
       "      <td>...</td>\n",
       "      <td>...</td>\n",
       "      <td>...</td>\n",
       "      <td>...</td>\n",
       "      <td>...</td>\n",
       "      <td>...</td>\n",
       "      <td>...</td>\n",
       "      <td>...</td>\n",
       "    </tr>\n",
       "    <tr>\n",
       "      <th>376423</th>\n",
       "      <td>test</td>\n",
       "      <td>387849</td>\n",
       "      <td>01/04/2001</td>\n",
       "      <td>0</td>\n",
       "      <td>0.0</td>\n",
       "      <td>0.0</td>\n",
       "      <td>0.0</td>\n",
       "      <td>0.0</td>\n",
       "      <td>0.0</td>\n",
       "      <td>0.0</td>\n",
       "      <td>0.0</td>\n",
       "      <td>0.0</td>\n",
       "      <td>0.0</td>\n",
       "      <td>0.0</td>\n",
       "      <td>0.0</td>\n",
       "      <td>0.0</td>\n",
       "      <td>0.0</td>\n",
       "    </tr>\n",
       "    <tr>\n",
       "      <th>376424</th>\n",
       "      <td>test</td>\n",
       "      <td>395752</td>\n",
       "      <td>23/04/2012</td>\n",
       "      <td>0</td>\n",
       "      <td>0.0</td>\n",
       "      <td>0.0</td>\n",
       "      <td>0.0</td>\n",
       "      <td>0.0</td>\n",
       "      <td>1.0</td>\n",
       "      <td>1.0</td>\n",
       "      <td>0.0</td>\n",
       "      <td>0.0</td>\n",
       "      <td>0.0</td>\n",
       "      <td>0.0</td>\n",
       "      <td>0.0</td>\n",
       "      <td>0.0</td>\n",
       "      <td>0.0</td>\n",
       "    </tr>\n",
       "    <tr>\n",
       "      <th>376425</th>\n",
       "      <td>test</td>\n",
       "      <td>434377</td>\n",
       "      <td>03/09/2012</td>\n",
       "      <td>0</td>\n",
       "      <td>0.0</td>\n",
       "      <td>0.0</td>\n",
       "      <td>0.0</td>\n",
       "      <td>0.0</td>\n",
       "      <td>0.0</td>\n",
       "      <td>0.0</td>\n",
       "      <td>0.0</td>\n",
       "      <td>0.0</td>\n",
       "      <td>0.0</td>\n",
       "      <td>0.0</td>\n",
       "      <td>0.0</td>\n",
       "      <td>0.0</td>\n",
       "      <td>0.0</td>\n",
       "    </tr>\n",
       "    <tr>\n",
       "      <th>376426</th>\n",
       "      <td>test</td>\n",
       "      <td>384590</td>\n",
       "      <td>10/09/2000</td>\n",
       "      <td>0</td>\n",
       "      <td>0.0</td>\n",
       "      <td>0.0</td>\n",
       "      <td>0.0</td>\n",
       "      <td>0.0</td>\n",
       "      <td>0.0</td>\n",
       "      <td>0.0</td>\n",
       "      <td>0.0</td>\n",
       "      <td>0.0</td>\n",
       "      <td>0.0</td>\n",
       "      <td>0.0</td>\n",
       "      <td>0.0</td>\n",
       "      <td>0.0</td>\n",
       "      <td>0.0</td>\n",
       "    </tr>\n",
       "    <tr>\n",
       "      <th>376427</th>\n",
       "      <td>test</td>\n",
       "      <td>332247</td>\n",
       "      <td>16/05/2001</td>\n",
       "      <td>0</td>\n",
       "      <td>0.0</td>\n",
       "      <td>0.0</td>\n",
       "      <td>0.0</td>\n",
       "      <td>0.0</td>\n",
       "      <td>0.0</td>\n",
       "      <td>0.0</td>\n",
       "      <td>0.0</td>\n",
       "      <td>0.0</td>\n",
       "      <td>0.0</td>\n",
       "      <td>0.0</td>\n",
       "      <td>0.0</td>\n",
       "      <td>0.0</td>\n",
       "      <td>0.0</td>\n",
       "    </tr>\n",
       "  </tbody>\n",
       "</table>\n",
       "<p>376428 rows × 17 columns</p>\n",
       "</div>"
      ],
      "text/plain": [
       "       sample  reading       dates  one_year_until_death  CVA  \\\n",
       "0       train   427805  20/01/2008                     0  0.0   \n",
       "1       train   356921  23/02/2010                     0  0.0   \n",
       "2       train   428248  19/12/2015                     0  0.0   \n",
       "3       train   440621  18/08/2017                     0  0.0   \n",
       "4       train    32229  10/07/2019                     0  0.0   \n",
       "...       ...      ...         ...                   ...  ...   \n",
       "376423   test   387849  01/04/2001                     0  0.0   \n",
       "376424   test   395752  23/04/2012                     0  0.0   \n",
       "376425   test   434377  03/09/2012                     0  0.0   \n",
       "376426   test   384590  10/09/2000                     0  0.0   \n",
       "376427   test   332247  16/05/2001                     0  0.0   \n",
       "\n",
       "        first_AF_in_home_ECG  first_AF_in_Dispatch   AF  IHD  sp_MI_all  \\\n",
       "0                        1.0                   1.0  1.0  0.0        0.0   \n",
       "1                        0.0                   0.0  0.0  1.0        0.0   \n",
       "2                        0.0                   0.0  0.0  1.0        0.0   \n",
       "3                        1.0                   1.0  1.0  0.0        0.0   \n",
       "4                        1.0                   1.0  1.0  1.0        0.0   \n",
       "...                      ...                   ...  ...  ...        ...   \n",
       "376423                   0.0                   0.0  0.0  0.0        0.0   \n",
       "376424                   0.0                   0.0  0.0  1.0        1.0   \n",
       "376425                   0.0                   0.0  0.0  0.0        0.0   \n",
       "376426                   0.0                   0.0  0.0  0.0        0.0   \n",
       "376427                   0.0                   0.0  0.0  0.0        0.0   \n",
       "\n",
       "        sp_CABG  CHF  sp_CPR  cpr_shl  DM2  AF2   DM  \n",
       "0           0.0  0.0     0.0      0.0  0.0  1.0  0.0  \n",
       "1           1.0  0.0     0.0      0.0  1.0  0.0  1.0  \n",
       "2           0.0  0.0     0.0      0.0  0.0  0.0  0.0  \n",
       "3           0.0  0.0     0.0      0.0  0.0  1.0  0.0  \n",
       "4           0.0  0.0     0.0      0.0  1.0  1.0  1.0  \n",
       "...         ...  ...     ...      ...  ...  ...  ...  \n",
       "376423      0.0  0.0     0.0      0.0  0.0  0.0  0.0  \n",
       "376424      0.0  0.0     0.0      0.0  0.0  0.0  0.0  \n",
       "376425      0.0  0.0     0.0      0.0  0.0  0.0  0.0  \n",
       "376426      0.0  0.0     0.0      0.0  0.0  0.0  0.0  \n",
       "376427      0.0  0.0     0.0      0.0  0.0  0.0  0.0  \n",
       "\n",
       "[376428 rows x 17 columns]"
      ]
     },
     "execution_count": 17,
     "metadata": {},
     "output_type": "execute_result"
    }
   ],
   "source": [
    "metadata"
   ]
  },
  {
   "cell_type": "code",
   "execution_count": 52,
   "metadata": {},
   "outputs": [
    {
     "name": "stdout",
     "output_type": "stream",
     "text": [
      "torch.Size([128, 30])\n"
     ]
    }
   ],
   "source": [
    "import torch.nn as nn\n",
    "import torch.nn.functional as F\n",
    "import numpy as np\n",
    "\n",
    "m = nn.Linear(20, 30)\n",
    "input = torch.randn(128, 20)\n",
    "output = m(input)\n",
    "print(output.size())\n"
   ]
  },
  {
   "cell_type": "code",
   "execution_count": 58,
   "metadata": {},
   "outputs": [
    {
     "name": "stdout",
     "output_type": "stream",
     "text": [
      "input shape: torch.Size([32, 16, 450])\n"
     ]
    },
    {
     "data": {
      "text/plain": [
       "(torch.Size([32, 2, 450]), torch.Size([32, 2, 323]))"
      ]
     },
     "execution_count": 58,
     "metadata": {},
     "output_type": "execute_result"
    }
   ],
   "source": [
    "N=32;C=16;L=450\n",
    "in_channels = C\n",
    "out_channels = 2\n",
    "input = torch.randn(N,C,L)\n",
    "print('input shape:', input.shape)\n",
    "conv1d = nn.Conv1d(in_channels,out_channels,128)\n",
    "# padding\n",
    "\n",
    "x = conv1d(input)\n",
    "padding_size = 450-x.shape[-1]\n",
    "paddings = (int(np.floor(padding_size/2)),int(np.ceil(padding_size/2)))\n",
    "F.pad(x, paddings).shape, x.shape\n",
    "\n"
   ]
  },
  {
   "cell_type": "code",
   "execution_count": 55,
   "metadata": {},
   "outputs": [
    {
     "data": {
      "text/plain": [
       "(63.0, 64.0)"
      ]
     },
     "execution_count": 55,
     "metadata": {},
     "output_type": "execute_result"
    }
   ],
   "source": [
    "paddings"
   ]
  },
  {
   "cell_type": "code",
   "execution_count": 59,
   "metadata": {},
   "outputs": [
    {
     "data": {
      "text/plain": [
       "DM\n",
       "0.0    31964\n",
       "1.0     5679\n",
       "Name: count, dtype: int64"
      ]
     },
     "execution_count": 59,
     "metadata": {},
     "output_type": "execute_result"
    }
   ],
   "source": [
    "metadata_sample = pd.read_csv('./data/combined_data/metadata_sample_for_testing.csv',index_col=0)\n",
    "metadata_sample['DM'].value_counts()"
   ]
  },
  {
   "cell_type": "code",
   "execution_count": 60,
   "metadata": {},
   "outputs": [
    {
     "data": {
      "text/plain": [
       "DM\n",
       "0.0    0.849135\n",
       "1.0    0.150865\n",
       "Name: proportion, dtype: float64"
      ]
     },
     "execution_count": 60,
     "metadata": {},
     "output_type": "execute_result"
    }
   ],
   "source": [
    "metadata_sample['DM'].value_counts(normalize=True)"
   ]
  },
  {
   "cell_type": "code",
   "execution_count": null,
   "metadata": {},
   "outputs": [],
   "source": []
  }
 ],
 "metadata": {
  "kernelspec": {
   "display_name": "Python 3",
   "language": "python",
   "name": "python3"
  },
  "language_info": {
   "codemirror_mode": {
    "name": "ipython",
    "version": 3
   },
   "file_extension": ".py",
   "mimetype": "text/x-python",
   "name": "python",
   "nbconvert_exporter": "python",
   "pygments_lexer": "ipython3",
   "version": "3.9.12"
  },
  "orig_nbformat": 4
 },
 "nbformat": 4,
 "nbformat_minor": 2
}
